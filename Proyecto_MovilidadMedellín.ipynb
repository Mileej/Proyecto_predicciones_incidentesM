{
  "cells": [
    {
      "cell_type": "markdown",
      "metadata": {
        "id": "view-in-github",
        "colab_type": "text"
      },
      "source": [
        "<a href=\"https://colab.research.google.com/github/Mileej/Proyecto_predicciones_incidentesM/blob/main/Proyecto_MovilidadMedell%C3%ADn.ipynb\" target=\"_parent\"><img src=\"https://colab.research.google.com/assets/colab-badge.svg\" alt=\"Open In Colab\"/></a>"
      ]
    },
    {
      "cell_type": "markdown",
      "metadata": {
        "id": "WAdny-OfqLiU"
      },
      "source": [
        "#  FUENTE DE LOS DATOS\n",
        "\n",
        "**Incidentes de movilidad Medellín**\n",
        "tomado de: https://geomedellin-m-medellin.opendata.arcgis.com/datasets/M-Medellin::incidentes-georreferenciados-2022-gdb/explore?location=6.247704%2C-75.588628%2C12.68"
      ]
    },
    {
      "cell_type": "markdown",
      "metadata": {
        "id": "KZUH5Y3h-e3E"
      },
      "source": [
        "Descripción: Los datos presentan información de accidentes de tránsito registrados por la Secretaría de movilidad de la Alcaldía de Medellín, en el año 2022\n"
      ]
    },
    {
      "cell_type": "code",
      "execution_count": null,
      "metadata": {
        "id": "KVqdnrffqIhT"
      },
      "outputs": [],
      "source": [
        "#libreria inicial\n",
        "import pandas as pd"
      ]
    },
    {
      "cell_type": "code",
      "execution_count": null,
      "metadata": {
        "colab": {
          "base_uri": "https://localhost:8080/",
          "height": 384
        },
        "id": "jfkgHIR2q3Qz",
        "outputId": "a00bdeed-eb6e-4b6f-c61f-41d798774353"
      },
      "outputs": [
        {
          "output_type": "execute_result",
          "data": {
            "text/plain": [
              "           X         Y  OBJECTID  RADICADO      HORA DIA_NOMBRE  PERIODO  \\\n",
              "0 -75.592351  6.243512         1   1783170  08:05:00  MIÉRCOLES     2022   \n",
              "1 -75.579832  6.230514         2   1783476  17:30:00  MIÉRCOLES     2022   \n",
              "2 -75.599001  6.269136         3   1789709  17:00:00  MIÉRCOLES     2022   \n",
              "3 -75.573979  6.232882         4   1793934  13:30:00  DOMINGO       2022   \n",
              "4 -75.703816  6.221806         5   1791043  06:45:00  MIÉRCOLES     2022   \n",
              "\n",
              "    CLASE                  DIRECCION               DIRECCION_ENC  ...  \\\n",
              "0  Choque  Circular 2 Con Carrera 74    CQ  002   074  000 00000  ...   \n",
              "1  Choque  Carrera 55 Con Calle 29 C  CR  055   029 C  000 00000  ...   \n",
              "2  Choque    Calle 54 Con Carrera 83    CL  054   083  000 00000  ...   \n",
              "3  Choque    Carrera 49 Con Calle 31    CR  049   031  000 00000  ...   \n",
              "4    Otro   Carrera 30 Con Calle 8 A                           0  ...   \n",
              "\n",
              "             COMUNA         DISENO MES DIA                   FECHA  \\\n",
              "0  Laureles Estadio   Interseccion   3  16  2022/03/16 00:00:00+00   \n",
              "1          Guayabal   Interseccion   3  16  2022/03/16 00:00:00+00   \n",
              "2        San Javier   Interseccion   5   4  2022/05/04 00:00:00+00   \n",
              "3     La Candelaria   Tramo de via   6  12  2022/06/12 00:00:00+00   \n",
              "4               NaN  Lote o Predio   5  18  2022/05/18 00:00:00+00   \n",
              "\n",
              "   MES_NOMBRE X_MAGNAMED  Y_MAGNAMED   LONGITUD   LATITUD  \n",
              "0  MARZO       832338.65  1182399.08 -75.592351  6.243512  \n",
              "1  MARZO       833724.32  1180961.28 -75.579832  6.230514  \n",
              "2  MAYO        831602.70  1185233.45 -75.599001  6.269136  \n",
              "3  JUNIO       834372.23  1181223.19 -75.573979  6.232882  \n",
              "4  MAYO        820000.00  1180000.00 -75.703816  6.221806  \n",
              "\n",
              "[5 rows x 25 columns]"
            ],
            "text/html": [
              "\n",
              "  <div id=\"df-20a084a9-e0a0-408c-811e-f40d9f3cca85\">\n",
              "    <div class=\"colab-df-container\">\n",
              "      <div>\n",
              "<style scoped>\n",
              "    .dataframe tbody tr th:only-of-type {\n",
              "        vertical-align: middle;\n",
              "    }\n",
              "\n",
              "    .dataframe tbody tr th {\n",
              "        vertical-align: top;\n",
              "    }\n",
              "\n",
              "    .dataframe thead th {\n",
              "        text-align: right;\n",
              "    }\n",
              "</style>\n",
              "<table border=\"1\" class=\"dataframe\">\n",
              "  <thead>\n",
              "    <tr style=\"text-align: right;\">\n",
              "      <th></th>\n",
              "      <th>X</th>\n",
              "      <th>Y</th>\n",
              "      <th>OBJECTID</th>\n",
              "      <th>RADICADO</th>\n",
              "      <th>HORA</th>\n",
              "      <th>DIA_NOMBRE</th>\n",
              "      <th>PERIODO</th>\n",
              "      <th>CLASE</th>\n",
              "      <th>DIRECCION</th>\n",
              "      <th>DIRECCION_ENC</th>\n",
              "      <th>...</th>\n",
              "      <th>COMUNA</th>\n",
              "      <th>DISENO</th>\n",
              "      <th>MES</th>\n",
              "      <th>DIA</th>\n",
              "      <th>FECHA</th>\n",
              "      <th>MES_NOMBRE</th>\n",
              "      <th>X_MAGNAMED</th>\n",
              "      <th>Y_MAGNAMED</th>\n",
              "      <th>LONGITUD</th>\n",
              "      <th>LATITUD</th>\n",
              "    </tr>\n",
              "  </thead>\n",
              "  <tbody>\n",
              "    <tr>\n",
              "      <th>0</th>\n",
              "      <td>-75.592351</td>\n",
              "      <td>6.243512</td>\n",
              "      <td>1</td>\n",
              "      <td>1783170</td>\n",
              "      <td>08:05:00</td>\n",
              "      <td>MIÉRCOLES</td>\n",
              "      <td>2022</td>\n",
              "      <td>Choque</td>\n",
              "      <td>Circular 2 Con Carrera 74</td>\n",
              "      <td>CQ  002   074  000 00000</td>\n",
              "      <td>...</td>\n",
              "      <td>Laureles Estadio</td>\n",
              "      <td>Interseccion</td>\n",
              "      <td>3</td>\n",
              "      <td>16</td>\n",
              "      <td>2022/03/16 00:00:00+00</td>\n",
              "      <td>MARZO</td>\n",
              "      <td>832338.65</td>\n",
              "      <td>1182399.08</td>\n",
              "      <td>-75.592351</td>\n",
              "      <td>6.243512</td>\n",
              "    </tr>\n",
              "    <tr>\n",
              "      <th>1</th>\n",
              "      <td>-75.579832</td>\n",
              "      <td>6.230514</td>\n",
              "      <td>2</td>\n",
              "      <td>1783476</td>\n",
              "      <td>17:30:00</td>\n",
              "      <td>MIÉRCOLES</td>\n",
              "      <td>2022</td>\n",
              "      <td>Choque</td>\n",
              "      <td>Carrera 55 Con Calle 29 C</td>\n",
              "      <td>CR  055   029 C  000 00000</td>\n",
              "      <td>...</td>\n",
              "      <td>Guayabal</td>\n",
              "      <td>Interseccion</td>\n",
              "      <td>3</td>\n",
              "      <td>16</td>\n",
              "      <td>2022/03/16 00:00:00+00</td>\n",
              "      <td>MARZO</td>\n",
              "      <td>833724.32</td>\n",
              "      <td>1180961.28</td>\n",
              "      <td>-75.579832</td>\n",
              "      <td>6.230514</td>\n",
              "    </tr>\n",
              "    <tr>\n",
              "      <th>2</th>\n",
              "      <td>-75.599001</td>\n",
              "      <td>6.269136</td>\n",
              "      <td>3</td>\n",
              "      <td>1789709</td>\n",
              "      <td>17:00:00</td>\n",
              "      <td>MIÉRCOLES</td>\n",
              "      <td>2022</td>\n",
              "      <td>Choque</td>\n",
              "      <td>Calle 54 Con Carrera 83</td>\n",
              "      <td>CL  054   083  000 00000</td>\n",
              "      <td>...</td>\n",
              "      <td>San Javier</td>\n",
              "      <td>Interseccion</td>\n",
              "      <td>5</td>\n",
              "      <td>4</td>\n",
              "      <td>2022/05/04 00:00:00+00</td>\n",
              "      <td>MAYO</td>\n",
              "      <td>831602.70</td>\n",
              "      <td>1185233.45</td>\n",
              "      <td>-75.599001</td>\n",
              "      <td>6.269136</td>\n",
              "    </tr>\n",
              "    <tr>\n",
              "      <th>3</th>\n",
              "      <td>-75.573979</td>\n",
              "      <td>6.232882</td>\n",
              "      <td>4</td>\n",
              "      <td>1793934</td>\n",
              "      <td>13:30:00</td>\n",
              "      <td>DOMINGO</td>\n",
              "      <td>2022</td>\n",
              "      <td>Choque</td>\n",
              "      <td>Carrera 49 Con Calle 31</td>\n",
              "      <td>CR  049   031  000 00000</td>\n",
              "      <td>...</td>\n",
              "      <td>La Candelaria</td>\n",
              "      <td>Tramo de via</td>\n",
              "      <td>6</td>\n",
              "      <td>12</td>\n",
              "      <td>2022/06/12 00:00:00+00</td>\n",
              "      <td>JUNIO</td>\n",
              "      <td>834372.23</td>\n",
              "      <td>1181223.19</td>\n",
              "      <td>-75.573979</td>\n",
              "      <td>6.232882</td>\n",
              "    </tr>\n",
              "    <tr>\n",
              "      <th>4</th>\n",
              "      <td>-75.703816</td>\n",
              "      <td>6.221806</td>\n",
              "      <td>5</td>\n",
              "      <td>1791043</td>\n",
              "      <td>06:45:00</td>\n",
              "      <td>MIÉRCOLES</td>\n",
              "      <td>2022</td>\n",
              "      <td>Otro</td>\n",
              "      <td>Carrera 30 Con Calle 8 A</td>\n",
              "      <td>0</td>\n",
              "      <td>...</td>\n",
              "      <td>NaN</td>\n",
              "      <td>Lote o Predio</td>\n",
              "      <td>5</td>\n",
              "      <td>18</td>\n",
              "      <td>2022/05/18 00:00:00+00</td>\n",
              "      <td>MAYO</td>\n",
              "      <td>820000.00</td>\n",
              "      <td>1180000.00</td>\n",
              "      <td>-75.703816</td>\n",
              "      <td>6.221806</td>\n",
              "    </tr>\n",
              "  </tbody>\n",
              "</table>\n",
              "<p>5 rows × 25 columns</p>\n",
              "</div>\n",
              "      <button class=\"colab-df-convert\" onclick=\"convertToInteractive('df-20a084a9-e0a0-408c-811e-f40d9f3cca85')\"\n",
              "              title=\"Convert this dataframe to an interactive table.\"\n",
              "              style=\"display:none;\">\n",
              "        \n",
              "  <svg xmlns=\"http://www.w3.org/2000/svg\" height=\"24px\"viewBox=\"0 0 24 24\"\n",
              "       width=\"24px\">\n",
              "    <path d=\"M0 0h24v24H0V0z\" fill=\"none\"/>\n",
              "    <path d=\"M18.56 5.44l.94 2.06.94-2.06 2.06-.94-2.06-.94-.94-2.06-.94 2.06-2.06.94zm-11 1L8.5 8.5l.94-2.06 2.06-.94-2.06-.94L8.5 2.5l-.94 2.06-2.06.94zm10 10l.94 2.06.94-2.06 2.06-.94-2.06-.94-.94-2.06-.94 2.06-2.06.94z\"/><path d=\"M17.41 7.96l-1.37-1.37c-.4-.4-.92-.59-1.43-.59-.52 0-1.04.2-1.43.59L10.3 9.45l-7.72 7.72c-.78.78-.78 2.05 0 2.83L4 21.41c.39.39.9.59 1.41.59.51 0 1.02-.2 1.41-.59l7.78-7.78 2.81-2.81c.8-.78.8-2.07 0-2.86zM5.41 20L4 18.59l7.72-7.72 1.47 1.35L5.41 20z\"/>\n",
              "  </svg>\n",
              "      </button>\n",
              "      \n",
              "  <style>\n",
              "    .colab-df-container {\n",
              "      display:flex;\n",
              "      flex-wrap:wrap;\n",
              "      gap: 12px;\n",
              "    }\n",
              "\n",
              "    .colab-df-convert {\n",
              "      background-color: #E8F0FE;\n",
              "      border: none;\n",
              "      border-radius: 50%;\n",
              "      cursor: pointer;\n",
              "      display: none;\n",
              "      fill: #1967D2;\n",
              "      height: 32px;\n",
              "      padding: 0 0 0 0;\n",
              "      width: 32px;\n",
              "    }\n",
              "\n",
              "    .colab-df-convert:hover {\n",
              "      background-color: #E2EBFA;\n",
              "      box-shadow: 0px 1px 2px rgba(60, 64, 67, 0.3), 0px 1px 3px 1px rgba(60, 64, 67, 0.15);\n",
              "      fill: #174EA6;\n",
              "    }\n",
              "\n",
              "    [theme=dark] .colab-df-convert {\n",
              "      background-color: #3B4455;\n",
              "      fill: #D2E3FC;\n",
              "    }\n",
              "\n",
              "    [theme=dark] .colab-df-convert:hover {\n",
              "      background-color: #434B5C;\n",
              "      box-shadow: 0px 1px 3px 1px rgba(0, 0, 0, 0.15);\n",
              "      filter: drop-shadow(0px 1px 2px rgba(0, 0, 0, 0.3));\n",
              "      fill: #FFFFFF;\n",
              "    }\n",
              "  </style>\n",
              "\n",
              "      <script>\n",
              "        const buttonEl =\n",
              "          document.querySelector('#df-20a084a9-e0a0-408c-811e-f40d9f3cca85 button.colab-df-convert');\n",
              "        buttonEl.style.display =\n",
              "          google.colab.kernel.accessAllowed ? 'block' : 'none';\n",
              "\n",
              "        async function convertToInteractive(key) {\n",
              "          const element = document.querySelector('#df-20a084a9-e0a0-408c-811e-f40d9f3cca85');\n",
              "          const dataTable =\n",
              "            await google.colab.kernel.invokeFunction('convertToInteractive',\n",
              "                                                     [key], {});\n",
              "          if (!dataTable) return;\n",
              "\n",
              "          const docLinkHtml = 'Like what you see? Visit the ' +\n",
              "            '<a target=\"_blank\" href=https://colab.research.google.com/notebooks/data_table.ipynb>data table notebook</a>'\n",
              "            + ' to learn more about interactive tables.';\n",
              "          element.innerHTML = '';\n",
              "          dataTable['output_type'] = 'display_data';\n",
              "          await google.colab.output.renderOutput(dataTable, element);\n",
              "          const docLink = document.createElement('div');\n",
              "          docLink.innerHTML = docLinkHtml;\n",
              "          element.appendChild(docLink);\n",
              "        }\n",
              "      </script>\n",
              "    </div>\n",
              "  </div>\n",
              "  "
            ]
          },
          "metadata": {},
          "execution_count": 181
        }
      ],
      "source": [
        "df=pd.read_csv('/content/drive/MyDrive/Semestre 2022-2/CODING_DOJO_DS/Advanced_ML/Proyecto 2/movilidad_incidentes_2022_gdb.csv')\n",
        "df.head()"
      ]
    },
    {
      "cell_type": "markdown",
      "metadata": {
        "id": "aUj4hy3G_Wr6"
      },
      "source": [
        "Objetivo: Predecir la graverdad de los accidentes ocurridos en este año y como se relaciona con las variables como tipo de accidente, ubicación el accidente, el dia, el barrio y las otras variables pertinentes\n",
        "\n",
        "**Tipo de modelo**: **Clasificación multivariable**"
      ]
    },
    {
      "cell_type": "markdown",
      "metadata": {
        "id": "NJAydfS4rNDJ"
      },
      "source": [
        "# Exploración inicial "
      ]
    },
    {
      "cell_type": "code",
      "execution_count": null,
      "metadata": {
        "colab": {
          "base_uri": "https://localhost:8080/"
        },
        "id": "vaDY4YCrrL7h",
        "outputId": "f9b3849c-29c5-431a-e54c-f4781e06dfd3"
      },
      "outputs": [
        {
          "output_type": "stream",
          "name": "stdout",
          "text": [
            "<class 'pandas.core.frame.DataFrame'>\n",
            "RangeIndex: 23577 entries, 0 to 23576\n",
            "Data columns (total 25 columns):\n",
            " #   Column         Non-Null Count  Dtype  \n",
            "---  ------         --------------  -----  \n",
            " 0   X              23577 non-null  float64\n",
            " 1   Y              23577 non-null  float64\n",
            " 2   OBJECTID       23577 non-null  int64  \n",
            " 3   RADICADO       23577 non-null  int64  \n",
            " 4   HORA           23577 non-null  object \n",
            " 5   DIA_NOMBRE     23577 non-null  object \n",
            " 6   PERIODO        23577 non-null  int64  \n",
            " 7   CLASE          23577 non-null  object \n",
            " 8   DIRECCION      23577 non-null  object \n",
            " 9   DIRECCION_ENC  23577 non-null  object \n",
            " 10  CBML           23577 non-null  object \n",
            " 11  TIPO_GEOCOD    23577 non-null  object \n",
            " 12  EXPEDIENTE     23577 non-null  object \n",
            " 13  GRAVEDAD       23577 non-null  object \n",
            " 14  BARRIO         21794 non-null  object \n",
            " 15  COMUNA         21794 non-null  object \n",
            " 16  DISENO         23577 non-null  object \n",
            " 17  MES            23577 non-null  int64  \n",
            " 18  DIA            23577 non-null  int64  \n",
            " 19  FECHA          23577 non-null  object \n",
            " 20  MES_NOMBRE     23577 non-null  object \n",
            " 21  X_MAGNAMED     23577 non-null  float64\n",
            " 22  Y_MAGNAMED     23577 non-null  float64\n",
            " 23  LONGITUD       23577 non-null  float64\n",
            " 24  LATITUD        23577 non-null  float64\n",
            "dtypes: float64(6), int64(5), object(14)\n",
            "memory usage: 4.5+ MB\n"
          ]
        }
      ],
      "source": [
        "df.info()"
      ]
    },
    {
      "cell_type": "code",
      "execution_count": null,
      "metadata": {
        "colab": {
          "base_uri": "https://localhost:8080/"
        },
        "id": "Rcm5JVaJpWrv",
        "outputId": "a7da66fa-26aa-4207-fa9f-38e8ca587c73"
      },
      "outputs": [
        {
          "output_type": "execute_result",
          "data": {
            "text/plain": [
              "(23577, 25)"
            ]
          },
          "metadata": {},
          "execution_count": 183
        }
      ],
      "source": [
        "#cantidad de filas y columnas \n",
        "df.shape"
      ]
    },
    {
      "cell_type": "code",
      "execution_count": null,
      "metadata": {
        "colab": {
          "base_uri": "https://localhost:8080/"
        },
        "id": "438PY2C27eeR",
        "outputId": "1ea767e4-d18d-4ae8-a732-0f111984797e"
      },
      "outputs": [
        {
          "output_type": "execute_result",
          "data": {
            "text/plain": [
              "Index(['X', 'Y', 'OBJECTID', 'RADICADO', 'HORA', 'DIA_NOMBRE', 'PERIODO',\n",
              "       'CLASE', 'DIRECCION', 'DIRECCION_ENC', 'CBML', 'TIPO_GEOCOD',\n",
              "       'EXPEDIENTE', 'GRAVEDAD', 'BARRIO', 'COMUNA', 'DISENO', 'MES', 'DIA',\n",
              "       'FECHA', 'MES_NOMBRE', 'X_MAGNAMED', 'Y_MAGNAMED', 'LONGITUD',\n",
              "       'LATITUD'],\n",
              "      dtype='object')"
            ]
          },
          "metadata": {},
          "execution_count": 184
        }
      ],
      "source": [
        "df.columns"
      ]
    },
    {
      "cell_type": "code",
      "execution_count": null,
      "metadata": {
        "id": "f2dXHAtFrfRZ"
      },
      "outputs": [],
      "source": [
        "#Eliminar columnas que no consideraremos en el ánalisis por que o están repetidas o hay otra que las abarga \n",
        "df=df.drop(columns=['X','Y','OBJECTID','RADICADO','X_MAGNAMED','Y_MAGNAMED','DIRECCION','DIRECCION_ENC','EXPEDIENTE','PERIODO','MES_NOMBRE', 'CBML'])"
      ]
    },
    {
      "cell_type": "code",
      "execution_count": null,
      "metadata": {
        "colab": {
          "base_uri": "https://localhost:8080/",
          "height": 206
        },
        "id": "nbHKsihi8BQI",
        "outputId": "bfea7fc6-75b5-4c23-974c-4b46e69146cb"
      },
      "outputs": [
        {
          "output_type": "execute_result",
          "data": {
            "text/plain": [
              "       HORA DIA_NOMBRE   CLASE                      TIPO_GEOCOD    GRAVEDAD  \\\n",
              "0  08:05:00  MIÉRCOLES  Choque                       Malla vial      HERIDO   \n",
              "1  17:30:00  MIÉRCOLES  Choque                       Malla vial      MUERTO   \n",
              "2  17:00:00  MIÉRCOLES  Choque                       Malla vial  SOLO DAÑOS   \n",
              "3  13:30:00  DOMINGO    Choque  Malla vial aproximada: CR 48-31      HERIDO   \n",
              "4  06:45:00  MIÉRCOLES    Otro                       No Ubicada      HERIDO   \n",
              "\n",
              "             BARRIO            COMUNA         DISENO  MES  DIA  \\\n",
              "0       Bolivariana  Laureles Estadio   Interseccion    3   16   \n",
              "1            Tenche          Guayabal   Interseccion    3   16   \n",
              "2        El Pesebre        San Javier   Interseccion    5    4   \n",
              "3  Perpetuo Socorro     La Candelaria   Tramo de via    6   12   \n",
              "4               NaN               NaN  Lote o Predio    5   18   \n",
              "\n",
              "                    FECHA   LONGITUD   LATITUD  \n",
              "0  2022/03/16 00:00:00+00 -75.592351  6.243512  \n",
              "1  2022/03/16 00:00:00+00 -75.579832  6.230514  \n",
              "2  2022/05/04 00:00:00+00 -75.599001  6.269136  \n",
              "3  2022/06/12 00:00:00+00 -75.573979  6.232882  \n",
              "4  2022/05/18 00:00:00+00 -75.703816  6.221806  "
            ],
            "text/html": [
              "\n",
              "  <div id=\"df-b98f99ba-5046-4c8b-bd84-c4ca067a2df8\">\n",
              "    <div class=\"colab-df-container\">\n",
              "      <div>\n",
              "<style scoped>\n",
              "    .dataframe tbody tr th:only-of-type {\n",
              "        vertical-align: middle;\n",
              "    }\n",
              "\n",
              "    .dataframe tbody tr th {\n",
              "        vertical-align: top;\n",
              "    }\n",
              "\n",
              "    .dataframe thead th {\n",
              "        text-align: right;\n",
              "    }\n",
              "</style>\n",
              "<table border=\"1\" class=\"dataframe\">\n",
              "  <thead>\n",
              "    <tr style=\"text-align: right;\">\n",
              "      <th></th>\n",
              "      <th>HORA</th>\n",
              "      <th>DIA_NOMBRE</th>\n",
              "      <th>CLASE</th>\n",
              "      <th>TIPO_GEOCOD</th>\n",
              "      <th>GRAVEDAD</th>\n",
              "      <th>BARRIO</th>\n",
              "      <th>COMUNA</th>\n",
              "      <th>DISENO</th>\n",
              "      <th>MES</th>\n",
              "      <th>DIA</th>\n",
              "      <th>FECHA</th>\n",
              "      <th>LONGITUD</th>\n",
              "      <th>LATITUD</th>\n",
              "    </tr>\n",
              "  </thead>\n",
              "  <tbody>\n",
              "    <tr>\n",
              "      <th>0</th>\n",
              "      <td>08:05:00</td>\n",
              "      <td>MIÉRCOLES</td>\n",
              "      <td>Choque</td>\n",
              "      <td>Malla vial</td>\n",
              "      <td>HERIDO</td>\n",
              "      <td>Bolivariana</td>\n",
              "      <td>Laureles Estadio</td>\n",
              "      <td>Interseccion</td>\n",
              "      <td>3</td>\n",
              "      <td>16</td>\n",
              "      <td>2022/03/16 00:00:00+00</td>\n",
              "      <td>-75.592351</td>\n",
              "      <td>6.243512</td>\n",
              "    </tr>\n",
              "    <tr>\n",
              "      <th>1</th>\n",
              "      <td>17:30:00</td>\n",
              "      <td>MIÉRCOLES</td>\n",
              "      <td>Choque</td>\n",
              "      <td>Malla vial</td>\n",
              "      <td>MUERTO</td>\n",
              "      <td>Tenche</td>\n",
              "      <td>Guayabal</td>\n",
              "      <td>Interseccion</td>\n",
              "      <td>3</td>\n",
              "      <td>16</td>\n",
              "      <td>2022/03/16 00:00:00+00</td>\n",
              "      <td>-75.579832</td>\n",
              "      <td>6.230514</td>\n",
              "    </tr>\n",
              "    <tr>\n",
              "      <th>2</th>\n",
              "      <td>17:00:00</td>\n",
              "      <td>MIÉRCOLES</td>\n",
              "      <td>Choque</td>\n",
              "      <td>Malla vial</td>\n",
              "      <td>SOLO DAÑOS</td>\n",
              "      <td>El Pesebre</td>\n",
              "      <td>San Javier</td>\n",
              "      <td>Interseccion</td>\n",
              "      <td>5</td>\n",
              "      <td>4</td>\n",
              "      <td>2022/05/04 00:00:00+00</td>\n",
              "      <td>-75.599001</td>\n",
              "      <td>6.269136</td>\n",
              "    </tr>\n",
              "    <tr>\n",
              "      <th>3</th>\n",
              "      <td>13:30:00</td>\n",
              "      <td>DOMINGO</td>\n",
              "      <td>Choque</td>\n",
              "      <td>Malla vial aproximada: CR 48-31</td>\n",
              "      <td>HERIDO</td>\n",
              "      <td>Perpetuo Socorro</td>\n",
              "      <td>La Candelaria</td>\n",
              "      <td>Tramo de via</td>\n",
              "      <td>6</td>\n",
              "      <td>12</td>\n",
              "      <td>2022/06/12 00:00:00+00</td>\n",
              "      <td>-75.573979</td>\n",
              "      <td>6.232882</td>\n",
              "    </tr>\n",
              "    <tr>\n",
              "      <th>4</th>\n",
              "      <td>06:45:00</td>\n",
              "      <td>MIÉRCOLES</td>\n",
              "      <td>Otro</td>\n",
              "      <td>No Ubicada</td>\n",
              "      <td>HERIDO</td>\n",
              "      <td>NaN</td>\n",
              "      <td>NaN</td>\n",
              "      <td>Lote o Predio</td>\n",
              "      <td>5</td>\n",
              "      <td>18</td>\n",
              "      <td>2022/05/18 00:00:00+00</td>\n",
              "      <td>-75.703816</td>\n",
              "      <td>6.221806</td>\n",
              "    </tr>\n",
              "  </tbody>\n",
              "</table>\n",
              "</div>\n",
              "      <button class=\"colab-df-convert\" onclick=\"convertToInteractive('df-b98f99ba-5046-4c8b-bd84-c4ca067a2df8')\"\n",
              "              title=\"Convert this dataframe to an interactive table.\"\n",
              "              style=\"display:none;\">\n",
              "        \n",
              "  <svg xmlns=\"http://www.w3.org/2000/svg\" height=\"24px\"viewBox=\"0 0 24 24\"\n",
              "       width=\"24px\">\n",
              "    <path d=\"M0 0h24v24H0V0z\" fill=\"none\"/>\n",
              "    <path d=\"M18.56 5.44l.94 2.06.94-2.06 2.06-.94-2.06-.94-.94-2.06-.94 2.06-2.06.94zm-11 1L8.5 8.5l.94-2.06 2.06-.94-2.06-.94L8.5 2.5l-.94 2.06-2.06.94zm10 10l.94 2.06.94-2.06 2.06-.94-2.06-.94-.94-2.06-.94 2.06-2.06.94z\"/><path d=\"M17.41 7.96l-1.37-1.37c-.4-.4-.92-.59-1.43-.59-.52 0-1.04.2-1.43.59L10.3 9.45l-7.72 7.72c-.78.78-.78 2.05 0 2.83L4 21.41c.39.39.9.59 1.41.59.51 0 1.02-.2 1.41-.59l7.78-7.78 2.81-2.81c.8-.78.8-2.07 0-2.86zM5.41 20L4 18.59l7.72-7.72 1.47 1.35L5.41 20z\"/>\n",
              "  </svg>\n",
              "      </button>\n",
              "      \n",
              "  <style>\n",
              "    .colab-df-container {\n",
              "      display:flex;\n",
              "      flex-wrap:wrap;\n",
              "      gap: 12px;\n",
              "    }\n",
              "\n",
              "    .colab-df-convert {\n",
              "      background-color: #E8F0FE;\n",
              "      border: none;\n",
              "      border-radius: 50%;\n",
              "      cursor: pointer;\n",
              "      display: none;\n",
              "      fill: #1967D2;\n",
              "      height: 32px;\n",
              "      padding: 0 0 0 0;\n",
              "      width: 32px;\n",
              "    }\n",
              "\n",
              "    .colab-df-convert:hover {\n",
              "      background-color: #E2EBFA;\n",
              "      box-shadow: 0px 1px 2px rgba(60, 64, 67, 0.3), 0px 1px 3px 1px rgba(60, 64, 67, 0.15);\n",
              "      fill: #174EA6;\n",
              "    }\n",
              "\n",
              "    [theme=dark] .colab-df-convert {\n",
              "      background-color: #3B4455;\n",
              "      fill: #D2E3FC;\n",
              "    }\n",
              "\n",
              "    [theme=dark] .colab-df-convert:hover {\n",
              "      background-color: #434B5C;\n",
              "      box-shadow: 0px 1px 3px 1px rgba(0, 0, 0, 0.15);\n",
              "      filter: drop-shadow(0px 1px 2px rgba(0, 0, 0, 0.3));\n",
              "      fill: #FFFFFF;\n",
              "    }\n",
              "  </style>\n",
              "\n",
              "      <script>\n",
              "        const buttonEl =\n",
              "          document.querySelector('#df-b98f99ba-5046-4c8b-bd84-c4ca067a2df8 button.colab-df-convert');\n",
              "        buttonEl.style.display =\n",
              "          google.colab.kernel.accessAllowed ? 'block' : 'none';\n",
              "\n",
              "        async function convertToInteractive(key) {\n",
              "          const element = document.querySelector('#df-b98f99ba-5046-4c8b-bd84-c4ca067a2df8');\n",
              "          const dataTable =\n",
              "            await google.colab.kernel.invokeFunction('convertToInteractive',\n",
              "                                                     [key], {});\n",
              "          if (!dataTable) return;\n",
              "\n",
              "          const docLinkHtml = 'Like what you see? Visit the ' +\n",
              "            '<a target=\"_blank\" href=https://colab.research.google.com/notebooks/data_table.ipynb>data table notebook</a>'\n",
              "            + ' to learn more about interactive tables.';\n",
              "          element.innerHTML = '';\n",
              "          dataTable['output_type'] = 'display_data';\n",
              "          await google.colab.output.renderOutput(dataTable, element);\n",
              "          const docLink = document.createElement('div');\n",
              "          docLink.innerHTML = docLinkHtml;\n",
              "          element.appendChild(docLink);\n",
              "        }\n",
              "      </script>\n",
              "    </div>\n",
              "  </div>\n",
              "  "
            ]
          },
          "metadata": {},
          "execution_count": 186
        }
      ],
      "source": [
        "df.head()"
      ]
    },
    {
      "cell_type": "markdown",
      "metadata": {
        "id": "ejxmZbNolvna"
      },
      "source": [
        "⏰ Cambiar a formato de fecha"
      ]
    },
    {
      "cell_type": "code",
      "execution_count": null,
      "metadata": {
        "colab": {
          "base_uri": "https://localhost:8080/"
        },
        "id": "K8gg12IQlTOR",
        "outputId": "b920a00c-f943-42d8-9ef9-5da0e66773b3"
      },
      "outputs": [
        {
          "output_type": "stream",
          "name": "stdout",
          "text": [
            "<class 'pandas.core.frame.DataFrame'>\n",
            "RangeIndex: 23577 entries, 0 to 23576\n",
            "Data columns (total 13 columns):\n",
            " #   Column       Non-Null Count  Dtype         \n",
            "---  ------       --------------  -----         \n",
            " 0   HORA         23577 non-null  object        \n",
            " 1   DIA_NOMBRE   23577 non-null  object        \n",
            " 2   CLASE        23577 non-null  object        \n",
            " 3   TIPO_GEOCOD  23577 non-null  object        \n",
            " 4   GRAVEDAD     23577 non-null  object        \n",
            " 5   BARRIO       21794 non-null  object        \n",
            " 6   COMUNA       21794 non-null  object        \n",
            " 7   DISENO       23577 non-null  object        \n",
            " 8   MES          23577 non-null  int64         \n",
            " 9   DIA          23577 non-null  int64         \n",
            " 10  FECHA        23577 non-null  datetime64[ns]\n",
            " 11  LONGITUD     23577 non-null  float64       \n",
            " 12  LATITUD      23577 non-null  float64       \n",
            "dtypes: datetime64[ns](1), float64(2), int64(2), object(8)\n",
            "memory usage: 2.3+ MB\n"
          ]
        }
      ],
      "source": [
        "#Cambiar a formato de fechas y extraer cada una \n",
        "df['FECHA']=pd.to_datetime(df['FECHA'])\n",
        "df['FECHA']=df['FECHA'].dt.strftime('%Y-%m-%d')\n",
        "df['FECHA']=pd.to_datetime(df['FECHA'])\n",
        "df.info()"
      ]
    },
    {
      "cell_type": "code",
      "execution_count": null,
      "metadata": {
        "colab": {
          "base_uri": "https://localhost:8080/",
          "height": 206
        },
        "id": "PWsDM_fcssdV",
        "outputId": "b8992fcc-197f-4691-944e-cad6dd65d95f"
      },
      "outputs": [
        {
          "output_type": "execute_result",
          "data": {
            "text/plain": [
              "       HORA DIA_NOMBRE   CLASE                      TIPO_GEOCOD    GRAVEDAD  \\\n",
              "0  08:05:00  MIÉRCOLES  Choque                       Malla vial      HERIDO   \n",
              "1  17:30:00  MIÉRCOLES  Choque                       Malla vial      MUERTO   \n",
              "2  17:00:00  MIÉRCOLES  Choque                       Malla vial  SOLO DAÑOS   \n",
              "3  13:30:00  DOMINGO    Choque  Malla vial aproximada: CR 48-31      HERIDO   \n",
              "4  06:45:00  MIÉRCOLES    Otro                       No Ubicada      HERIDO   \n",
              "\n",
              "             BARRIO            COMUNA         DISENO  MES  DIA      FECHA  \\\n",
              "0       Bolivariana  Laureles Estadio   Interseccion    3   16 2022-03-16   \n",
              "1            Tenche          Guayabal   Interseccion    3   16 2022-03-16   \n",
              "2        El Pesebre        San Javier   Interseccion    5    4 2022-05-04   \n",
              "3  Perpetuo Socorro     La Candelaria   Tramo de via    6   12 2022-06-12   \n",
              "4               NaN               NaN  Lote o Predio    5   18 2022-05-18   \n",
              "\n",
              "    LONGITUD   LATITUD  \n",
              "0 -75.592351  6.243512  \n",
              "1 -75.579832  6.230514  \n",
              "2 -75.599001  6.269136  \n",
              "3 -75.573979  6.232882  \n",
              "4 -75.703816  6.221806  "
            ],
            "text/html": [
              "\n",
              "  <div id=\"df-91ffa7f0-c900-4d58-9928-7eb939fc0fc7\">\n",
              "    <div class=\"colab-df-container\">\n",
              "      <div>\n",
              "<style scoped>\n",
              "    .dataframe tbody tr th:only-of-type {\n",
              "        vertical-align: middle;\n",
              "    }\n",
              "\n",
              "    .dataframe tbody tr th {\n",
              "        vertical-align: top;\n",
              "    }\n",
              "\n",
              "    .dataframe thead th {\n",
              "        text-align: right;\n",
              "    }\n",
              "</style>\n",
              "<table border=\"1\" class=\"dataframe\">\n",
              "  <thead>\n",
              "    <tr style=\"text-align: right;\">\n",
              "      <th></th>\n",
              "      <th>HORA</th>\n",
              "      <th>DIA_NOMBRE</th>\n",
              "      <th>CLASE</th>\n",
              "      <th>TIPO_GEOCOD</th>\n",
              "      <th>GRAVEDAD</th>\n",
              "      <th>BARRIO</th>\n",
              "      <th>COMUNA</th>\n",
              "      <th>DISENO</th>\n",
              "      <th>MES</th>\n",
              "      <th>DIA</th>\n",
              "      <th>FECHA</th>\n",
              "      <th>LONGITUD</th>\n",
              "      <th>LATITUD</th>\n",
              "    </tr>\n",
              "  </thead>\n",
              "  <tbody>\n",
              "    <tr>\n",
              "      <th>0</th>\n",
              "      <td>08:05:00</td>\n",
              "      <td>MIÉRCOLES</td>\n",
              "      <td>Choque</td>\n",
              "      <td>Malla vial</td>\n",
              "      <td>HERIDO</td>\n",
              "      <td>Bolivariana</td>\n",
              "      <td>Laureles Estadio</td>\n",
              "      <td>Interseccion</td>\n",
              "      <td>3</td>\n",
              "      <td>16</td>\n",
              "      <td>2022-03-16</td>\n",
              "      <td>-75.592351</td>\n",
              "      <td>6.243512</td>\n",
              "    </tr>\n",
              "    <tr>\n",
              "      <th>1</th>\n",
              "      <td>17:30:00</td>\n",
              "      <td>MIÉRCOLES</td>\n",
              "      <td>Choque</td>\n",
              "      <td>Malla vial</td>\n",
              "      <td>MUERTO</td>\n",
              "      <td>Tenche</td>\n",
              "      <td>Guayabal</td>\n",
              "      <td>Interseccion</td>\n",
              "      <td>3</td>\n",
              "      <td>16</td>\n",
              "      <td>2022-03-16</td>\n",
              "      <td>-75.579832</td>\n",
              "      <td>6.230514</td>\n",
              "    </tr>\n",
              "    <tr>\n",
              "      <th>2</th>\n",
              "      <td>17:00:00</td>\n",
              "      <td>MIÉRCOLES</td>\n",
              "      <td>Choque</td>\n",
              "      <td>Malla vial</td>\n",
              "      <td>SOLO DAÑOS</td>\n",
              "      <td>El Pesebre</td>\n",
              "      <td>San Javier</td>\n",
              "      <td>Interseccion</td>\n",
              "      <td>5</td>\n",
              "      <td>4</td>\n",
              "      <td>2022-05-04</td>\n",
              "      <td>-75.599001</td>\n",
              "      <td>6.269136</td>\n",
              "    </tr>\n",
              "    <tr>\n",
              "      <th>3</th>\n",
              "      <td>13:30:00</td>\n",
              "      <td>DOMINGO</td>\n",
              "      <td>Choque</td>\n",
              "      <td>Malla vial aproximada: CR 48-31</td>\n",
              "      <td>HERIDO</td>\n",
              "      <td>Perpetuo Socorro</td>\n",
              "      <td>La Candelaria</td>\n",
              "      <td>Tramo de via</td>\n",
              "      <td>6</td>\n",
              "      <td>12</td>\n",
              "      <td>2022-06-12</td>\n",
              "      <td>-75.573979</td>\n",
              "      <td>6.232882</td>\n",
              "    </tr>\n",
              "    <tr>\n",
              "      <th>4</th>\n",
              "      <td>06:45:00</td>\n",
              "      <td>MIÉRCOLES</td>\n",
              "      <td>Otro</td>\n",
              "      <td>No Ubicada</td>\n",
              "      <td>HERIDO</td>\n",
              "      <td>NaN</td>\n",
              "      <td>NaN</td>\n",
              "      <td>Lote o Predio</td>\n",
              "      <td>5</td>\n",
              "      <td>18</td>\n",
              "      <td>2022-05-18</td>\n",
              "      <td>-75.703816</td>\n",
              "      <td>6.221806</td>\n",
              "    </tr>\n",
              "  </tbody>\n",
              "</table>\n",
              "</div>\n",
              "      <button class=\"colab-df-convert\" onclick=\"convertToInteractive('df-91ffa7f0-c900-4d58-9928-7eb939fc0fc7')\"\n",
              "              title=\"Convert this dataframe to an interactive table.\"\n",
              "              style=\"display:none;\">\n",
              "        \n",
              "  <svg xmlns=\"http://www.w3.org/2000/svg\" height=\"24px\"viewBox=\"0 0 24 24\"\n",
              "       width=\"24px\">\n",
              "    <path d=\"M0 0h24v24H0V0z\" fill=\"none\"/>\n",
              "    <path d=\"M18.56 5.44l.94 2.06.94-2.06 2.06-.94-2.06-.94-.94-2.06-.94 2.06-2.06.94zm-11 1L8.5 8.5l.94-2.06 2.06-.94-2.06-.94L8.5 2.5l-.94 2.06-2.06.94zm10 10l.94 2.06.94-2.06 2.06-.94-2.06-.94-.94-2.06-.94 2.06-2.06.94z\"/><path d=\"M17.41 7.96l-1.37-1.37c-.4-.4-.92-.59-1.43-.59-.52 0-1.04.2-1.43.59L10.3 9.45l-7.72 7.72c-.78.78-.78 2.05 0 2.83L4 21.41c.39.39.9.59 1.41.59.51 0 1.02-.2 1.41-.59l7.78-7.78 2.81-2.81c.8-.78.8-2.07 0-2.86zM5.41 20L4 18.59l7.72-7.72 1.47 1.35L5.41 20z\"/>\n",
              "  </svg>\n",
              "      </button>\n",
              "      \n",
              "  <style>\n",
              "    .colab-df-container {\n",
              "      display:flex;\n",
              "      flex-wrap:wrap;\n",
              "      gap: 12px;\n",
              "    }\n",
              "\n",
              "    .colab-df-convert {\n",
              "      background-color: #E8F0FE;\n",
              "      border: none;\n",
              "      border-radius: 50%;\n",
              "      cursor: pointer;\n",
              "      display: none;\n",
              "      fill: #1967D2;\n",
              "      height: 32px;\n",
              "      padding: 0 0 0 0;\n",
              "      width: 32px;\n",
              "    }\n",
              "\n",
              "    .colab-df-convert:hover {\n",
              "      background-color: #E2EBFA;\n",
              "      box-shadow: 0px 1px 2px rgba(60, 64, 67, 0.3), 0px 1px 3px 1px rgba(60, 64, 67, 0.15);\n",
              "      fill: #174EA6;\n",
              "    }\n",
              "\n",
              "    [theme=dark] .colab-df-convert {\n",
              "      background-color: #3B4455;\n",
              "      fill: #D2E3FC;\n",
              "    }\n",
              "\n",
              "    [theme=dark] .colab-df-convert:hover {\n",
              "      background-color: #434B5C;\n",
              "      box-shadow: 0px 1px 3px 1px rgba(0, 0, 0, 0.15);\n",
              "      filter: drop-shadow(0px 1px 2px rgba(0, 0, 0, 0.3));\n",
              "      fill: #FFFFFF;\n",
              "    }\n",
              "  </style>\n",
              "\n",
              "      <script>\n",
              "        const buttonEl =\n",
              "          document.querySelector('#df-91ffa7f0-c900-4d58-9928-7eb939fc0fc7 button.colab-df-convert');\n",
              "        buttonEl.style.display =\n",
              "          google.colab.kernel.accessAllowed ? 'block' : 'none';\n",
              "\n",
              "        async function convertToInteractive(key) {\n",
              "          const element = document.querySelector('#df-91ffa7f0-c900-4d58-9928-7eb939fc0fc7');\n",
              "          const dataTable =\n",
              "            await google.colab.kernel.invokeFunction('convertToInteractive',\n",
              "                                                     [key], {});\n",
              "          if (!dataTable) return;\n",
              "\n",
              "          const docLinkHtml = 'Like what you see? Visit the ' +\n",
              "            '<a target=\"_blank\" href=https://colab.research.google.com/notebooks/data_table.ipynb>data table notebook</a>'\n",
              "            + ' to learn more about interactive tables.';\n",
              "          element.innerHTML = '';\n",
              "          dataTable['output_type'] = 'display_data';\n",
              "          await google.colab.output.renderOutput(dataTable, element);\n",
              "          const docLink = document.createElement('div');\n",
              "          docLink.innerHTML = docLinkHtml;\n",
              "          element.appendChild(docLink);\n",
              "        }\n",
              "      </script>\n",
              "    </div>\n",
              "  </div>\n",
              "  "
            ]
          },
          "metadata": {},
          "execution_count": 188
        }
      ],
      "source": [
        "df.head()"
      ]
    },
    {
      "cell_type": "code",
      "execution_count": null,
      "metadata": {
        "colab": {
          "base_uri": "https://localhost:8080/"
        },
        "id": "KoCDQlckrCCu",
        "outputId": "448b2508-71c1-4669-ad41-75926151ae70"
      },
      "outputs": [
        {
          "output_type": "execute_result",
          "data": {
            "text/plain": [
              "(23577, 13)"
            ]
          },
          "metadata": {},
          "execution_count": 189
        }
      ],
      "source": [
        "df.shape #Nueva data con la que trabajaremos : 13 columnas"
      ]
    },
    {
      "cell_type": "code",
      "source": [
        "#extraer columna con los dias \n",
        "df['Dia_Nomb']=df['FECHA'].dt.day_name()\n",
        "df.head()"
      ],
      "metadata": {
        "colab": {
          "base_uri": "https://localhost:8080/",
          "height": 206
        },
        "id": "5sLgKJzdRuXa",
        "outputId": "2b9df62b-00bc-498d-8ed1-01945c1370c8"
      },
      "execution_count": null,
      "outputs": [
        {
          "output_type": "execute_result",
          "data": {
            "text/plain": [
              "       HORA DIA_NOMBRE   CLASE                      TIPO_GEOCOD    GRAVEDAD  \\\n",
              "0  08:05:00  MIÉRCOLES  Choque                       Malla vial      HERIDO   \n",
              "1  17:30:00  MIÉRCOLES  Choque                       Malla vial      MUERTO   \n",
              "2  17:00:00  MIÉRCOLES  Choque                       Malla vial  SOLO DAÑOS   \n",
              "3  13:30:00  DOMINGO    Choque  Malla vial aproximada: CR 48-31      HERIDO   \n",
              "4  06:45:00  MIÉRCOLES    Otro                       No Ubicada      HERIDO   \n",
              "\n",
              "             BARRIO            COMUNA         DISENO  MES  DIA      FECHA  \\\n",
              "0       Bolivariana  Laureles Estadio   Interseccion    3   16 2022-03-16   \n",
              "1            Tenche          Guayabal   Interseccion    3   16 2022-03-16   \n",
              "2        El Pesebre        San Javier   Interseccion    5    4 2022-05-04   \n",
              "3  Perpetuo Socorro     La Candelaria   Tramo de via    6   12 2022-06-12   \n",
              "4               NaN               NaN  Lote o Predio    5   18 2022-05-18   \n",
              "\n",
              "    LONGITUD   LATITUD   Dia_Nomb  \n",
              "0 -75.592351  6.243512  Wednesday  \n",
              "1 -75.579832  6.230514  Wednesday  \n",
              "2 -75.599001  6.269136  Wednesday  \n",
              "3 -75.573979  6.232882     Sunday  \n",
              "4 -75.703816  6.221806  Wednesday  "
            ],
            "text/html": [
              "\n",
              "  <div id=\"df-a0c02d1f-ea4d-4808-a869-9d9a8307cec9\">\n",
              "    <div class=\"colab-df-container\">\n",
              "      <div>\n",
              "<style scoped>\n",
              "    .dataframe tbody tr th:only-of-type {\n",
              "        vertical-align: middle;\n",
              "    }\n",
              "\n",
              "    .dataframe tbody tr th {\n",
              "        vertical-align: top;\n",
              "    }\n",
              "\n",
              "    .dataframe thead th {\n",
              "        text-align: right;\n",
              "    }\n",
              "</style>\n",
              "<table border=\"1\" class=\"dataframe\">\n",
              "  <thead>\n",
              "    <tr style=\"text-align: right;\">\n",
              "      <th></th>\n",
              "      <th>HORA</th>\n",
              "      <th>DIA_NOMBRE</th>\n",
              "      <th>CLASE</th>\n",
              "      <th>TIPO_GEOCOD</th>\n",
              "      <th>GRAVEDAD</th>\n",
              "      <th>BARRIO</th>\n",
              "      <th>COMUNA</th>\n",
              "      <th>DISENO</th>\n",
              "      <th>MES</th>\n",
              "      <th>DIA</th>\n",
              "      <th>FECHA</th>\n",
              "      <th>LONGITUD</th>\n",
              "      <th>LATITUD</th>\n",
              "      <th>Dia_Nomb</th>\n",
              "    </tr>\n",
              "  </thead>\n",
              "  <tbody>\n",
              "    <tr>\n",
              "      <th>0</th>\n",
              "      <td>08:05:00</td>\n",
              "      <td>MIÉRCOLES</td>\n",
              "      <td>Choque</td>\n",
              "      <td>Malla vial</td>\n",
              "      <td>HERIDO</td>\n",
              "      <td>Bolivariana</td>\n",
              "      <td>Laureles Estadio</td>\n",
              "      <td>Interseccion</td>\n",
              "      <td>3</td>\n",
              "      <td>16</td>\n",
              "      <td>2022-03-16</td>\n",
              "      <td>-75.592351</td>\n",
              "      <td>6.243512</td>\n",
              "      <td>Wednesday</td>\n",
              "    </tr>\n",
              "    <tr>\n",
              "      <th>1</th>\n",
              "      <td>17:30:00</td>\n",
              "      <td>MIÉRCOLES</td>\n",
              "      <td>Choque</td>\n",
              "      <td>Malla vial</td>\n",
              "      <td>MUERTO</td>\n",
              "      <td>Tenche</td>\n",
              "      <td>Guayabal</td>\n",
              "      <td>Interseccion</td>\n",
              "      <td>3</td>\n",
              "      <td>16</td>\n",
              "      <td>2022-03-16</td>\n",
              "      <td>-75.579832</td>\n",
              "      <td>6.230514</td>\n",
              "      <td>Wednesday</td>\n",
              "    </tr>\n",
              "    <tr>\n",
              "      <th>2</th>\n",
              "      <td>17:00:00</td>\n",
              "      <td>MIÉRCOLES</td>\n",
              "      <td>Choque</td>\n",
              "      <td>Malla vial</td>\n",
              "      <td>SOLO DAÑOS</td>\n",
              "      <td>El Pesebre</td>\n",
              "      <td>San Javier</td>\n",
              "      <td>Interseccion</td>\n",
              "      <td>5</td>\n",
              "      <td>4</td>\n",
              "      <td>2022-05-04</td>\n",
              "      <td>-75.599001</td>\n",
              "      <td>6.269136</td>\n",
              "      <td>Wednesday</td>\n",
              "    </tr>\n",
              "    <tr>\n",
              "      <th>3</th>\n",
              "      <td>13:30:00</td>\n",
              "      <td>DOMINGO</td>\n",
              "      <td>Choque</td>\n",
              "      <td>Malla vial aproximada: CR 48-31</td>\n",
              "      <td>HERIDO</td>\n",
              "      <td>Perpetuo Socorro</td>\n",
              "      <td>La Candelaria</td>\n",
              "      <td>Tramo de via</td>\n",
              "      <td>6</td>\n",
              "      <td>12</td>\n",
              "      <td>2022-06-12</td>\n",
              "      <td>-75.573979</td>\n",
              "      <td>6.232882</td>\n",
              "      <td>Sunday</td>\n",
              "    </tr>\n",
              "    <tr>\n",
              "      <th>4</th>\n",
              "      <td>06:45:00</td>\n",
              "      <td>MIÉRCOLES</td>\n",
              "      <td>Otro</td>\n",
              "      <td>No Ubicada</td>\n",
              "      <td>HERIDO</td>\n",
              "      <td>NaN</td>\n",
              "      <td>NaN</td>\n",
              "      <td>Lote o Predio</td>\n",
              "      <td>5</td>\n",
              "      <td>18</td>\n",
              "      <td>2022-05-18</td>\n",
              "      <td>-75.703816</td>\n",
              "      <td>6.221806</td>\n",
              "      <td>Wednesday</td>\n",
              "    </tr>\n",
              "  </tbody>\n",
              "</table>\n",
              "</div>\n",
              "      <button class=\"colab-df-convert\" onclick=\"convertToInteractive('df-a0c02d1f-ea4d-4808-a869-9d9a8307cec9')\"\n",
              "              title=\"Convert this dataframe to an interactive table.\"\n",
              "              style=\"display:none;\">\n",
              "        \n",
              "  <svg xmlns=\"http://www.w3.org/2000/svg\" height=\"24px\"viewBox=\"0 0 24 24\"\n",
              "       width=\"24px\">\n",
              "    <path d=\"M0 0h24v24H0V0z\" fill=\"none\"/>\n",
              "    <path d=\"M18.56 5.44l.94 2.06.94-2.06 2.06-.94-2.06-.94-.94-2.06-.94 2.06-2.06.94zm-11 1L8.5 8.5l.94-2.06 2.06-.94-2.06-.94L8.5 2.5l-.94 2.06-2.06.94zm10 10l.94 2.06.94-2.06 2.06-.94-2.06-.94-.94-2.06-.94 2.06-2.06.94z\"/><path d=\"M17.41 7.96l-1.37-1.37c-.4-.4-.92-.59-1.43-.59-.52 0-1.04.2-1.43.59L10.3 9.45l-7.72 7.72c-.78.78-.78 2.05 0 2.83L4 21.41c.39.39.9.59 1.41.59.51 0 1.02-.2 1.41-.59l7.78-7.78 2.81-2.81c.8-.78.8-2.07 0-2.86zM5.41 20L4 18.59l7.72-7.72 1.47 1.35L5.41 20z\"/>\n",
              "  </svg>\n",
              "      </button>\n",
              "      \n",
              "  <style>\n",
              "    .colab-df-container {\n",
              "      display:flex;\n",
              "      flex-wrap:wrap;\n",
              "      gap: 12px;\n",
              "    }\n",
              "\n",
              "    .colab-df-convert {\n",
              "      background-color: #E8F0FE;\n",
              "      border: none;\n",
              "      border-radius: 50%;\n",
              "      cursor: pointer;\n",
              "      display: none;\n",
              "      fill: #1967D2;\n",
              "      height: 32px;\n",
              "      padding: 0 0 0 0;\n",
              "      width: 32px;\n",
              "    }\n",
              "\n",
              "    .colab-df-convert:hover {\n",
              "      background-color: #E2EBFA;\n",
              "      box-shadow: 0px 1px 2px rgba(60, 64, 67, 0.3), 0px 1px 3px 1px rgba(60, 64, 67, 0.15);\n",
              "      fill: #174EA6;\n",
              "    }\n",
              "\n",
              "    [theme=dark] .colab-df-convert {\n",
              "      background-color: #3B4455;\n",
              "      fill: #D2E3FC;\n",
              "    }\n",
              "\n",
              "    [theme=dark] .colab-df-convert:hover {\n",
              "      background-color: #434B5C;\n",
              "      box-shadow: 0px 1px 3px 1px rgba(0, 0, 0, 0.15);\n",
              "      filter: drop-shadow(0px 1px 2px rgba(0, 0, 0, 0.3));\n",
              "      fill: #FFFFFF;\n",
              "    }\n",
              "  </style>\n",
              "\n",
              "      <script>\n",
              "        const buttonEl =\n",
              "          document.querySelector('#df-a0c02d1f-ea4d-4808-a869-9d9a8307cec9 button.colab-df-convert');\n",
              "        buttonEl.style.display =\n",
              "          google.colab.kernel.accessAllowed ? 'block' : 'none';\n",
              "\n",
              "        async function convertToInteractive(key) {\n",
              "          const element = document.querySelector('#df-a0c02d1f-ea4d-4808-a869-9d9a8307cec9');\n",
              "          const dataTable =\n",
              "            await google.colab.kernel.invokeFunction('convertToInteractive',\n",
              "                                                     [key], {});\n",
              "          if (!dataTable) return;\n",
              "\n",
              "          const docLinkHtml = 'Like what you see? Visit the ' +\n",
              "            '<a target=\"_blank\" href=https://colab.research.google.com/notebooks/data_table.ipynb>data table notebook</a>'\n",
              "            + ' to learn more about interactive tables.';\n",
              "          element.innerHTML = '';\n",
              "          dataTable['output_type'] = 'display_data';\n",
              "          await google.colab.output.renderOutput(dataTable, element);\n",
              "          const docLink = document.createElement('div');\n",
              "          docLink.innerHTML = docLinkHtml;\n",
              "          element.appendChild(docLink);\n",
              "        }\n",
              "      </script>\n",
              "    </div>\n",
              "  </div>\n",
              "  "
            ]
          },
          "metadata": {},
          "execution_count": 191
        }
      ]
    },
    {
      "cell_type": "markdown",
      "metadata": {
        "id": "QF-K2Le6tCne"
      },
      "source": [
        "❤ Revisión de duplicados "
      ]
    },
    {
      "cell_type": "code",
      "execution_count": null,
      "metadata": {
        "colab": {
          "base_uri": "https://localhost:8080/"
        },
        "id": "jC9_mhLVKH4o",
        "outputId": "64e8a711-ff8b-4f9d-d54e-f45caa47705a"
      },
      "outputs": [
        {
          "output_type": "execute_result",
          "data": {
            "text/plain": [
              "19"
            ]
          },
          "metadata": {},
          "execution_count": 192
        }
      ],
      "source": [
        "df.duplicated().sum() #Total 19 "
      ]
    },
    {
      "cell_type": "code",
      "execution_count": null,
      "metadata": {
        "id": "d6khOmvUtOzO",
        "colab": {
          "base_uri": "https://localhost:8080/",
          "height": 206
        },
        "outputId": "b1a1597f-8f39-4c28-df53-e91588929afc"
      },
      "outputs": [
        {
          "output_type": "execute_result",
          "data": {
            "text/plain": [
              "       HORA DIA_NOMBRE   CLASE                      TIPO_GEOCOD    GRAVEDAD  \\\n",
              "0  08:05:00  MIÉRCOLES  Choque                       Malla vial      HERIDO   \n",
              "1  17:30:00  MIÉRCOLES  Choque                       Malla vial      MUERTO   \n",
              "2  17:00:00  MIÉRCOLES  Choque                       Malla vial  SOLO DAÑOS   \n",
              "3  13:30:00  DOMINGO    Choque  Malla vial aproximada: CR 48-31      HERIDO   \n",
              "4  06:45:00  MIÉRCOLES    Otro                       No Ubicada      HERIDO   \n",
              "\n",
              "             BARRIO            COMUNA         DISENO  MES  DIA      FECHA  \\\n",
              "0       Bolivariana  Laureles Estadio   Interseccion    3   16 2022-03-16   \n",
              "1            Tenche          Guayabal   Interseccion    3   16 2022-03-16   \n",
              "2        El Pesebre        San Javier   Interseccion    5    4 2022-05-04   \n",
              "3  Perpetuo Socorro     La Candelaria   Tramo de via    6   12 2022-06-12   \n",
              "4               NaN               NaN  Lote o Predio    5   18 2022-05-18   \n",
              "\n",
              "    LONGITUD   LATITUD   Dia_Nomb  \n",
              "0 -75.592351  6.243512  Wednesday  \n",
              "1 -75.579832  6.230514  Wednesday  \n",
              "2 -75.599001  6.269136  Wednesday  \n",
              "3 -75.573979  6.232882     Sunday  \n",
              "4 -75.703816  6.221806  Wednesday  "
            ],
            "text/html": [
              "\n",
              "  <div id=\"df-717ebd99-93fb-4521-88dd-a040a9453ea8\">\n",
              "    <div class=\"colab-df-container\">\n",
              "      <div>\n",
              "<style scoped>\n",
              "    .dataframe tbody tr th:only-of-type {\n",
              "        vertical-align: middle;\n",
              "    }\n",
              "\n",
              "    .dataframe tbody tr th {\n",
              "        vertical-align: top;\n",
              "    }\n",
              "\n",
              "    .dataframe thead th {\n",
              "        text-align: right;\n",
              "    }\n",
              "</style>\n",
              "<table border=\"1\" class=\"dataframe\">\n",
              "  <thead>\n",
              "    <tr style=\"text-align: right;\">\n",
              "      <th></th>\n",
              "      <th>HORA</th>\n",
              "      <th>DIA_NOMBRE</th>\n",
              "      <th>CLASE</th>\n",
              "      <th>TIPO_GEOCOD</th>\n",
              "      <th>GRAVEDAD</th>\n",
              "      <th>BARRIO</th>\n",
              "      <th>COMUNA</th>\n",
              "      <th>DISENO</th>\n",
              "      <th>MES</th>\n",
              "      <th>DIA</th>\n",
              "      <th>FECHA</th>\n",
              "      <th>LONGITUD</th>\n",
              "      <th>LATITUD</th>\n",
              "      <th>Dia_Nomb</th>\n",
              "    </tr>\n",
              "  </thead>\n",
              "  <tbody>\n",
              "    <tr>\n",
              "      <th>0</th>\n",
              "      <td>08:05:00</td>\n",
              "      <td>MIÉRCOLES</td>\n",
              "      <td>Choque</td>\n",
              "      <td>Malla vial</td>\n",
              "      <td>HERIDO</td>\n",
              "      <td>Bolivariana</td>\n",
              "      <td>Laureles Estadio</td>\n",
              "      <td>Interseccion</td>\n",
              "      <td>3</td>\n",
              "      <td>16</td>\n",
              "      <td>2022-03-16</td>\n",
              "      <td>-75.592351</td>\n",
              "      <td>6.243512</td>\n",
              "      <td>Wednesday</td>\n",
              "    </tr>\n",
              "    <tr>\n",
              "      <th>1</th>\n",
              "      <td>17:30:00</td>\n",
              "      <td>MIÉRCOLES</td>\n",
              "      <td>Choque</td>\n",
              "      <td>Malla vial</td>\n",
              "      <td>MUERTO</td>\n",
              "      <td>Tenche</td>\n",
              "      <td>Guayabal</td>\n",
              "      <td>Interseccion</td>\n",
              "      <td>3</td>\n",
              "      <td>16</td>\n",
              "      <td>2022-03-16</td>\n",
              "      <td>-75.579832</td>\n",
              "      <td>6.230514</td>\n",
              "      <td>Wednesday</td>\n",
              "    </tr>\n",
              "    <tr>\n",
              "      <th>2</th>\n",
              "      <td>17:00:00</td>\n",
              "      <td>MIÉRCOLES</td>\n",
              "      <td>Choque</td>\n",
              "      <td>Malla vial</td>\n",
              "      <td>SOLO DAÑOS</td>\n",
              "      <td>El Pesebre</td>\n",
              "      <td>San Javier</td>\n",
              "      <td>Interseccion</td>\n",
              "      <td>5</td>\n",
              "      <td>4</td>\n",
              "      <td>2022-05-04</td>\n",
              "      <td>-75.599001</td>\n",
              "      <td>6.269136</td>\n",
              "      <td>Wednesday</td>\n",
              "    </tr>\n",
              "    <tr>\n",
              "      <th>3</th>\n",
              "      <td>13:30:00</td>\n",
              "      <td>DOMINGO</td>\n",
              "      <td>Choque</td>\n",
              "      <td>Malla vial aproximada: CR 48-31</td>\n",
              "      <td>HERIDO</td>\n",
              "      <td>Perpetuo Socorro</td>\n",
              "      <td>La Candelaria</td>\n",
              "      <td>Tramo de via</td>\n",
              "      <td>6</td>\n",
              "      <td>12</td>\n",
              "      <td>2022-06-12</td>\n",
              "      <td>-75.573979</td>\n",
              "      <td>6.232882</td>\n",
              "      <td>Sunday</td>\n",
              "    </tr>\n",
              "    <tr>\n",
              "      <th>4</th>\n",
              "      <td>06:45:00</td>\n",
              "      <td>MIÉRCOLES</td>\n",
              "      <td>Otro</td>\n",
              "      <td>No Ubicada</td>\n",
              "      <td>HERIDO</td>\n",
              "      <td>NaN</td>\n",
              "      <td>NaN</td>\n",
              "      <td>Lote o Predio</td>\n",
              "      <td>5</td>\n",
              "      <td>18</td>\n",
              "      <td>2022-05-18</td>\n",
              "      <td>-75.703816</td>\n",
              "      <td>6.221806</td>\n",
              "      <td>Wednesday</td>\n",
              "    </tr>\n",
              "  </tbody>\n",
              "</table>\n",
              "</div>\n",
              "      <button class=\"colab-df-convert\" onclick=\"convertToInteractive('df-717ebd99-93fb-4521-88dd-a040a9453ea8')\"\n",
              "              title=\"Convert this dataframe to an interactive table.\"\n",
              "              style=\"display:none;\">\n",
              "        \n",
              "  <svg xmlns=\"http://www.w3.org/2000/svg\" height=\"24px\"viewBox=\"0 0 24 24\"\n",
              "       width=\"24px\">\n",
              "    <path d=\"M0 0h24v24H0V0z\" fill=\"none\"/>\n",
              "    <path d=\"M18.56 5.44l.94 2.06.94-2.06 2.06-.94-2.06-.94-.94-2.06-.94 2.06-2.06.94zm-11 1L8.5 8.5l.94-2.06 2.06-.94-2.06-.94L8.5 2.5l-.94 2.06-2.06.94zm10 10l.94 2.06.94-2.06 2.06-.94-2.06-.94-.94-2.06-.94 2.06-2.06.94z\"/><path d=\"M17.41 7.96l-1.37-1.37c-.4-.4-.92-.59-1.43-.59-.52 0-1.04.2-1.43.59L10.3 9.45l-7.72 7.72c-.78.78-.78 2.05 0 2.83L4 21.41c.39.39.9.59 1.41.59.51 0 1.02-.2 1.41-.59l7.78-7.78 2.81-2.81c.8-.78.8-2.07 0-2.86zM5.41 20L4 18.59l7.72-7.72 1.47 1.35L5.41 20z\"/>\n",
              "  </svg>\n",
              "      </button>\n",
              "      \n",
              "  <style>\n",
              "    .colab-df-container {\n",
              "      display:flex;\n",
              "      flex-wrap:wrap;\n",
              "      gap: 12px;\n",
              "    }\n",
              "\n",
              "    .colab-df-convert {\n",
              "      background-color: #E8F0FE;\n",
              "      border: none;\n",
              "      border-radius: 50%;\n",
              "      cursor: pointer;\n",
              "      display: none;\n",
              "      fill: #1967D2;\n",
              "      height: 32px;\n",
              "      padding: 0 0 0 0;\n",
              "      width: 32px;\n",
              "    }\n",
              "\n",
              "    .colab-df-convert:hover {\n",
              "      background-color: #E2EBFA;\n",
              "      box-shadow: 0px 1px 2px rgba(60, 64, 67, 0.3), 0px 1px 3px 1px rgba(60, 64, 67, 0.15);\n",
              "      fill: #174EA6;\n",
              "    }\n",
              "\n",
              "    [theme=dark] .colab-df-convert {\n",
              "      background-color: #3B4455;\n",
              "      fill: #D2E3FC;\n",
              "    }\n",
              "\n",
              "    [theme=dark] .colab-df-convert:hover {\n",
              "      background-color: #434B5C;\n",
              "      box-shadow: 0px 1px 3px 1px rgba(0, 0, 0, 0.15);\n",
              "      filter: drop-shadow(0px 1px 2px rgba(0, 0, 0, 0.3));\n",
              "      fill: #FFFFFF;\n",
              "    }\n",
              "  </style>\n",
              "\n",
              "      <script>\n",
              "        const buttonEl =\n",
              "          document.querySelector('#df-717ebd99-93fb-4521-88dd-a040a9453ea8 button.colab-df-convert');\n",
              "        buttonEl.style.display =\n",
              "          google.colab.kernel.accessAllowed ? 'block' : 'none';\n",
              "\n",
              "        async function convertToInteractive(key) {\n",
              "          const element = document.querySelector('#df-717ebd99-93fb-4521-88dd-a040a9453ea8');\n",
              "          const dataTable =\n",
              "            await google.colab.kernel.invokeFunction('convertToInteractive',\n",
              "                                                     [key], {});\n",
              "          if (!dataTable) return;\n",
              "\n",
              "          const docLinkHtml = 'Like what you see? Visit the ' +\n",
              "            '<a target=\"_blank\" href=https://colab.research.google.com/notebooks/data_table.ipynb>data table notebook</a>'\n",
              "            + ' to learn more about interactive tables.';\n",
              "          element.innerHTML = '';\n",
              "          dataTable['output_type'] = 'display_data';\n",
              "          await google.colab.output.renderOutput(dataTable, element);\n",
              "          const docLink = document.createElement('div');\n",
              "          docLink.innerHTML = docLinkHtml;\n",
              "          element.appendChild(docLink);\n",
              "        }\n",
              "      </script>\n",
              "    </div>\n",
              "  </div>\n",
              "  "
            ]
          },
          "metadata": {},
          "execution_count": 193
        }
      ],
      "source": [
        "df=df.drop_duplicates() #Eliminar duplicados\n",
        "df.head()"
      ]
    },
    {
      "cell_type": "markdown",
      "metadata": {
        "id": "Mo9k6V65tXwH"
      },
      "source": [
        "❤ Valores faltantes "
      ]
    },
    {
      "cell_type": "code",
      "execution_count": null,
      "metadata": {
        "colab": {
          "base_uri": "https://localhost:8080/"
        },
        "id": "mGv5tyft8MNn",
        "outputId": "aa45381d-1f61-4c17-a426-26ffe971d4a1"
      },
      "outputs": [
        {
          "output_type": "execute_result",
          "data": {
            "text/plain": [
              "HORA              0\n",
              "DIA_NOMBRE        0\n",
              "CLASE             0\n",
              "TIPO_GEOCOD       0\n",
              "GRAVEDAD          0\n",
              "BARRIO         1778\n",
              "COMUNA         1778\n",
              "DISENO            0\n",
              "MES               0\n",
              "DIA               0\n",
              "FECHA             0\n",
              "LONGITUD          0\n",
              "LATITUD           0\n",
              "Dia_Nomb          0\n",
              "dtype: int64"
            ]
          },
          "metadata": {},
          "execution_count": 195
        }
      ],
      "source": [
        "df.isna().sum() #los datos faltantes los llenaremos con algunas metricas. "
      ]
    },
    {
      "cell_type": "code",
      "execution_count": null,
      "metadata": {
        "colab": {
          "base_uri": "https://localhost:8080/"
        },
        "id": "CT_WpSXxtLMb",
        "outputId": "1290cc66-c065-4e2e-9033-2a2ef5e13a43"
      },
      "outputs": [
        {
          "output_type": "stream",
          "name": "stdout",
          "text": [
            "7.547329994057221 7.547329994057221\n"
          ]
        }
      ],
      "source": [
        "#porcentaje de faltantes  \n",
        "x1=(df['BARRIO'].isna().sum())/len(df)*100\n",
        "x2=(df['COMUNA'].isna().sum())/len(df)*100\n",
        "print(x1,x2)"
      ]
    },
    {
      "cell_type": "markdown",
      "metadata": {
        "id": "z1o6TrHpue7S"
      },
      "source": [
        "Existe un **8%** de datos faltantes en las columnas de \"Barrio\" y \"Comuna\". Como son variables cualitativas las rellenaremos con el más frecuente \n",
        "\n",
        "Graficamente"
      ]
    },
    {
      "cell_type": "code",
      "execution_count": null,
      "metadata": {
        "colab": {
          "base_uri": "https://localhost:8080/",
          "height": 686
        },
        "id": "fW_38lS72n8m",
        "outputId": "b7f4d4ed-9f57-4c23-b929-2a1e82b9ac3a"
      },
      "outputs": [
        {
          "output_type": "display_data",
          "data": {
            "text/plain": [
              "<Figure size 1800x720 with 2 Axes>"
            ],
            "image/png": "[encoded data removed]"
          },
          "metadata": {
            "needs_background": "light"
          }
        }
      ],
      "source": [
        "import missingno as msno #visualización donde hay valores nulos \n",
        "msno.matrix(df);"
      ]
    },
    {
      "cell_type": "markdown",
      "metadata": {
        "id": "V4PSIJdVt4vD"
      },
      "source": [
        "* **Para un analisis exploratorio  los faltantes los manejaremos con fillna sin embargo en los modelos de machine learnig usaremos los modelos respectivos**"
      ]
    },
    {
      "cell_type": "code",
      "execution_count": null,
      "metadata": {
        "colab": {
          "base_uri": "https://localhost:8080/",
          "height": 424
        },
        "id": "qHnsFYacM6V7",
        "outputId": "9a04a51a-3914-4f7f-aff3-e452459823f5"
      },
      "outputs": [
        {
          "output_type": "execute_result",
          "data": {
            "text/plain": [
              "           HORA DIA_NOMBRE      CLASE                      TIPO_GEOCOD  \\\n",
              "0      08:05:00  MIÉRCOLES     Choque                       Malla vial   \n",
              "1      17:30:00  MIÉRCOLES     Choque                       Malla vial   \n",
              "2      17:00:00  MIÉRCOLES     Choque                       Malla vial   \n",
              "3      13:30:00  DOMINGO       Choque  Malla vial aproximada: CR 48-31   \n",
              "4      06:45:00  MIÉRCOLES       Otro                       No Ubicada   \n",
              "...         ...        ...        ...                              ...   \n",
              "23572  10:30:00  VIERNES         Otro       Malla vial cruce invertido   \n",
              "23573  16:55:00  SÁBADO     Atropello                       Malla vial   \n",
              "23574  13:40:00  MIÉRCOLES       Otro                       Malla vial   \n",
              "23575  03:00:00  MIÉRCOLES     Choque                       Malla vial   \n",
              "23576  21:30:00  MARTES          Otro                       Malla vial   \n",
              "\n",
              "         GRAVEDAD                         BARRIO  \\\n",
              "0          HERIDO                    Bolivariana   \n",
              "1          MUERTO                         Tenche   \n",
              "2      SOLO DAÑOS                     El Pesebre   \n",
              "3          HERIDO               Perpetuo Socorro   \n",
              "4          HERIDO                                  \n",
              "...           ...                            ...   \n",
              "23572      HERIDO                    Aures No. 2   \n",
              "23573      HERIDO                  La Candelaria   \n",
              "23574      HERIDO                       Santa Fé   \n",
              "23575  SOLO DAÑOS                 Las Esmeraldas   \n",
              "23576      HERIDO  Suburbano Mirador del Poblado   \n",
              "\n",
              "                             COMUNA         DISENO  MES  DIA      FECHA  \\\n",
              "0                  Laureles Estadio   Interseccion    3   16 2022-03-16   \n",
              "1                          Guayabal   Interseccion    3   16 2022-03-16   \n",
              "2                        San Javier   Interseccion    5    4 2022-05-04   \n",
              "3                     La Candelaria   Tramo de via    6   12 2022-06-12   \n",
              "4                                    Lote o Predio    5   18 2022-05-18   \n",
              "...                             ...            ...  ...  ...        ...   \n",
              "23572                       Robledo  Lote o Predio    4    1 2022-04-01   \n",
              "23573                 La Candelaria  Lote o Predio    7   16 2022-07-16   \n",
              "23574                      Guayabal  Lote o Predio    5   11 2022-05-11   \n",
              "23575                      Aranjuez   Tramo de via    1    5 2022-01-05   \n",
              "23576  Corregimiento de Santa Elena   Tramo de via    4   26 2022-04-26   \n",
              "\n",
              "        LONGITUD   LATITUD   Dia_Nomb  \n",
              "0     -75.592351  6.243512  Wednesday  \n",
              "1     -75.579832  6.230514  Wednesday  \n",
              "2     -75.599001  6.269136  Wednesday  \n",
              "3     -75.573979  6.232882     Sunday  \n",
              "4     -75.703816  6.221806  Wednesday  \n",
              "...          ...       ...        ...  \n",
              "23572 -75.594370  6.292832     Friday  \n",
              "23573 -75.567197  6.252697   Saturday  \n",
              "23574 -75.577779  6.227722  Wednesday  \n",
              "23575 -75.554390  6.277247  Wednesday  \n",
              "23576 -75.552200  6.215643    Tuesday  \n",
              "\n",
              "[23558 rows x 14 columns]"
            ],
            "text/html": [
              "\n",
              "  <div id=\"df-95d38fc4-ec15-45d4-b12e-531d1160ca4c\">\n",
              "    <div class=\"colab-df-container\">\n",
              "      <div>\n",
              "<style scoped>\n",
              "    .dataframe tbody tr th:only-of-type {\n",
              "        vertical-align: middle;\n",
              "    }\n",
              "\n",
              "    .dataframe tbody tr th {\n",
              "        vertical-align: top;\n",
              "    }\n",
              "\n",
              "    .dataframe thead th {\n",
              "        text-align: right;\n",
              "    }\n",
              "</style>\n",
              "<table border=\"1\" class=\"dataframe\">\n",
              "  <thead>\n",
              "    <tr style=\"text-align: right;\">\n",
              "      <th></th>\n",
              "      <th>HORA</th>\n",
              "      <th>DIA_NOMBRE</th>\n",
              "      <th>CLASE</th>\n",
              "      <th>TIPO_GEOCOD</th>\n",
              "      <th>GRAVEDAD</th>\n",
              "      <th>BARRIO</th>\n",
              "      <th>COMUNA</th>\n",
              "      <th>DISENO</th>\n",
              "      <th>MES</th>\n",
              "      <th>DIA</th>\n",
              "      <th>FECHA</th>\n",
              "      <th>LONGITUD</th>\n",
              "      <th>LATITUD</th>\n",
              "      <th>Dia_Nomb</th>\n",
              "    </tr>\n",
              "  </thead>\n",
              "  <tbody>\n",
              "    <tr>\n",
              "      <th>0</th>\n",
              "      <td>08:05:00</td>\n",
              "      <td>MIÉRCOLES</td>\n",
              "      <td>Choque</td>\n",
              "      <td>Malla vial</td>\n",
              "      <td>HERIDO</td>\n",
              "      <td>Bolivariana</td>\n",
              "      <td>Laureles Estadio</td>\n",
              "      <td>Interseccion</td>\n",
              "      <td>3</td>\n",
              "      <td>16</td>\n",
              "      <td>2022-03-16</td>\n",
              "      <td>-75.592351</td>\n",
              "      <td>6.243512</td>\n",
              "      <td>Wednesday</td>\n",
              "    </tr>\n",
              "    <tr>\n",
              "      <th>1</th>\n",
              "      <td>17:30:00</td>\n",
              "      <td>MIÉRCOLES</td>\n",
              "      <td>Choque</td>\n",
              "      <td>Malla vial</td>\n",
              "      <td>MUERTO</td>\n",
              "      <td>Tenche</td>\n",
              "      <td>Guayabal</td>\n",
              "      <td>Interseccion</td>\n",
              "      <td>3</td>\n",
              "      <td>16</td>\n",
              "      <td>2022-03-16</td>\n",
              "      <td>-75.579832</td>\n",
              "      <td>6.230514</td>\n",
              "      <td>Wednesday</td>\n",
              "    </tr>\n",
              "    <tr>\n",
              "      <th>2</th>\n",
              "      <td>17:00:00</td>\n",
              "      <td>MIÉRCOLES</td>\n",
              "      <td>Choque</td>\n",
              "      <td>Malla vial</td>\n",
              "      <td>SOLO DAÑOS</td>\n",
              "      <td>El Pesebre</td>\n",
              "      <td>San Javier</td>\n",
              "      <td>Interseccion</td>\n",
              "      <td>5</td>\n",
              "      <td>4</td>\n",
              "      <td>2022-05-04</td>\n",
              "      <td>-75.599001</td>\n",
              "      <td>6.269136</td>\n",
              "      <td>Wednesday</td>\n",
              "    </tr>\n",
              "    <tr>\n",
              "      <th>3</th>\n",
              "      <td>13:30:00</td>\n",
              "      <td>DOMINGO</td>\n",
              "      <td>Choque</td>\n",
              "      <td>Malla vial aproximada: CR 48-31</td>\n",
              "      <td>HERIDO</td>\n",
              "      <td>Perpetuo Socorro</td>\n",
              "      <td>La Candelaria</td>\n",
              "      <td>Tramo de via</td>\n",
              "      <td>6</td>\n",
              "      <td>12</td>\n",
              "      <td>2022-06-12</td>\n",
              "      <td>-75.573979</td>\n",
              "      <td>6.232882</td>\n",
              "      <td>Sunday</td>\n",
              "    </tr>\n",
              "    <tr>\n",
              "      <th>4</th>\n",
              "      <td>06:45:00</td>\n",
              "      <td>MIÉRCOLES</td>\n",
              "      <td>Otro</td>\n",
              "      <td>No Ubicada</td>\n",
              "      <td>HERIDO</td>\n",
              "      <td></td>\n",
              "      <td></td>\n",
              "      <td>Lote o Predio</td>\n",
              "      <td>5</td>\n",
              "      <td>18</td>\n",
              "      <td>2022-05-18</td>\n",
              "      <td>-75.703816</td>\n",
              "      <td>6.221806</td>\n",
              "      <td>Wednesday</td>\n",
              "    </tr>\n",
              "    <tr>\n",
              "      <th>...</th>\n",
              "      <td>...</td>\n",
              "      <td>...</td>\n",
              "      <td>...</td>\n",
              "      <td>...</td>\n",
              "      <td>...</td>\n",
              "      <td>...</td>\n",
              "      <td>...</td>\n",
              "      <td>...</td>\n",
              "      <td>...</td>\n",
              "      <td>...</td>\n",
              "      <td>...</td>\n",
              "      <td>...</td>\n",
              "      <td>...</td>\n",
              "      <td>...</td>\n",
              "    </tr>\n",
              "    <tr>\n",
              "      <th>23572</th>\n",
              "      <td>10:30:00</td>\n",
              "      <td>VIERNES</td>\n",
              "      <td>Otro</td>\n",
              "      <td>Malla vial cruce invertido</td>\n",
              "      <td>HERIDO</td>\n",
              "      <td>Aures No. 2</td>\n",
              "      <td>Robledo</td>\n",
              "      <td>Lote o Predio</td>\n",
              "      <td>4</td>\n",
              "      <td>1</td>\n",
              "      <td>2022-04-01</td>\n",
              "      <td>-75.594370</td>\n",
              "      <td>6.292832</td>\n",
              "      <td>Friday</td>\n",
              "    </tr>\n",
              "    <tr>\n",
              "      <th>23573</th>\n",
              "      <td>16:55:00</td>\n",
              "      <td>SÁBADO</td>\n",
              "      <td>Atropello</td>\n",
              "      <td>Malla vial</td>\n",
              "      <td>HERIDO</td>\n",
              "      <td>La Candelaria</td>\n",
              "      <td>La Candelaria</td>\n",
              "      <td>Lote o Predio</td>\n",
              "      <td>7</td>\n",
              "      <td>16</td>\n",
              "      <td>2022-07-16</td>\n",
              "      <td>-75.567197</td>\n",
              "      <td>6.252697</td>\n",
              "      <td>Saturday</td>\n",
              "    </tr>\n",
              "    <tr>\n",
              "      <th>23574</th>\n",
              "      <td>13:40:00</td>\n",
              "      <td>MIÉRCOLES</td>\n",
              "      <td>Otro</td>\n",
              "      <td>Malla vial</td>\n",
              "      <td>HERIDO</td>\n",
              "      <td>Santa Fé</td>\n",
              "      <td>Guayabal</td>\n",
              "      <td>Lote o Predio</td>\n",
              "      <td>5</td>\n",
              "      <td>11</td>\n",
              "      <td>2022-05-11</td>\n",
              "      <td>-75.577779</td>\n",
              "      <td>6.227722</td>\n",
              "      <td>Wednesday</td>\n",
              "    </tr>\n",
              "    <tr>\n",
              "      <th>23575</th>\n",
              "      <td>03:00:00</td>\n",
              "      <td>MIÉRCOLES</td>\n",
              "      <td>Choque</td>\n",
              "      <td>Malla vial</td>\n",
              "      <td>SOLO DAÑOS</td>\n",
              "      <td>Las Esmeraldas</td>\n",
              "      <td>Aranjuez</td>\n",
              "      <td>Tramo de via</td>\n",
              "      <td>1</td>\n",
              "      <td>5</td>\n",
              "      <td>2022-01-05</td>\n",
              "      <td>-75.554390</td>\n",
              "      <td>6.277247</td>\n",
              "      <td>Wednesday</td>\n",
              "    </tr>\n",
              "    <tr>\n",
              "      <th>23576</th>\n",
              "      <td>21:30:00</td>\n",
              "      <td>MARTES</td>\n",
              "      <td>Otro</td>\n",
              "      <td>Malla vial</td>\n",
              "      <td>HERIDO</td>\n",
              "      <td>Suburbano Mirador del Poblado</td>\n",
              "      <td>Corregimiento de Santa Elena</td>\n",
              "      <td>Tramo de via</td>\n",
              "      <td>4</td>\n",
              "      <td>26</td>\n",
              "      <td>2022-04-26</td>\n",
              "      <td>-75.552200</td>\n",
              "      <td>6.215643</td>\n",
              "      <td>Tuesday</td>\n",
              "    </tr>\n",
              "  </tbody>\n",
              "</table>\n",
              "<p>23558 rows × 14 columns</p>\n",
              "</div>\n",
              "      <button class=\"colab-df-convert\" onclick=\"convertToInteractive('df-95d38fc4-ec15-45d4-b12e-531d1160ca4c')\"\n",
              "              title=\"Convert this dataframe to an interactive table.\"\n",
              "              style=\"display:none;\">\n",
              "        \n",
              "  <svg xmlns=\"http://www.w3.org/2000/svg\" height=\"24px\"viewBox=\"0 0 24 24\"\n",
              "       width=\"24px\">\n",
              "    <path d=\"M0 0h24v24H0V0z\" fill=\"none\"/>\n",
              "    <path d=\"M18.56 5.44l.94 2.06.94-2.06 2.06-.94-2.06-.94-.94-2.06-.94 2.06-2.06.94zm-11 1L8.5 8.5l.94-2.06 2.06-.94-2.06-.94L8.5 2.5l-.94 2.06-2.06.94zm10 10l.94 2.06.94-2.06 2.06-.94-2.06-.94-.94-2.06-.94 2.06-2.06.94z\"/><path d=\"M17.41 7.96l-1.37-1.37c-.4-.4-.92-.59-1.43-.59-.52 0-1.04.2-1.43.59L10.3 9.45l-7.72 7.72c-.78.78-.78 2.05 0 2.83L4 21.41c.39.39.9.59 1.41.59.51 0 1.02-.2 1.41-.59l7.78-7.78 2.81-2.81c.8-.78.8-2.07 0-2.86zM5.41 20L4 18.59l7.72-7.72 1.47 1.35L5.41 20z\"/>\n",
              "  </svg>\n",
              "      </button>\n",
              "      \n",
              "  <style>\n",
              "    .colab-df-container {\n",
              "      display:flex;\n",
              "      flex-wrap:wrap;\n",
              "      gap: 12px;\n",
              "    }\n",
              "\n",
              "    .colab-df-convert {\n",
              "      background-color: #E8F0FE;\n",
              "      border: none;\n",
              "      border-radius: 50%;\n",
              "      cursor: pointer;\n",
              "      display: none;\n",
              "      fill: #1967D2;\n",
              "      height: 32px;\n",
              "      padding: 0 0 0 0;\n",
              "      width: 32px;\n",
              "    }\n",
              "\n",
              "    .colab-df-convert:hover {\n",
              "      background-color: #E2EBFA;\n",
              "      box-shadow: 0px 1px 2px rgba(60, 64, 67, 0.3), 0px 1px 3px 1px rgba(60, 64, 67, 0.15);\n",
              "      fill: #174EA6;\n",
              "    }\n",
              "\n",
              "    [theme=dark] .colab-df-convert {\n",
              "      background-color: #3B4455;\n",
              "      fill: #D2E3FC;\n",
              "    }\n",
              "\n",
              "    [theme=dark] .colab-df-convert:hover {\n",
              "      background-color: #434B5C;\n",
              "      box-shadow: 0px 1px 3px 1px rgba(0, 0, 0, 0.15);\n",
              "      filter: drop-shadow(0px 1px 2px rgba(0, 0, 0, 0.3));\n",
              "      fill: #FFFFFF;\n",
              "    }\n",
              "  </style>\n",
              "\n",
              "      <script>\n",
              "        const buttonEl =\n",
              "          document.querySelector('#df-95d38fc4-ec15-45d4-b12e-531d1160ca4c button.colab-df-convert');\n",
              "        buttonEl.style.display =\n",
              "          google.colab.kernel.accessAllowed ? 'block' : 'none';\n",
              "\n",
              "        async function convertToInteractive(key) {\n",
              "          const element = document.querySelector('#df-95d38fc4-ec15-45d4-b12e-531d1160ca4c');\n",
              "          const dataTable =\n",
              "            await google.colab.kernel.invokeFunction('convertToInteractive',\n",
              "                                                     [key], {});\n",
              "          if (!dataTable) return;\n",
              "\n",
              "          const docLinkHtml = 'Like what you see? Visit the ' +\n",
              "            '<a target=\"_blank\" href=https://colab.research.google.com/notebooks/data_table.ipynb>data table notebook</a>'\n",
              "            + ' to learn more about interactive tables.';\n",
              "          element.innerHTML = '';\n",
              "          dataTable['output_type'] = 'display_data';\n",
              "          await google.colab.output.renderOutput(dataTable, element);\n",
              "          const docLink = document.createElement('div');\n",
              "          docLink.innerHTML = docLinkHtml;\n",
              "          element.appendChild(docLink);\n",
              "        }\n",
              "      </script>\n",
              "    </div>\n",
              "  </div>\n",
              "  "
            ]
          },
          "metadata": {},
          "execution_count": 198
        }
      ],
      "source": [
        "#para el manejo de faltantes lo llenaremos con el más frecuente \n",
        "df2=df.copy()\n",
        "most_common_b=df2['BARRIO'].mode()[0]\n",
        "most_common_c=df2['COMUNA'].mode()[0]\n",
        "df2.fillna(most_common_b,inplace=True)\n",
        "df2.fillna(most_common_c, inplace=True)\n",
        "df2"
      ]
    },
    {
      "cell_type": "code",
      "execution_count": null,
      "metadata": {
        "colab": {
          "base_uri": "https://localhost:8080/"
        },
        "id": "-1ccBhjcuTER",
        "outputId": "e5914439-71dc-427e-9b15-18132510c123"
      },
      "outputs": [
        {
          "output_type": "execute_result",
          "data": {
            "text/plain": [
              "HORA           0\n",
              "DIA_NOMBRE     0\n",
              "CLASE          0\n",
              "TIPO_GEOCOD    0\n",
              "GRAVEDAD       0\n",
              "BARRIO         0\n",
              "COMUNA         0\n",
              "DISENO         0\n",
              "MES            0\n",
              "DIA            0\n",
              "FECHA          0\n",
              "LONGITUD       0\n",
              "LATITUD        0\n",
              "Dia_Nomb       0\n",
              "dtype: int64"
            ]
          },
          "metadata": {},
          "execution_count": 199
        }
      ],
      "source": [
        "#Revisión de los valores faltantes en la copia de la data \n",
        "df2.isna().sum()"
      ]
    },
    {
      "cell_type": "code",
      "execution_count": null,
      "metadata": {
        "colab": {
          "base_uri": "https://localhost:8080/",
          "height": 175
        },
        "id": "D9qXCbG2yuGg",
        "outputId": "406192bd-b97c-41cd-a32a-1b262aa2a3aa"
      },
      "outputs": [
        {
          "output_type": "execute_result",
          "data": {
            "text/plain": [
              "            HORA DIA_NOMBRE   CLASE TIPO_GEOCOD GRAVEDAD BARRIO  \\\n",
              "count      23558      23558   23558       23558    23558  23558   \n",
              "unique      1086          7       6         825        3    317   \n",
              "top     16:00:00  VIERNES    Choque  Malla vial   HERIDO          \n",
              "freq         391       3632   15432       18204    13660   2943   \n",
              "\n",
              "               COMUNA        DISENO Dia_Nomb  \n",
              "count           23558         23558    23558  \n",
              "unique             32            12        7  \n",
              "top     La Candelaria  Tramo de via   Friday  \n",
              "freq             3978         12300     3632  "
            ],
            "text/html": [
              "\n",
              "  <div id=\"df-e9265e45-d4b3-4bb2-948e-a0a0b3b8471f\">\n",
              "    <div class=\"colab-df-container\">\n",
              "      <div>\n",
              "<style scoped>\n",
              "    .dataframe tbody tr th:only-of-type {\n",
              "        vertical-align: middle;\n",
              "    }\n",
              "\n",
              "    .dataframe tbody tr th {\n",
              "        vertical-align: top;\n",
              "    }\n",
              "\n",
              "    .dataframe thead th {\n",
              "        text-align: right;\n",
              "    }\n",
              "</style>\n",
              "<table border=\"1\" class=\"dataframe\">\n",
              "  <thead>\n",
              "    <tr style=\"text-align: right;\">\n",
              "      <th></th>\n",
              "      <th>HORA</th>\n",
              "      <th>DIA_NOMBRE</th>\n",
              "      <th>CLASE</th>\n",
              "      <th>TIPO_GEOCOD</th>\n",
              "      <th>GRAVEDAD</th>\n",
              "      <th>BARRIO</th>\n",
              "      <th>COMUNA</th>\n",
              "      <th>DISENO</th>\n",
              "      <th>Dia_Nomb</th>\n",
              "    </tr>\n",
              "  </thead>\n",
              "  <tbody>\n",
              "    <tr>\n",
              "      <th>count</th>\n",
              "      <td>23558</td>\n",
              "      <td>23558</td>\n",
              "      <td>23558</td>\n",
              "      <td>23558</td>\n",
              "      <td>23558</td>\n",
              "      <td>23558</td>\n",
              "      <td>23558</td>\n",
              "      <td>23558</td>\n",
              "      <td>23558</td>\n",
              "    </tr>\n",
              "    <tr>\n",
              "      <th>unique</th>\n",
              "      <td>1086</td>\n",
              "      <td>7</td>\n",
              "      <td>6</td>\n",
              "      <td>825</td>\n",
              "      <td>3</td>\n",
              "      <td>317</td>\n",
              "      <td>32</td>\n",
              "      <td>12</td>\n",
              "      <td>7</td>\n",
              "    </tr>\n",
              "    <tr>\n",
              "      <th>top</th>\n",
              "      <td>16:00:00</td>\n",
              "      <td>VIERNES</td>\n",
              "      <td>Choque</td>\n",
              "      <td>Malla vial</td>\n",
              "      <td>HERIDO</td>\n",
              "      <td></td>\n",
              "      <td>La Candelaria</td>\n",
              "      <td>Tramo de via</td>\n",
              "      <td>Friday</td>\n",
              "    </tr>\n",
              "    <tr>\n",
              "      <th>freq</th>\n",
              "      <td>391</td>\n",
              "      <td>3632</td>\n",
              "      <td>15432</td>\n",
              "      <td>18204</td>\n",
              "      <td>13660</td>\n",
              "      <td>2943</td>\n",
              "      <td>3978</td>\n",
              "      <td>12300</td>\n",
              "      <td>3632</td>\n",
              "    </tr>\n",
              "  </tbody>\n",
              "</table>\n",
              "</div>\n",
              "      <button class=\"colab-df-convert\" onclick=\"convertToInteractive('df-e9265e45-d4b3-4bb2-948e-a0a0b3b8471f')\"\n",
              "              title=\"Convert this dataframe to an interactive table.\"\n",
              "              style=\"display:none;\">\n",
              "        \n",
              "  <svg xmlns=\"http://www.w3.org/2000/svg\" height=\"24px\"viewBox=\"0 0 24 24\"\n",
              "       width=\"24px\">\n",
              "    <path d=\"M0 0h24v24H0V0z\" fill=\"none\"/>\n",
              "    <path d=\"M18.56 5.44l.94 2.06.94-2.06 2.06-.94-2.06-.94-.94-2.06-.94 2.06-2.06.94zm-11 1L8.5 8.5l.94-2.06 2.06-.94-2.06-.94L8.5 2.5l-.94 2.06-2.06.94zm10 10l.94 2.06.94-2.06 2.06-.94-2.06-.94-.94-2.06-.94 2.06-2.06.94z\"/><path d=\"M17.41 7.96l-1.37-1.37c-.4-.4-.92-.59-1.43-.59-.52 0-1.04.2-1.43.59L10.3 9.45l-7.72 7.72c-.78.78-.78 2.05 0 2.83L4 21.41c.39.39.9.59 1.41.59.51 0 1.02-.2 1.41-.59l7.78-7.78 2.81-2.81c.8-.78.8-2.07 0-2.86zM5.41 20L4 18.59l7.72-7.72 1.47 1.35L5.41 20z\"/>\n",
              "  </svg>\n",
              "      </button>\n",
              "      \n",
              "  <style>\n",
              "    .colab-df-container {\n",
              "      display:flex;\n",
              "      flex-wrap:wrap;\n",
              "      gap: 12px;\n",
              "    }\n",
              "\n",
              "    .colab-df-convert {\n",
              "      background-color: #E8F0FE;\n",
              "      border: none;\n",
              "      border-radius: 50%;\n",
              "      cursor: pointer;\n",
              "      display: none;\n",
              "      fill: #1967D2;\n",
              "      height: 32px;\n",
              "      padding: 0 0 0 0;\n",
              "      width: 32px;\n",
              "    }\n",
              "\n",
              "    .colab-df-convert:hover {\n",
              "      background-color: #E2EBFA;\n",
              "      box-shadow: 0px 1px 2px rgba(60, 64, 67, 0.3), 0px 1px 3px 1px rgba(60, 64, 67, 0.15);\n",
              "      fill: #174EA6;\n",
              "    }\n",
              "\n",
              "    [theme=dark] .colab-df-convert {\n",
              "      background-color: #3B4455;\n",
              "      fill: #D2E3FC;\n",
              "    }\n",
              "\n",
              "    [theme=dark] .colab-df-convert:hover {\n",
              "      background-color: #434B5C;\n",
              "      box-shadow: 0px 1px 3px 1px rgba(0, 0, 0, 0.15);\n",
              "      filter: drop-shadow(0px 1px 2px rgba(0, 0, 0, 0.3));\n",
              "      fill: #FFFFFF;\n",
              "    }\n",
              "  </style>\n",
              "\n",
              "      <script>\n",
              "        const buttonEl =\n",
              "          document.querySelector('#df-e9265e45-d4b3-4bb2-948e-a0a0b3b8471f button.colab-df-convert');\n",
              "        buttonEl.style.display =\n",
              "          google.colab.kernel.accessAllowed ? 'block' : 'none';\n",
              "\n",
              "        async function convertToInteractive(key) {\n",
              "          const element = document.querySelector('#df-e9265e45-d4b3-4bb2-948e-a0a0b3b8471f');\n",
              "          const dataTable =\n",
              "            await google.colab.kernel.invokeFunction('convertToInteractive',\n",
              "                                                     [key], {});\n",
              "          if (!dataTable) return;\n",
              "\n",
              "          const docLinkHtml = 'Like what you see? Visit the ' +\n",
              "            '<a target=\"_blank\" href=https://colab.research.google.com/notebooks/data_table.ipynb>data table notebook</a>'\n",
              "            + ' to learn more about interactive tables.';\n",
              "          element.innerHTML = '';\n",
              "          dataTable['output_type'] = 'display_data';\n",
              "          await google.colab.output.renderOutput(dataTable, element);\n",
              "          const docLink = document.createElement('div');\n",
              "          docLink.innerHTML = docLinkHtml;\n",
              "          element.appendChild(docLink);\n",
              "        }\n",
              "      </script>\n",
              "    </div>\n",
              "  </div>\n",
              "  "
            ]
          },
          "metadata": {},
          "execution_count": 200
        }
      ],
      "source": [
        "#descripción de variables categoricas\n",
        "df2.describe(include='O')"
      ]
    },
    {
      "cell_type": "code",
      "execution_count": null,
      "metadata": {
        "colab": {
          "base_uri": "https://localhost:8080/",
          "height": 175
        },
        "id": "H8zRxKlkukvo",
        "outputId": "0b424b4a-acd5-409f-9e07-23860addcd19"
      },
      "outputs": [
        {
          "output_type": "execute_result",
          "data": {
            "text/plain": [
              "            HORA DIA_NOMBRE   CLASE TIPO_GEOCOD GRAVEDAD BARRIO  \\\n",
              "count      23558      23558   23558       23558    23558  21780   \n",
              "unique      1086          7       6         825        3    317   \n",
              "top     16:00:00  VIERNES    Choque  Malla vial   HERIDO          \n",
              "freq         391       3632   15432       18204    13660   1165   \n",
              "\n",
              "               COMUNA        DISENO Dia_Nomb  \n",
              "count           21780         23558    23558  \n",
              "unique             32            12        7  \n",
              "top     La Candelaria  Tramo de via   Friday  \n",
              "freq             3978         12300     3632  "
            ],
            "text/html": [
              "\n",
              "  <div id=\"df-ce63221f-81a0-4132-8153-6416ed9df9dd\">\n",
              "    <div class=\"colab-df-container\">\n",
              "      <div>\n",
              "<style scoped>\n",
              "    .dataframe tbody tr th:only-of-type {\n",
              "        vertical-align: middle;\n",
              "    }\n",
              "\n",
              "    .dataframe tbody tr th {\n",
              "        vertical-align: top;\n",
              "    }\n",
              "\n",
              "    .dataframe thead th {\n",
              "        text-align: right;\n",
              "    }\n",
              "</style>\n",
              "<table border=\"1\" class=\"dataframe\">\n",
              "  <thead>\n",
              "    <tr style=\"text-align: right;\">\n",
              "      <th></th>\n",
              "      <th>HORA</th>\n",
              "      <th>DIA_NOMBRE</th>\n",
              "      <th>CLASE</th>\n",
              "      <th>TIPO_GEOCOD</th>\n",
              "      <th>GRAVEDAD</th>\n",
              "      <th>BARRIO</th>\n",
              "      <th>COMUNA</th>\n",
              "      <th>DISENO</th>\n",
              "      <th>Dia_Nomb</th>\n",
              "    </tr>\n",
              "  </thead>\n",
              "  <tbody>\n",
              "    <tr>\n",
              "      <th>count</th>\n",
              "      <td>23558</td>\n",
              "      <td>23558</td>\n",
              "      <td>23558</td>\n",
              "      <td>23558</td>\n",
              "      <td>23558</td>\n",
              "      <td>21780</td>\n",
              "      <td>21780</td>\n",
              "      <td>23558</td>\n",
              "      <td>23558</td>\n",
              "    </tr>\n",
              "    <tr>\n",
              "      <th>unique</th>\n",
              "      <td>1086</td>\n",
              "      <td>7</td>\n",
              "      <td>6</td>\n",
              "      <td>825</td>\n",
              "      <td>3</td>\n",
              "      <td>317</td>\n",
              "      <td>32</td>\n",
              "      <td>12</td>\n",
              "      <td>7</td>\n",
              "    </tr>\n",
              "    <tr>\n",
              "      <th>top</th>\n",
              "      <td>16:00:00</td>\n",
              "      <td>VIERNES</td>\n",
              "      <td>Choque</td>\n",
              "      <td>Malla vial</td>\n",
              "      <td>HERIDO</td>\n",
              "      <td></td>\n",
              "      <td>La Candelaria</td>\n",
              "      <td>Tramo de via</td>\n",
              "      <td>Friday</td>\n",
              "    </tr>\n",
              "    <tr>\n",
              "      <th>freq</th>\n",
              "      <td>391</td>\n",
              "      <td>3632</td>\n",
              "      <td>15432</td>\n",
              "      <td>18204</td>\n",
              "      <td>13660</td>\n",
              "      <td>1165</td>\n",
              "      <td>3978</td>\n",
              "      <td>12300</td>\n",
              "      <td>3632</td>\n",
              "    </tr>\n",
              "  </tbody>\n",
              "</table>\n",
              "</div>\n",
              "      <button class=\"colab-df-convert\" onclick=\"convertToInteractive('df-ce63221f-81a0-4132-8153-6416ed9df9dd')\"\n",
              "              title=\"Convert this dataframe to an interactive table.\"\n",
              "              style=\"display:none;\">\n",
              "        \n",
              "  <svg xmlns=\"http://www.w3.org/2000/svg\" height=\"24px\"viewBox=\"0 0 24 24\"\n",
              "       width=\"24px\">\n",
              "    <path d=\"M0 0h24v24H0V0z\" fill=\"none\"/>\n",
              "    <path d=\"M18.56 5.44l.94 2.06.94-2.06 2.06-.94-2.06-.94-.94-2.06-.94 2.06-2.06.94zm-11 1L8.5 8.5l.94-2.06 2.06-.94-2.06-.94L8.5 2.5l-.94 2.06-2.06.94zm10 10l.94 2.06.94-2.06 2.06-.94-2.06-.94-.94-2.06-.94 2.06-2.06.94z\"/><path d=\"M17.41 7.96l-1.37-1.37c-.4-.4-.92-.59-1.43-.59-.52 0-1.04.2-1.43.59L10.3 9.45l-7.72 7.72c-.78.78-.78 2.05 0 2.83L4 21.41c.39.39.9.59 1.41.59.51 0 1.02-.2 1.41-.59l7.78-7.78 2.81-2.81c.8-.78.8-2.07 0-2.86zM5.41 20L4 18.59l7.72-7.72 1.47 1.35L5.41 20z\"/>\n",
              "  </svg>\n",
              "      </button>\n",
              "      \n",
              "  <style>\n",
              "    .colab-df-container {\n",
              "      display:flex;\n",
              "      flex-wrap:wrap;\n",
              "      gap: 12px;\n",
              "    }\n",
              "\n",
              "    .colab-df-convert {\n",
              "      background-color: #E8F0FE;\n",
              "      border: none;\n",
              "      border-radius: 50%;\n",
              "      cursor: pointer;\n",
              "      display: none;\n",
              "      fill: #1967D2;\n",
              "      height: 32px;\n",
              "      padding: 0 0 0 0;\n",
              "      width: 32px;\n",
              "    }\n",
              "\n",
              "    .colab-df-convert:hover {\n",
              "      background-color: #E2EBFA;\n",
              "      box-shadow: 0px 1px 2px rgba(60, 64, 67, 0.3), 0px 1px 3px 1px rgba(60, 64, 67, 0.15);\n",
              "      fill: #174EA6;\n",
              "    }\n",
              "\n",
              "    [theme=dark] .colab-df-convert {\n",
              "      background-color: #3B4455;\n",
              "      fill: #D2E3FC;\n",
              "    }\n",
              "\n",
              "    [theme=dark] .colab-df-convert:hover {\n",
              "      background-color: #434B5C;\n",
              "      box-shadow: 0px 1px 3px 1px rgba(0, 0, 0, 0.15);\n",
              "      filter: drop-shadow(0px 1px 2px rgba(0, 0, 0, 0.3));\n",
              "      fill: #FFFFFF;\n",
              "    }\n",
              "  </style>\n",
              "\n",
              "      <script>\n",
              "        const buttonEl =\n",
              "          document.querySelector('#df-ce63221f-81a0-4132-8153-6416ed9df9dd button.colab-df-convert');\n",
              "        buttonEl.style.display =\n",
              "          google.colab.kernel.accessAllowed ? 'block' : 'none';\n",
              "\n",
              "        async function convertToInteractive(key) {\n",
              "          const element = document.querySelector('#df-ce63221f-81a0-4132-8153-6416ed9df9dd');\n",
              "          const dataTable =\n",
              "            await google.colab.kernel.invokeFunction('convertToInteractive',\n",
              "                                                     [key], {});\n",
              "          if (!dataTable) return;\n",
              "\n",
              "          const docLinkHtml = 'Like what you see? Visit the ' +\n",
              "            '<a target=\"_blank\" href=https://colab.research.google.com/notebooks/data_table.ipynb>data table notebook</a>'\n",
              "            + ' to learn more about interactive tables.';\n",
              "          element.innerHTML = '';\n",
              "          dataTable['output_type'] = 'display_data';\n",
              "          await google.colab.output.renderOutput(dataTable, element);\n",
              "          const docLink = document.createElement('div');\n",
              "          docLink.innerHTML = docLinkHtml;\n",
              "          element.appendChild(docLink);\n",
              "        }\n",
              "      </script>\n",
              "    </div>\n",
              "  </div>\n",
              "  "
            ]
          },
          "metadata": {},
          "execution_count": 201
        }
      ],
      "source": [
        "#Sin el relleno de los datos \n",
        "df.describe(include='O')"
      ]
    },
    {
      "cell_type": "markdown",
      "metadata": {
        "id": "w-lCTPYtzURu"
      },
      "source": [
        "* Vemos que las las 4 pm ocurren más accidentes, la mayoria son de tipo Herido y por choque "
      ]
    },
    {
      "cell_type": "markdown",
      "metadata": {
        "id": "IadOFEPZJo5y"
      },
      "source": [
        "✈  Veamos algunas variables categóricas para determinar si hay inconsistencia de los datos"
      ]
    },
    {
      "cell_type": "code",
      "execution_count": null,
      "metadata": {
        "colab": {
          "base_uri": "https://localhost:8080/"
        },
        "id": "72X3D6zS9Eqt",
        "outputId": "bc03a145-2c0e-43ab-ac71-6a9d39b977d0"
      },
      "outputs": [
        {
          "output_type": "execute_result",
          "data": {
            "text/plain": [
              "Choque            15432\n",
              "Otro               5159\n",
              "Atropello          2072\n",
              "Caida Ocupante      703\n",
              "Volcamiento         188\n",
              "Incendio              4\n",
              "Name: CLASE, dtype: int64"
            ]
          },
          "metadata": {},
          "execution_count": 202
        }
      ],
      "source": [
        "df['CLASE'].value_counts()"
      ]
    },
    {
      "cell_type": "code",
      "execution_count": null,
      "metadata": {
        "colab": {
          "base_uri": "https://localhost:8080/"
        },
        "id": "OFS9RP6sAXHh",
        "outputId": "0c9abf6e-e8e4-47be-b97a-b873637e8a48"
      },
      "outputs": [
        {
          "output_type": "execute_result",
          "data": {
            "text/plain": [
              "Malla vial                          18204\n",
              "No Ubicada                           2274\n",
              "Malla vial cruce invertido            507\n",
              "EPM sin Interior                      413\n",
              "EPM con Interior                      232\n",
              "                                    ...  \n",
              "Malla vial aproximada: CL 65-108        1\n",
              "Malla vial aproximada: CR 47-112        1\n",
              "Malla vial aproximada: CR 89-31         1\n",
              "Malla vial aproximada: CR 33-35         1\n",
              "Malla vial aproximada: CL 67-53         1\n",
              "Name: TIPO_GEOCOD, Length: 825, dtype: int64"
            ]
          },
          "metadata": {},
          "execution_count": 141
        }
      ],
      "source": [
        "df['TIPO_GEOCOD'].value_counts()"
      ]
    },
    {
      "cell_type": "code",
      "execution_count": null,
      "metadata": {
        "colab": {
          "base_uri": "https://localhost:8080/"
        },
        "id": "RarR6MkzAqXv",
        "outputId": "56309a16-1c88-4a5e-a1b6-45d3307fc516"
      },
      "outputs": [
        {
          "output_type": "execute_result",
          "data": {
            "text/plain": [
              "Tramo de via     12300\n",
              "Lote o Predio     5636\n",
              "Interseccion      4620\n",
              "Glorieta           474\n",
              "Paso Elevado       151\n",
              "Ciclo Ruta         105\n",
              "Puente             105\n",
              "Paso Inferior      100\n",
              "Tunel               46\n",
              "Paso a Nivel        12\n",
              "Pontón               5\n",
              "Via peatonal         4\n",
              "Name: DISENO, dtype: int64"
            ]
          },
          "metadata": {},
          "execution_count": 110
        }
      ],
      "source": [
        "df['DISENO'].value_counts()"
      ]
    },
    {
      "cell_type": "code",
      "execution_count": null,
      "metadata": {
        "colab": {
          "base_uri": "https://localhost:8080/"
        },
        "id": "Lu1UEvFlA_IA",
        "outputId": "ca02943c-5de3-4104-db70-11cb4dd25095"
      },
      "outputs": [
        {
          "output_type": "execute_result",
          "data": {
            "text/plain": [
              "HERIDO        13660\n",
              "SOLO DAÑOS     9769\n",
              "MUERTO          129\n",
              "Name: GRAVEDAD, dtype: int64"
            ]
          },
          "metadata": {},
          "execution_count": 111
        }
      ],
      "source": [
        "df['GRAVEDAD'].value_counts()"
      ]
    },
    {
      "cell_type": "markdown",
      "metadata": {
        "id": "zmIU5LRIm85q"
      },
      "source": [
        "# Visualización inicial "
      ]
    },
    {
      "cell_type": "code",
      "execution_count": null,
      "metadata": {
        "id": "kDcRSk0hnHyW"
      },
      "outputs": [],
      "source": [
        "import matplotlib.pyplot as plt\n",
        "%matplotlib inline\n",
        "import seaborn as sn"
      ]
    },
    {
      "cell_type": "code",
      "source": [
        "df.hist()\n",
        "plt.show()"
      ],
      "metadata": {
        "colab": {
          "base_uri": "https://localhost:8080/",
          "height": 501
        },
        "id": "UvcvXB_jlCdX",
        "outputId": "f3c2ffec-7df5-4ea1-e91e-08eb2a2b7ec6"
      },
      "execution_count": null,
      "outputs": [
        {
          "output_type": "display_data",
          "data": {
            "text/plain": [
              "<Figure size 1440x576 with 9 Axes>"
            ],
            "image/png": "[encoded data removed]"
          },
          "metadata": {}
        }
      ]
    },
    {
      "cell_type": "code",
      "execution_count": null,
      "metadata": {
        "colab": {
          "base_uri": "https://localhost:8080/",
          "height": 354
        },
        "id": "EfHudTmt4zAP",
        "outputId": "f7cf4a11-bb80-4055-c3c6-426c5bb1f35c"
      },
      "outputs": [
        {
          "output_type": "execute_result",
          "data": {
            "text/plain": [
              "<matplotlib.axes._subplots.AxesSubplot at 0x7f0daaada100>"
            ]
          },
          "metadata": {},
          "execution_count": 143
        },
        {
          "output_type": "display_data",
          "data": {
            "text/plain": [
              "<Figure size 432x288 with 1 Axes>"
            ],
            "image/png": "[encoded data removed]"
          },
          "metadata": {
            "needs_background": "light"
          }
        }
      ],
      "source": [
        "#Grafico de barras de la gravedad de los incidentes \n",
        "df['GRAVEDAD'].value_counts().plot(kind='bar', title='Gravedad de incidentes')"
      ]
    },
    {
      "cell_type": "code",
      "execution_count": null,
      "metadata": {
        "colab": {
          "base_uri": "https://localhost:8080/",
          "height": 368
        },
        "id": "QxugvNzNvt_a",
        "outputId": "1a17df7f-f24b-40cd-8687-c5c7f03f03b0"
      },
      "outputs": [
        {
          "output_type": "execute_result",
          "data": {
            "text/plain": [
              "<matplotlib.axes._subplots.AxesSubplot at 0x7f0daa4d66a0>"
            ]
          },
          "metadata": {},
          "execution_count": 204
        },
        {
          "output_type": "display_data",
          "data": {
            "text/plain": [
              "<Figure size 432x288 with 1 Axes>"
            ],
            "image/png": "[encoded data removed]"
          },
          "metadata": {
            "needs_background": "light"
          }
        }
      ],
      "source": [
        "#Grafico de barras de la gravedad de los incidentes \n",
        "df['CLASE'].value_counts().plot(kind='bar', title='Clase de accidente')"
      ]
    },
    {
      "cell_type": "code",
      "execution_count": null,
      "metadata": {
        "colab": {
          "base_uri": "https://localhost:8080/",
          "height": 427
        },
        "id": "ladKG4KUw598",
        "outputId": "4ac922a9-d00d-424d-be95-daf0202cd47e"
      },
      "outputs": [
        {
          "output_type": "display_data",
          "data": {
            "text/plain": [
              "<Figure size 432x288 with 1 Axes>"
            ],
            "image/png": "[encoded data removed]"
          },
          "metadata": {
            "needs_background": "light"
          }
        }
      ],
      "source": [
        "df[['CLASE','GRAVEDAD']].value_counts().plot(kind='bar', color='g')\n",
        "plt.title('Gravedad según la clase de accidente ')\n",
        "plt.ylabel('Cantidad')\n",
        "plt.show()"
      ]
    },
    {
      "cell_type": "code",
      "source": [
        "df[['DISENO','GRAVEDAD']].value_counts().plot(kind='bar', color='g')\n",
        "plt.title('Gravedad del incidente según el diseño de la via ')\n",
        "plt.ylabel('Cantidad')\n",
        "plt.show()"
      ],
      "metadata": {
        "colab": {
          "base_uri": "https://localhost:8080/",
          "height": 604
        },
        "id": "f1NmY0OU2Yja",
        "outputId": "114934f5-0aef-4080-c1ec-38585d631d53"
      },
      "execution_count": null,
      "outputs": [
        {
          "output_type": "display_data",
          "data": {
            "text/plain": [
              "<Figure size 1440x576 with 1 Axes>"
            ],
            "image/png": "[encoded data removed]"
          },
          "metadata": {}
        }
      ]
    },
    {
      "cell_type": "code",
      "source": [
        "df.groupby(['COMUNA','GRAVEDAD']).GRAVEDAD.count().unstack().plot(kind='bar')\n",
        "plt.title('Gravedad de los incidentes en las comunas de Medellín')\n",
        "plt.ylabel('CANTIDAD')\n",
        "plt.show"
      ],
      "metadata": {
        "colab": {
          "base_uri": "https://localhost:8080/",
          "height": 775
        },
        "id": "_5MNT-ii2_fT",
        "outputId": "699f068d-2533-4dfa-8027-40ab5bd4e5e8"
      },
      "execution_count": null,
      "outputs": [
        {
          "output_type": "execute_result",
          "data": {
            "text/plain": [
              "<function matplotlib.pyplot.show(*args, **kw)>"
            ]
          },
          "metadata": {},
          "execution_count": 285
        },
        {
          "output_type": "display_data",
          "data": {
            "text/plain": [
              "<Figure size 1440x576 with 1 Axes>"
            ],
            "image/png": "[encoded data removed]"
          },
          "metadata": {}
        }
      ]
    },
    {
      "cell_type": "code",
      "source": [
        "df.groupby(['CLASE','GRAVEDAD']).GRAVEDAD.count().unstack().plot(kind='bar')\n",
        "plt.title('Gravedad según la clase de accidente')\n",
        "plt.ylabel('CANTIDAD')\n",
        "plt.show"
      ],
      "metadata": {
        "colab": {
          "base_uri": "https://localhost:8080/",
          "height": 614
        },
        "id": "XFfN2-bw47NQ",
        "outputId": "ab5b320c-345b-4abe-b34b-133f535bbb34"
      },
      "execution_count": null,
      "outputs": [
        {
          "output_type": "execute_result",
          "data": {
            "text/plain": [
              "<function matplotlib.pyplot.show(*args, **kw)>"
            ]
          },
          "metadata": {},
          "execution_count": 287
        },
        {
          "output_type": "display_data",
          "data": {
            "text/plain": [
              "<Figure size 1440x576 with 1 Axes>"
            ],
            "image/png": "[encoded data removed]"
          },
          "metadata": {}
        }
      ]
    },
    {
      "cell_type": "code",
      "source": [
        "df.groupby(['DISENO','GRAVEDAD']).GRAVEDAD.count().unstack().plot(kind='bar')\n",
        "plt.title('Gravedad de los incidentes en las comunas de Medellín')\n",
        "plt.ylabel('Cantidad ')\n",
        "plt.show"
      ],
      "metadata": {
        "colab": {
          "base_uri": "https://localhost:8080/",
          "height": 598
        },
        "id": "_iLM3Frw4eha",
        "outputId": "39155cc5-e311-487d-ef51-e58081ce0db5"
      },
      "execution_count": null,
      "outputs": [
        {
          "output_type": "execute_result",
          "data": {
            "text/plain": [
              "<function matplotlib.pyplot.show(*args, **kw)>"
            ]
          },
          "metadata": {},
          "execution_count": 284
        },
        {
          "output_type": "display_data",
          "data": {
            "text/plain": [
              "<Figure size 1440x576 with 1 Axes>"
            ],
            "image/png": "[encoded data removed]"
          },
          "metadata": {}
        }
      ]
    },
    {
      "cell_type": "markdown",
      "source": [
        "# Pre-procesamiento para el modelo"
      ],
      "metadata": {
        "id": "d-m2wtKuJew_"
      }
    },
    {
      "cell_type": "code",
      "source": [
        "#eliminaremos la columna DIA_NOMBRE\n",
        "df=df.drop(columns=['DIA_NOMBRE'])"
      ],
      "metadata": {
        "id": "SLa1YZ-KSQ6T"
      },
      "execution_count": null,
      "outputs": []
    },
    {
      "cell_type": "code",
      "source": [
        "df['Dia_Nomb'].value_counts()"
      ],
      "metadata": {
        "colab": {
          "base_uri": "https://localhost:8080/"
        },
        "id": "_SFzFvhYSmDJ",
        "outputId": "011bc126-9f10-48b0-9768-49f92fd4f908"
      },
      "execution_count": null,
      "outputs": [
        {
          "output_type": "execute_result",
          "data": {
            "text/plain": [
              "Friday       3632\n",
              "Saturday     3594\n",
              "Tuesday      3505\n",
              "Thursday     3491\n",
              "Wednesday    3427\n",
              "Monday       3306\n",
              "Sunday       2603\n",
              "Name: Dia_Nomb, dtype: int64"
            ]
          },
          "metadata": {},
          "execution_count": 207
        }
      ]
    },
    {
      "cell_type": "code",
      "source": [
        "df['GRAVEDAD']=df['GRAVEDAD'].replace({'SOLO DAÑOS':1,'HERIDO':2,'MUERTO':3}) #Valores categoricos ordinaes \n",
        "df['Dia_Nomb']=df['Dia_Nomb'].replace({'Monday':1,'Tuesday':2,'Wednesday':3,'Thursday':4,'Friday':5,'Saturday':6,'Sunday':7})\n",
        "df.head()"
      ],
      "metadata": {
        "colab": {
          "base_uri": "https://localhost:8080/",
          "height": 206
        },
        "id": "PTmhWWvSJeOT",
        "outputId": "7bdcf0ed-c90e-40c4-8f9f-7ab23d6cde71"
      },
      "execution_count": null,
      "outputs": [
        {
          "output_type": "execute_result",
          "data": {
            "text/plain": [
              "       HORA   CLASE                      TIPO_GEOCOD  GRAVEDAD  \\\n",
              "0  08:05:00  Choque                       Malla vial         2   \n",
              "1  17:30:00  Choque                       Malla vial         3   \n",
              "2  17:00:00  Choque                       Malla vial         1   \n",
              "3  13:30:00  Choque  Malla vial aproximada: CR 48-31         2   \n",
              "4  06:45:00    Otro                       No Ubicada         2   \n",
              "\n",
              "             BARRIO            COMUNA         DISENO  MES  DIA      FECHA  \\\n",
              "0       Bolivariana  Laureles Estadio   Interseccion    3   16 2022-03-16   \n",
              "1            Tenche          Guayabal   Interseccion    3   16 2022-03-16   \n",
              "2        El Pesebre        San Javier   Interseccion    5    4 2022-05-04   \n",
              "3  Perpetuo Socorro     La Candelaria   Tramo de via    6   12 2022-06-12   \n",
              "4               NaN               NaN  Lote o Predio    5   18 2022-05-18   \n",
              "\n",
              "    LONGITUD   LATITUD  Dia_Nomb  \n",
              "0 -75.592351  6.243512         3  \n",
              "1 -75.579832  6.230514         3  \n",
              "2 -75.599001  6.269136         3  \n",
              "3 -75.573979  6.232882         7  \n",
              "4 -75.703816  6.221806         3  "
            ],
            "text/html": [
              "\n",
              "  <div id=\"df-e82de1b4-9820-47e1-806c-da0ba9ea4485\">\n",
              "    <div class=\"colab-df-container\">\n",
              "      <div>\n",
              "<style scoped>\n",
              "    .dataframe tbody tr th:only-of-type {\n",
              "        vertical-align: middle;\n",
              "    }\n",
              "\n",
              "    .dataframe tbody tr th {\n",
              "        vertical-align: top;\n",
              "    }\n",
              "\n",
              "    .dataframe thead th {\n",
              "        text-align: right;\n",
              "    }\n",
              "</style>\n",
              "<table border=\"1\" class=\"dataframe\">\n",
              "  <thead>\n",
              "    <tr style=\"text-align: right;\">\n",
              "      <th></th>\n",
              "      <th>HORA</th>\n",
              "      <th>CLASE</th>\n",
              "      <th>TIPO_GEOCOD</th>\n",
              "      <th>GRAVEDAD</th>\n",
              "      <th>BARRIO</th>\n",
              "      <th>COMUNA</th>\n",
              "      <th>DISENO</th>\n",
              "      <th>MES</th>\n",
              "      <th>DIA</th>\n",
              "      <th>FECHA</th>\n",
              "      <th>LONGITUD</th>\n",
              "      <th>LATITUD</th>\n",
              "      <th>Dia_Nomb</th>\n",
              "    </tr>\n",
              "  </thead>\n",
              "  <tbody>\n",
              "    <tr>\n",
              "      <th>0</th>\n",
              "      <td>08:05:00</td>\n",
              "      <td>Choque</td>\n",
              "      <td>Malla vial</td>\n",
              "      <td>2</td>\n",
              "      <td>Bolivariana</td>\n",
              "      <td>Laureles Estadio</td>\n",
              "      <td>Interseccion</td>\n",
              "      <td>3</td>\n",
              "      <td>16</td>\n",
              "      <td>2022-03-16</td>\n",
              "      <td>-75.592351</td>\n",
              "      <td>6.243512</td>\n",
              "      <td>3</td>\n",
              "    </tr>\n",
              "    <tr>\n",
              "      <th>1</th>\n",
              "      <td>17:30:00</td>\n",
              "      <td>Choque</td>\n",
              "      <td>Malla vial</td>\n",
              "      <td>3</td>\n",
              "      <td>Tenche</td>\n",
              "      <td>Guayabal</td>\n",
              "      <td>Interseccion</td>\n",
              "      <td>3</td>\n",
              "      <td>16</td>\n",
              "      <td>2022-03-16</td>\n",
              "      <td>-75.579832</td>\n",
              "      <td>6.230514</td>\n",
              "      <td>3</td>\n",
              "    </tr>\n",
              "    <tr>\n",
              "      <th>2</th>\n",
              "      <td>17:00:00</td>\n",
              "      <td>Choque</td>\n",
              "      <td>Malla vial</td>\n",
              "      <td>1</td>\n",
              "      <td>El Pesebre</td>\n",
              "      <td>San Javier</td>\n",
              "      <td>Interseccion</td>\n",
              "      <td>5</td>\n",
              "      <td>4</td>\n",
              "      <td>2022-05-04</td>\n",
              "      <td>-75.599001</td>\n",
              "      <td>6.269136</td>\n",
              "      <td>3</td>\n",
              "    </tr>\n",
              "    <tr>\n",
              "      <th>3</th>\n",
              "      <td>13:30:00</td>\n",
              "      <td>Choque</td>\n",
              "      <td>Malla vial aproximada: CR 48-31</td>\n",
              "      <td>2</td>\n",
              "      <td>Perpetuo Socorro</td>\n",
              "      <td>La Candelaria</td>\n",
              "      <td>Tramo de via</td>\n",
              "      <td>6</td>\n",
              "      <td>12</td>\n",
              "      <td>2022-06-12</td>\n",
              "      <td>-75.573979</td>\n",
              "      <td>6.232882</td>\n",
              "      <td>7</td>\n",
              "    </tr>\n",
              "    <tr>\n",
              "      <th>4</th>\n",
              "      <td>06:45:00</td>\n",
              "      <td>Otro</td>\n",
              "      <td>No Ubicada</td>\n",
              "      <td>2</td>\n",
              "      <td>NaN</td>\n",
              "      <td>NaN</td>\n",
              "      <td>Lote o Predio</td>\n",
              "      <td>5</td>\n",
              "      <td>18</td>\n",
              "      <td>2022-05-18</td>\n",
              "      <td>-75.703816</td>\n",
              "      <td>6.221806</td>\n",
              "      <td>3</td>\n",
              "    </tr>\n",
              "  </tbody>\n",
              "</table>\n",
              "</div>\n",
              "      <button class=\"colab-df-convert\" onclick=\"convertToInteractive('df-e82de1b4-9820-47e1-806c-da0ba9ea4485')\"\n",
              "              title=\"Convert this dataframe to an interactive table.\"\n",
              "              style=\"display:none;\">\n",
              "        \n",
              "  <svg xmlns=\"http://www.w3.org/2000/svg\" height=\"24px\"viewBox=\"0 0 24 24\"\n",
              "       width=\"24px\">\n",
              "    <path d=\"M0 0h24v24H0V0z\" fill=\"none\"/>\n",
              "    <path d=\"M18.56 5.44l.94 2.06.94-2.06 2.06-.94-2.06-.94-.94-2.06-.94 2.06-2.06.94zm-11 1L8.5 8.5l.94-2.06 2.06-.94-2.06-.94L8.5 2.5l-.94 2.06-2.06.94zm10 10l.94 2.06.94-2.06 2.06-.94-2.06-.94-.94-2.06-.94 2.06-2.06.94z\"/><path d=\"M17.41 7.96l-1.37-1.37c-.4-.4-.92-.59-1.43-.59-.52 0-1.04.2-1.43.59L10.3 9.45l-7.72 7.72c-.78.78-.78 2.05 0 2.83L4 21.41c.39.39.9.59 1.41.59.51 0 1.02-.2 1.41-.59l7.78-7.78 2.81-2.81c.8-.78.8-2.07 0-2.86zM5.41 20L4 18.59l7.72-7.72 1.47 1.35L5.41 20z\"/>\n",
              "  </svg>\n",
              "      </button>\n",
              "      \n",
              "  <style>\n",
              "    .colab-df-container {\n",
              "      display:flex;\n",
              "      flex-wrap:wrap;\n",
              "      gap: 12px;\n",
              "    }\n",
              "\n",
              "    .colab-df-convert {\n",
              "      background-color: #E8F0FE;\n",
              "      border: none;\n",
              "      border-radius: 50%;\n",
              "      cursor: pointer;\n",
              "      display: none;\n",
              "      fill: #1967D2;\n",
              "      height: 32px;\n",
              "      padding: 0 0 0 0;\n",
              "      width: 32px;\n",
              "    }\n",
              "\n",
              "    .colab-df-convert:hover {\n",
              "      background-color: #E2EBFA;\n",
              "      box-shadow: 0px 1px 2px rgba(60, 64, 67, 0.3), 0px 1px 3px 1px rgba(60, 64, 67, 0.15);\n",
              "      fill: #174EA6;\n",
              "    }\n",
              "\n",
              "    [theme=dark] .colab-df-convert {\n",
              "      background-color: #3B4455;\n",
              "      fill: #D2E3FC;\n",
              "    }\n",
              "\n",
              "    [theme=dark] .colab-df-convert:hover {\n",
              "      background-color: #434B5C;\n",
              "      box-shadow: 0px 1px 3px 1px rgba(0, 0, 0, 0.15);\n",
              "      filter: drop-shadow(0px 1px 2px rgba(0, 0, 0, 0.3));\n",
              "      fill: #FFFFFF;\n",
              "    }\n",
              "  </style>\n",
              "\n",
              "      <script>\n",
              "        const buttonEl =\n",
              "          document.querySelector('#df-e82de1b4-9820-47e1-806c-da0ba9ea4485 button.colab-df-convert');\n",
              "        buttonEl.style.display =\n",
              "          google.colab.kernel.accessAllowed ? 'block' : 'none';\n",
              "\n",
              "        async function convertToInteractive(key) {\n",
              "          const element = document.querySelector('#df-e82de1b4-9820-47e1-806c-da0ba9ea4485');\n",
              "          const dataTable =\n",
              "            await google.colab.kernel.invokeFunction('convertToInteractive',\n",
              "                                                     [key], {});\n",
              "          if (!dataTable) return;\n",
              "\n",
              "          const docLinkHtml = 'Like what you see? Visit the ' +\n",
              "            '<a target=\"_blank\" href=https://colab.research.google.com/notebooks/data_table.ipynb>data table notebook</a>'\n",
              "            + ' to learn more about interactive tables.';\n",
              "          element.innerHTML = '';\n",
              "          dataTable['output_type'] = 'display_data';\n",
              "          await google.colab.output.renderOutput(dataTable, element);\n",
              "          const docLink = document.createElement('div');\n",
              "          docLink.innerHTML = docLinkHtml;\n",
              "          element.appendChild(docLink);\n",
              "        }\n",
              "      </script>\n",
              "    </div>\n",
              "  </div>\n",
              "  "
            ]
          },
          "metadata": {},
          "execution_count": 208
        }
      ]
    },
    {
      "cell_type": "markdown",
      "source": [
        "✅ data para usar en el modelo"
      ],
      "metadata": {
        "id": "Du3BTTg2n6Ix"
      }
    },
    {
      "cell_type": "code",
      "source": [
        "df_2=df.copy()\n",
        "df_2.head()"
      ],
      "metadata": {
        "colab": {
          "base_uri": "https://localhost:8080/",
          "height": 206
        },
        "id": "IzV9UtmfoJIf",
        "outputId": "3a482733-cfb6-4c7d-818f-df165df3c6ba"
      },
      "execution_count": null,
      "outputs": [
        {
          "output_type": "execute_result",
          "data": {
            "text/plain": [
              "       HORA   CLASE                      TIPO_GEOCOD  GRAVEDAD  \\\n",
              "0  08:05:00  Choque                       Malla vial         2   \n",
              "1  17:30:00  Choque                       Malla vial         3   \n",
              "2  17:00:00  Choque                       Malla vial         1   \n",
              "3  13:30:00  Choque  Malla vial aproximada: CR 48-31         2   \n",
              "4  06:45:00    Otro                       No Ubicada         2   \n",
              "\n",
              "             BARRIO            COMUNA         DISENO  MES  DIA      FECHA  \\\n",
              "0       Bolivariana  Laureles Estadio   Interseccion    3   16 2022-03-16   \n",
              "1            Tenche          Guayabal   Interseccion    3   16 2022-03-16   \n",
              "2        El Pesebre        San Javier   Interseccion    5    4 2022-05-04   \n",
              "3  Perpetuo Socorro     La Candelaria   Tramo de via    6   12 2022-06-12   \n",
              "4               NaN               NaN  Lote o Predio    5   18 2022-05-18   \n",
              "\n",
              "    LONGITUD   LATITUD  Dia_Nomb  \n",
              "0 -75.592351  6.243512         3  \n",
              "1 -75.579832  6.230514         3  \n",
              "2 -75.599001  6.269136         3  \n",
              "3 -75.573979  6.232882         7  \n",
              "4 -75.703816  6.221806         3  "
            ],
            "text/html": [
              "\n",
              "  <div id=\"df-b67a632f-91dc-4775-8942-73d8be69a2b1\">\n",
              "    <div class=\"colab-df-container\">\n",
              "      <div>\n",
              "<style scoped>\n",
              "    .dataframe tbody tr th:only-of-type {\n",
              "        vertical-align: middle;\n",
              "    }\n",
              "\n",
              "    .dataframe tbody tr th {\n",
              "        vertical-align: top;\n",
              "    }\n",
              "\n",
              "    .dataframe thead th {\n",
              "        text-align: right;\n",
              "    }\n",
              "</style>\n",
              "<table border=\"1\" class=\"dataframe\">\n",
              "  <thead>\n",
              "    <tr style=\"text-align: right;\">\n",
              "      <th></th>\n",
              "      <th>HORA</th>\n",
              "      <th>CLASE</th>\n",
              "      <th>TIPO_GEOCOD</th>\n",
              "      <th>GRAVEDAD</th>\n",
              "      <th>BARRIO</th>\n",
              "      <th>COMUNA</th>\n",
              "      <th>DISENO</th>\n",
              "      <th>MES</th>\n",
              "      <th>DIA</th>\n",
              "      <th>FECHA</th>\n",
              "      <th>LONGITUD</th>\n",
              "      <th>LATITUD</th>\n",
              "      <th>Dia_Nomb</th>\n",
              "    </tr>\n",
              "  </thead>\n",
              "  <tbody>\n",
              "    <tr>\n",
              "      <th>0</th>\n",
              "      <td>08:05:00</td>\n",
              "      <td>Choque</td>\n",
              "      <td>Malla vial</td>\n",
              "      <td>2</td>\n",
              "      <td>Bolivariana</td>\n",
              "      <td>Laureles Estadio</td>\n",
              "      <td>Interseccion</td>\n",
              "      <td>3</td>\n",
              "      <td>16</td>\n",
              "      <td>2022-03-16</td>\n",
              "      <td>-75.592351</td>\n",
              "      <td>6.243512</td>\n",
              "      <td>3</td>\n",
              "    </tr>\n",
              "    <tr>\n",
              "      <th>1</th>\n",
              "      <td>17:30:00</td>\n",
              "      <td>Choque</td>\n",
              "      <td>Malla vial</td>\n",
              "      <td>3</td>\n",
              "      <td>Tenche</td>\n",
              "      <td>Guayabal</td>\n",
              "      <td>Interseccion</td>\n",
              "      <td>3</td>\n",
              "      <td>16</td>\n",
              "      <td>2022-03-16</td>\n",
              "      <td>-75.579832</td>\n",
              "      <td>6.230514</td>\n",
              "      <td>3</td>\n",
              "    </tr>\n",
              "    <tr>\n",
              "      <th>2</th>\n",
              "      <td>17:00:00</td>\n",
              "      <td>Choque</td>\n",
              "      <td>Malla vial</td>\n",
              "      <td>1</td>\n",
              "      <td>El Pesebre</td>\n",
              "      <td>San Javier</td>\n",
              "      <td>Interseccion</td>\n",
              "      <td>5</td>\n",
              "      <td>4</td>\n",
              "      <td>2022-05-04</td>\n",
              "      <td>-75.599001</td>\n",
              "      <td>6.269136</td>\n",
              "      <td>3</td>\n",
              "    </tr>\n",
              "    <tr>\n",
              "      <th>3</th>\n",
              "      <td>13:30:00</td>\n",
              "      <td>Choque</td>\n",
              "      <td>Malla vial aproximada: CR 48-31</td>\n",
              "      <td>2</td>\n",
              "      <td>Perpetuo Socorro</td>\n",
              "      <td>La Candelaria</td>\n",
              "      <td>Tramo de via</td>\n",
              "      <td>6</td>\n",
              "      <td>12</td>\n",
              "      <td>2022-06-12</td>\n",
              "      <td>-75.573979</td>\n",
              "      <td>6.232882</td>\n",
              "      <td>7</td>\n",
              "    </tr>\n",
              "    <tr>\n",
              "      <th>4</th>\n",
              "      <td>06:45:00</td>\n",
              "      <td>Otro</td>\n",
              "      <td>No Ubicada</td>\n",
              "      <td>2</td>\n",
              "      <td>NaN</td>\n",
              "      <td>NaN</td>\n",
              "      <td>Lote o Predio</td>\n",
              "      <td>5</td>\n",
              "      <td>18</td>\n",
              "      <td>2022-05-18</td>\n",
              "      <td>-75.703816</td>\n",
              "      <td>6.221806</td>\n",
              "      <td>3</td>\n",
              "    </tr>\n",
              "  </tbody>\n",
              "</table>\n",
              "</div>\n",
              "      <button class=\"colab-df-convert\" onclick=\"convertToInteractive('df-b67a632f-91dc-4775-8942-73d8be69a2b1')\"\n",
              "              title=\"Convert this dataframe to an interactive table.\"\n",
              "              style=\"display:none;\">\n",
              "        \n",
              "  <svg xmlns=\"http://www.w3.org/2000/svg\" height=\"24px\"viewBox=\"0 0 24 24\"\n",
              "       width=\"24px\">\n",
              "    <path d=\"M0 0h24v24H0V0z\" fill=\"none\"/>\n",
              "    <path d=\"M18.56 5.44l.94 2.06.94-2.06 2.06-.94-2.06-.94-.94-2.06-.94 2.06-2.06.94zm-11 1L8.5 8.5l.94-2.06 2.06-.94-2.06-.94L8.5 2.5l-.94 2.06-2.06.94zm10 10l.94 2.06.94-2.06 2.06-.94-2.06-.94-.94-2.06-.94 2.06-2.06.94z\"/><path d=\"M17.41 7.96l-1.37-1.37c-.4-.4-.92-.59-1.43-.59-.52 0-1.04.2-1.43.59L10.3 9.45l-7.72 7.72c-.78.78-.78 2.05 0 2.83L4 21.41c.39.39.9.59 1.41.59.51 0 1.02-.2 1.41-.59l7.78-7.78 2.81-2.81c.8-.78.8-2.07 0-2.86zM5.41 20L4 18.59l7.72-7.72 1.47 1.35L5.41 20z\"/>\n",
              "  </svg>\n",
              "      </button>\n",
              "      \n",
              "  <style>\n",
              "    .colab-df-container {\n",
              "      display:flex;\n",
              "      flex-wrap:wrap;\n",
              "      gap: 12px;\n",
              "    }\n",
              "\n",
              "    .colab-df-convert {\n",
              "      background-color: #E8F0FE;\n",
              "      border: none;\n",
              "      border-radius: 50%;\n",
              "      cursor: pointer;\n",
              "      display: none;\n",
              "      fill: #1967D2;\n",
              "      height: 32px;\n",
              "      padding: 0 0 0 0;\n",
              "      width: 32px;\n",
              "    }\n",
              "\n",
              "    .colab-df-convert:hover {\n",
              "      background-color: #E2EBFA;\n",
              "      box-shadow: 0px 1px 2px rgba(60, 64, 67, 0.3), 0px 1px 3px 1px rgba(60, 64, 67, 0.15);\n",
              "      fill: #174EA6;\n",
              "    }\n",
              "\n",
              "    [theme=dark] .colab-df-convert {\n",
              "      background-color: #3B4455;\n",
              "      fill: #D2E3FC;\n",
              "    }\n",
              "\n",
              "    [theme=dark] .colab-df-convert:hover {\n",
              "      background-color: #434B5C;\n",
              "      box-shadow: 0px 1px 3px 1px rgba(0, 0, 0, 0.15);\n",
              "      filter: drop-shadow(0px 1px 2px rgba(0, 0, 0, 0.3));\n",
              "      fill: #FFFFFF;\n",
              "    }\n",
              "  </style>\n",
              "\n",
              "      <script>\n",
              "        const buttonEl =\n",
              "          document.querySelector('#df-b67a632f-91dc-4775-8942-73d8be69a2b1 button.colab-df-convert');\n",
              "        buttonEl.style.display =\n",
              "          google.colab.kernel.accessAllowed ? 'block' : 'none';\n",
              "\n",
              "        async function convertToInteractive(key) {\n",
              "          const element = document.querySelector('#df-b67a632f-91dc-4775-8942-73d8be69a2b1');\n",
              "          const dataTable =\n",
              "            await google.colab.kernel.invokeFunction('convertToInteractive',\n",
              "                                                     [key], {});\n",
              "          if (!dataTable) return;\n",
              "\n",
              "          const docLinkHtml = 'Like what you see? Visit the ' +\n",
              "            '<a target=\"_blank\" href=https://colab.research.google.com/notebooks/data_table.ipynb>data table notebook</a>'\n",
              "            + ' to learn more about interactive tables.';\n",
              "          element.innerHTML = '';\n",
              "          dataTable['output_type'] = 'display_data';\n",
              "          await google.colab.output.renderOutput(dataTable, element);\n",
              "          const docLink = document.createElement('div');\n",
              "          docLink.innerHTML = docLinkHtml;\n",
              "          element.appendChild(docLink);\n",
              "        }\n",
              "      </script>\n",
              "    </div>\n",
              "  </div>\n",
              "  "
            ]
          },
          "metadata": {},
          "execution_count": 210
        }
      ]
    },
    {
      "cell_type": "code",
      "source": [
        "df_2['COMUNA'].value_counts()"
      ],
      "metadata": {
        "colab": {
          "base_uri": "https://localhost:8080/"
        },
        "id": "NMqT3rhIpIfT",
        "outputId": "b9eac4a2-0888-46d7-cd41-9f90fcc10ac1"
      },
      "execution_count": null,
      "outputs": [
        {
          "output_type": "execute_result",
          "data": {
            "text/plain": [
              "La Candelaria                                 3978\n",
              "Laureles Estadio                              2337\n",
              "Castilla                                      2145\n",
              "El Poblado                                    1630\n",
              "Guayabal                                      1427\n",
              "Robledo                                       1392\n",
              "Aranjuez                                      1301\n",
              "                                              1141\n",
              "Belén                                         1133\n",
              "Buenos Aires                                   935\n",
              "Manrique                                       673\n",
              "Villa Hermosa                                  647\n",
              "La América                                     633\n",
              "Doce de Octubre                                520\n",
              "San Javier                                     355\n",
              "Popular                                        316\n",
              "Santa Cruz                                     305\n",
              "Sin inf                                        297\n",
              "Corregimiento de San Cristóbal                 265\n",
              "Corregimiento de San Antonio de Prado          115\n",
              "Corregimiento de Santa Elena                    83\n",
              "Sin Inf                                         66\n",
              "Corregimiento de Altavista                      35\n",
              "In                                              22\n",
              "Corregimiento De San Cristóbal                  10\n",
              "Corregimiento De Santa Elena                     6\n",
              "Doce De Octubre                                  4\n",
              "Corregimiento De San Antonio De Prado            3\n",
              "AU                                               2\n",
              "SN                                               2\n",
              "Corregimiento de San Sebastián de Palmitas       1\n",
              "Corregimiento De San Sebastián De Palmitas       1\n",
              "Name: COMUNA, dtype: int64"
            ]
          },
          "metadata": {},
          "execution_count": 155
        }
      ]
    },
    {
      "cell_type": "code",
      "source": [
        "#remplazos en la columna de COMUNA\n",
        "df_2['COMUNA']=df_2['COMUNA'].replace('Corregimiento De San Sebastián De Palmitas','Corregimiento de San Sebastián de Palmitas')\n",
        "df_2['COMUNA']=df_2['COMUNA'].replace('Sin Inf','Sin inf')\n",
        "df_2['COMUNA']=df_2['COMUNA'].replace('AU','Sin inf')\n",
        "df_2['COMUNA']=df_2['COMUNA'].replace('In','Sin inf')\n",
        "df_2['COMUNA']=df_2['COMUNA'].replace('SN','Sin inf')\n",
        "df_2['COMUNA']=df_2['COMUNA'].replace('Corregimiento De Santa Elena','Corregimiento de Santa Elena')\n",
        "df_2['COMUNA']=df_2['COMUNA'].replace('Corregimiento De San Antonio De Prado','Corregimiento de San Antonio de Prado')\n",
        "df_2['COMUNA']=df_2['COMUNA'].replace('Corregimiento De San Cristóbal','Corregimiento de San Cristóbal')\n",
        "df_2['COMUNA']=df_2['COMUNA'].replace('Doce De Octubre','Doce de Octubre')"
      ],
      "metadata": {
        "id": "NrITRTnbre-R"
      },
      "execution_count": null,
      "outputs": []
    },
    {
      "cell_type": "code",
      "source": [
        "df_2['COMUNA'].value_counts()"
      ],
      "metadata": {
        "colab": {
          "base_uri": "https://localhost:8080/"
        },
        "id": "v4-DQ7Hsr8EQ",
        "outputId": "4f807f6b-64a6-48b4-fb9b-44200f804b9b"
      },
      "execution_count": null,
      "outputs": [
        {
          "output_type": "execute_result",
          "data": {
            "text/plain": [
              "La Candelaria                                 3978\n",
              "Laureles Estadio                              2337\n",
              "Castilla                                      2145\n",
              "El Poblado                                    1630\n",
              "Guayabal                                      1427\n",
              "Robledo                                       1392\n",
              "Aranjuez                                      1301\n",
              "                                              1141\n",
              "Belén                                         1133\n",
              "Buenos Aires                                   935\n",
              "Manrique                                       673\n",
              "Villa Hermosa                                  647\n",
              "La América                                     633\n",
              "Doce de Octubre                                524\n",
              "Sin inf                                        389\n",
              "San Javier                                     355\n",
              "Popular                                        316\n",
              "Santa Cruz                                     305\n",
              "Corregimiento de San Cristóbal                 275\n",
              "Corregimiento de San Antonio de Prado          118\n",
              "Corregimiento de Santa Elena                    89\n",
              "Corregimiento de Altavista                      35\n",
              "Corregimiento de San Sebastián de Palmitas       2\n",
              "Name: COMUNA, dtype: int64"
            ]
          },
          "metadata": {},
          "execution_count": 212
        }
      ]
    },
    {
      "cell_type": "code",
      "source": [
        "corr=df_2.corr().round(2)\n",
        "sn.heatmap(corr,annot=True, cmap='coolwarm')\n",
        "plt.show() ##En este caso el mapa de correlación no nos sirve"
      ],
      "metadata": {
        "colab": {
          "base_uri": "https://localhost:8080/",
          "height": 315
        },
        "id": "So85viBHAAfx",
        "outputId": "efce0a98-ed38-4deb-a8a3-a4322e0ea9f1"
      },
      "execution_count": null,
      "outputs": [
        {
          "output_type": "display_data",
          "data": {
            "text/plain": [
              "<Figure size 432x288 with 2 Axes>"
            ],
            "image/png": "[encoded data removed]"
          },
          "metadata": {
            "needs_background": "light"
          }
        }
      ]
    },
    {
      "cell_type": "code",
      "source": [
        "#variables categoricas nominales --> (One-hot encoding)\n",
        "clase_dummy=pd.get_dummies(df_2['CLASE'], prefix='CLASE')\n",
        "comuna_dummy=pd.get_dummies(df_2['COMUNA'],prefix='COMUNA')\n",
        "diseno_dummy=pd.get_dummies(df_2['DISENO'],prefix='DISENO')"
      ],
      "metadata": {
        "id": "JpT1fyU3Tq_Q"
      },
      "execution_count": null,
      "outputs": []
    },
    {
      "cell_type": "code",
      "source": [
        "#unir las variables \n",
        "df_2=pd.concat([df_2,clase_dummy],axis=1)\n",
        "df_2=pd.concat([df_2,comuna_dummy],axis=1)\n",
        "df_2=pd.concat([df_2,diseno_dummy],axis=1)"
      ],
      "metadata": {
        "id": "viXbOMTCiO6n"
      },
      "execution_count": null,
      "outputs": []
    },
    {
      "cell_type": "code",
      "source": [
        "df_2.head()"
      ],
      "metadata": {
        "colab": {
          "base_uri": "https://localhost:8080/",
          "height": 421
        },
        "id": "ocY32RuvcV5q",
        "outputId": "f776d2a6-e9de-4c1b-8d22-171fbdb4cb64"
      },
      "execution_count": null,
      "outputs": [
        {
          "output_type": "execute_result",
          "data": {
            "text/plain": [
              "       HORA   CLASE                      TIPO_GEOCOD  GRAVEDAD  \\\n",
              "0  08:05:00  Choque                       Malla vial         2   \n",
              "1  17:30:00  Choque                       Malla vial         3   \n",
              "2  17:00:00  Choque                       Malla vial         1   \n",
              "3  13:30:00  Choque  Malla vial aproximada: CR 48-31         2   \n",
              "4  06:45:00    Otro                       No Ubicada         2   \n",
              "\n",
              "             BARRIO            COMUNA         DISENO  MES  DIA      FECHA  \\\n",
              "0       Bolivariana  Laureles Estadio   Interseccion    3   16 2022-03-16   \n",
              "1            Tenche          Guayabal   Interseccion    3   16 2022-03-16   \n",
              "2        El Pesebre        San Javier   Interseccion    5    4 2022-05-04   \n",
              "3  Perpetuo Socorro     La Candelaria   Tramo de via    6   12 2022-06-12   \n",
              "4               NaN               NaN  Lote o Predio    5   18 2022-05-18   \n",
              "\n",
              "   ...  DISENO_Interseccion  DISENO_Lote o Predio  DISENO_Paso Elevado  \\\n",
              "0  ...                    1                     0                    0   \n",
              "1  ...                    1                     0                    0   \n",
              "2  ...                    1                     0                    0   \n",
              "3  ...                    0                     0                    0   \n",
              "4  ...                    0                     1                    0   \n",
              "\n",
              "   DISENO_Paso Inferior  DISENO_Paso a Nivel  DISENO_Pontón  DISENO_Puente  \\\n",
              "0                     0                    0              0              0   \n",
              "1                     0                    0              0              0   \n",
              "2                     0                    0              0              0   \n",
              "3                     0                    0              0              0   \n",
              "4                     0                    0              0              0   \n",
              "\n",
              "   DISENO_Tramo de via  DISENO_Tunel  DISENO_Via peatonal  \n",
              "0                    0             0                    0  \n",
              "1                    0             0                    0  \n",
              "2                    0             0                    0  \n",
              "3                    1             0                    0  \n",
              "4                    0             0                    0  \n",
              "\n",
              "[5 rows x 54 columns]"
            ],
            "text/html": [
              "\n",
              "  <div id=\"df-3b1fb35b-fbea-4dae-9916-019cf3cb30f8\">\n",
              "    <div class=\"colab-df-container\">\n",
              "      <div>\n",
              "<style scoped>\n",
              "    .dataframe tbody tr th:only-of-type {\n",
              "        vertical-align: middle;\n",
              "    }\n",
              "\n",
              "    .dataframe tbody tr th {\n",
              "        vertical-align: top;\n",
              "    }\n",
              "\n",
              "    .dataframe thead th {\n",
              "        text-align: right;\n",
              "    }\n",
              "</style>\n",
              "<table border=\"1\" class=\"dataframe\">\n",
              "  <thead>\n",
              "    <tr style=\"text-align: right;\">\n",
              "      <th></th>\n",
              "      <th>HORA</th>\n",
              "      <th>CLASE</th>\n",
              "      <th>TIPO_GEOCOD</th>\n",
              "      <th>GRAVEDAD</th>\n",
              "      <th>BARRIO</th>\n",
              "      <th>COMUNA</th>\n",
              "      <th>DISENO</th>\n",
              "      <th>MES</th>\n",
              "      <th>DIA</th>\n",
              "      <th>FECHA</th>\n",
              "      <th>...</th>\n",
              "      <th>DISENO_Interseccion</th>\n",
              "      <th>DISENO_Lote o Predio</th>\n",
              "      <th>DISENO_Paso Elevado</th>\n",
              "      <th>DISENO_Paso Inferior</th>\n",
              "      <th>DISENO_Paso a Nivel</th>\n",
              "      <th>DISENO_Pontón</th>\n",
              "      <th>DISENO_Puente</th>\n",
              "      <th>DISENO_Tramo de via</th>\n",
              "      <th>DISENO_Tunel</th>\n",
              "      <th>DISENO_Via peatonal</th>\n",
              "    </tr>\n",
              "  </thead>\n",
              "  <tbody>\n",
              "    <tr>\n",
              "      <th>0</th>\n",
              "      <td>08:05:00</td>\n",
              "      <td>Choque</td>\n",
              "      <td>Malla vial</td>\n",
              "      <td>2</td>\n",
              "      <td>Bolivariana</td>\n",
              "      <td>Laureles Estadio</td>\n",
              "      <td>Interseccion</td>\n",
              "      <td>3</td>\n",
              "      <td>16</td>\n",
              "      <td>2022-03-16</td>\n",
              "      <td>...</td>\n",
              "      <td>1</td>\n",
              "      <td>0</td>\n",
              "      <td>0</td>\n",
              "      <td>0</td>\n",
              "      <td>0</td>\n",
              "      <td>0</td>\n",
              "      <td>0</td>\n",
              "      <td>0</td>\n",
              "      <td>0</td>\n",
              "      <td>0</td>\n",
              "    </tr>\n",
              "    <tr>\n",
              "      <th>1</th>\n",
              "      <td>17:30:00</td>\n",
              "      <td>Choque</td>\n",
              "      <td>Malla vial</td>\n",
              "      <td>3</td>\n",
              "      <td>Tenche</td>\n",
              "      <td>Guayabal</td>\n",
              "      <td>Interseccion</td>\n",
              "      <td>3</td>\n",
              "      <td>16</td>\n",
              "      <td>2022-03-16</td>\n",
              "      <td>...</td>\n",
              "      <td>1</td>\n",
              "      <td>0</td>\n",
              "      <td>0</td>\n",
              "      <td>0</td>\n",
              "      <td>0</td>\n",
              "      <td>0</td>\n",
              "      <td>0</td>\n",
              "      <td>0</td>\n",
              "      <td>0</td>\n",
              "      <td>0</td>\n",
              "    </tr>\n",
              "    <tr>\n",
              "      <th>2</th>\n",
              "      <td>17:00:00</td>\n",
              "      <td>Choque</td>\n",
              "      <td>Malla vial</td>\n",
              "      <td>1</td>\n",
              "      <td>El Pesebre</td>\n",
              "      <td>San Javier</td>\n",
              "      <td>Interseccion</td>\n",
              "      <td>5</td>\n",
              "      <td>4</td>\n",
              "      <td>2022-05-04</td>\n",
              "      <td>...</td>\n",
              "      <td>1</td>\n",
              "      <td>0</td>\n",
              "      <td>0</td>\n",
              "      <td>0</td>\n",
              "      <td>0</td>\n",
              "      <td>0</td>\n",
              "      <td>0</td>\n",
              "      <td>0</td>\n",
              "      <td>0</td>\n",
              "      <td>0</td>\n",
              "    </tr>\n",
              "    <tr>\n",
              "      <th>3</th>\n",
              "      <td>13:30:00</td>\n",
              "      <td>Choque</td>\n",
              "      <td>Malla vial aproximada: CR 48-31</td>\n",
              "      <td>2</td>\n",
              "      <td>Perpetuo Socorro</td>\n",
              "      <td>La Candelaria</td>\n",
              "      <td>Tramo de via</td>\n",
              "      <td>6</td>\n",
              "      <td>12</td>\n",
              "      <td>2022-06-12</td>\n",
              "      <td>...</td>\n",
              "      <td>0</td>\n",
              "      <td>0</td>\n",
              "      <td>0</td>\n",
              "      <td>0</td>\n",
              "      <td>0</td>\n",
              "      <td>0</td>\n",
              "      <td>0</td>\n",
              "      <td>1</td>\n",
              "      <td>0</td>\n",
              "      <td>0</td>\n",
              "    </tr>\n",
              "    <tr>\n",
              "      <th>4</th>\n",
              "      <td>06:45:00</td>\n",
              "      <td>Otro</td>\n",
              "      <td>No Ubicada</td>\n",
              "      <td>2</td>\n",
              "      <td>NaN</td>\n",
              "      <td>NaN</td>\n",
              "      <td>Lote o Predio</td>\n",
              "      <td>5</td>\n",
              "      <td>18</td>\n",
              "      <td>2022-05-18</td>\n",
              "      <td>...</td>\n",
              "      <td>0</td>\n",
              "      <td>1</td>\n",
              "      <td>0</td>\n",
              "      <td>0</td>\n",
              "      <td>0</td>\n",
              "      <td>0</td>\n",
              "      <td>0</td>\n",
              "      <td>0</td>\n",
              "      <td>0</td>\n",
              "      <td>0</td>\n",
              "    </tr>\n",
              "  </tbody>\n",
              "</table>\n",
              "<p>5 rows × 54 columns</p>\n",
              "</div>\n",
              "      <button class=\"colab-df-convert\" onclick=\"convertToInteractive('df-3b1fb35b-fbea-4dae-9916-019cf3cb30f8')\"\n",
              "              title=\"Convert this dataframe to an interactive table.\"\n",
              "              style=\"display:none;\">\n",
              "        \n",
              "  <svg xmlns=\"http://www.w3.org/2000/svg\" height=\"24px\"viewBox=\"0 0 24 24\"\n",
              "       width=\"24px\">\n",
              "    <path d=\"M0 0h24v24H0V0z\" fill=\"none\"/>\n",
              "    <path d=\"M18.56 5.44l.94 2.06.94-2.06 2.06-.94-2.06-.94-.94-2.06-.94 2.06-2.06.94zm-11 1L8.5 8.5l.94-2.06 2.06-.94-2.06-.94L8.5 2.5l-.94 2.06-2.06.94zm10 10l.94 2.06.94-2.06 2.06-.94-2.06-.94-.94-2.06-.94 2.06-2.06.94z\"/><path d=\"M17.41 7.96l-1.37-1.37c-.4-.4-.92-.59-1.43-.59-.52 0-1.04.2-1.43.59L10.3 9.45l-7.72 7.72c-.78.78-.78 2.05 0 2.83L4 21.41c.39.39.9.59 1.41.59.51 0 1.02-.2 1.41-.59l7.78-7.78 2.81-2.81c.8-.78.8-2.07 0-2.86zM5.41 20L4 18.59l7.72-7.72 1.47 1.35L5.41 20z\"/>\n",
              "  </svg>\n",
              "      </button>\n",
              "      \n",
              "  <style>\n",
              "    .colab-df-container {\n",
              "      display:flex;\n",
              "      flex-wrap:wrap;\n",
              "      gap: 12px;\n",
              "    }\n",
              "\n",
              "    .colab-df-convert {\n",
              "      background-color: #E8F0FE;\n",
              "      border: none;\n",
              "      border-radius: 50%;\n",
              "      cursor: pointer;\n",
              "      display: none;\n",
              "      fill: #1967D2;\n",
              "      height: 32px;\n",
              "      padding: 0 0 0 0;\n",
              "      width: 32px;\n",
              "    }\n",
              "\n",
              "    .colab-df-convert:hover {\n",
              "      background-color: #E2EBFA;\n",
              "      box-shadow: 0px 1px 2px rgba(60, 64, 67, 0.3), 0px 1px 3px 1px rgba(60, 64, 67, 0.15);\n",
              "      fill: #174EA6;\n",
              "    }\n",
              "\n",
              "    [theme=dark] .colab-df-convert {\n",
              "      background-color: #3B4455;\n",
              "      fill: #D2E3FC;\n",
              "    }\n",
              "\n",
              "    [theme=dark] .colab-df-convert:hover {\n",
              "      background-color: #434B5C;\n",
              "      box-shadow: 0px 1px 3px 1px rgba(0, 0, 0, 0.15);\n",
              "      filter: drop-shadow(0px 1px 2px rgba(0, 0, 0, 0.3));\n",
              "      fill: #FFFFFF;\n",
              "    }\n",
              "  </style>\n",
              "\n",
              "      <script>\n",
              "        const buttonEl =\n",
              "          document.querySelector('#df-3b1fb35b-fbea-4dae-9916-019cf3cb30f8 button.colab-df-convert');\n",
              "        buttonEl.style.display =\n",
              "          google.colab.kernel.accessAllowed ? 'block' : 'none';\n",
              "\n",
              "        async function convertToInteractive(key) {\n",
              "          const element = document.querySelector('#df-3b1fb35b-fbea-4dae-9916-019cf3cb30f8');\n",
              "          const dataTable =\n",
              "            await google.colab.kernel.invokeFunction('convertToInteractive',\n",
              "                                                     [key], {});\n",
              "          if (!dataTable) return;\n",
              "\n",
              "          const docLinkHtml = 'Like what you see? Visit the ' +\n",
              "            '<a target=\"_blank\" href=https://colab.research.google.com/notebooks/data_table.ipynb>data table notebook</a>'\n",
              "            + ' to learn more about interactive tables.';\n",
              "          element.innerHTML = '';\n",
              "          dataTable['output_type'] = 'display_data';\n",
              "          await google.colab.output.renderOutput(dataTable, element);\n",
              "          const docLink = document.createElement('div');\n",
              "          docLink.innerHTML = docLinkHtml;\n",
              "          element.appendChild(docLink);\n",
              "        }\n",
              "      </script>\n",
              "    </div>\n",
              "  </div>\n",
              "  "
            ]
          },
          "metadata": {},
          "execution_count": 216
        }
      ]
    },
    {
      "cell_type": "code",
      "source": [
        "df_2.info()"
      ],
      "metadata": {
        "colab": {
          "base_uri": "https://localhost:8080/"
        },
        "id": "_wqmYMwOmYv5",
        "outputId": "25204037-fa1d-4051-8dd7-d2e4caf400eb"
      },
      "execution_count": null,
      "outputs": [
        {
          "output_type": "stream",
          "name": "stdout",
          "text": [
            "<class 'pandas.core.frame.DataFrame'>\n",
            "Int64Index: 23558 entries, 0 to 23576\n",
            "Data columns (total 54 columns):\n",
            " #   Column                                             Non-Null Count  Dtype         \n",
            "---  ------                                             --------------  -----         \n",
            " 0   HORA                                               23558 non-null  object        \n",
            " 1   CLASE                                              23558 non-null  object        \n",
            " 2   TIPO_GEOCOD                                        23558 non-null  object        \n",
            " 3   GRAVEDAD                                           23558 non-null  int64         \n",
            " 4   BARRIO                                             21780 non-null  object        \n",
            " 5   COMUNA                                             21780 non-null  object        \n",
            " 6   DISENO                                             23558 non-null  object        \n",
            " 7   MES                                                23558 non-null  int64         \n",
            " 8   DIA                                                23558 non-null  int64         \n",
            " 9   FECHA                                              23558 non-null  datetime64[ns]\n",
            " 10  LONGITUD                                           23558 non-null  float64       \n",
            " 11  LATITUD                                            23558 non-null  float64       \n",
            " 12  Dia_Nomb                                           23558 non-null  int64         \n",
            " 13  CLASE_Atropello                                    23558 non-null  uint8         \n",
            " 14  CLASE_Caida Ocupante                               23558 non-null  uint8         \n",
            " 15  CLASE_Choque                                       23558 non-null  uint8         \n",
            " 16  CLASE_Incendio                                     23558 non-null  uint8         \n",
            " 17  CLASE_Otro                                         23558 non-null  uint8         \n",
            " 18  CLASE_Volcamiento                                  23558 non-null  uint8         \n",
            " 19  COMUNA_                                            23558 non-null  uint8         \n",
            " 20  COMUNA_Aranjuez                                    23558 non-null  uint8         \n",
            " 21  COMUNA_Belén                                       23558 non-null  uint8         \n",
            " 22  COMUNA_Buenos Aires                                23558 non-null  uint8         \n",
            " 23  COMUNA_Castilla                                    23558 non-null  uint8         \n",
            " 24  COMUNA_Corregimiento de Altavista                  23558 non-null  uint8         \n",
            " 25  COMUNA_Corregimiento de San Antonio de Prado       23558 non-null  uint8         \n",
            " 26  COMUNA_Corregimiento de San Cristóbal              23558 non-null  uint8         \n",
            " 27  COMUNA_Corregimiento de San Sebastián de Palmitas  23558 non-null  uint8         \n",
            " 28  COMUNA_Corregimiento de Santa Elena                23558 non-null  uint8         \n",
            " 29  COMUNA_Doce de Octubre                             23558 non-null  uint8         \n",
            " 30  COMUNA_El Poblado                                  23558 non-null  uint8         \n",
            " 31  COMUNA_Guayabal                                    23558 non-null  uint8         \n",
            " 32  COMUNA_La América                                  23558 non-null  uint8         \n",
            " 33  COMUNA_La Candelaria                               23558 non-null  uint8         \n",
            " 34  COMUNA_Laureles Estadio                            23558 non-null  uint8         \n",
            " 35  COMUNA_Manrique                                    23558 non-null  uint8         \n",
            " 36  COMUNA_Popular                                     23558 non-null  uint8         \n",
            " 37  COMUNA_Robledo                                     23558 non-null  uint8         \n",
            " 38  COMUNA_San Javier                                  23558 non-null  uint8         \n",
            " 39  COMUNA_Santa Cruz                                  23558 non-null  uint8         \n",
            " 40  COMUNA_Sin inf                                     23558 non-null  uint8         \n",
            " 41  COMUNA_Villa Hermosa                               23558 non-null  uint8         \n",
            " 42  DISENO_Ciclo Ruta                                  23558 non-null  uint8         \n",
            " 43  DISENO_Glorieta                                    23558 non-null  uint8         \n",
            " 44  DISENO_Interseccion                                23558 non-null  uint8         \n",
            " 45  DISENO_Lote o Predio                               23558 non-null  uint8         \n",
            " 46  DISENO_Paso Elevado                                23558 non-null  uint8         \n",
            " 47  DISENO_Paso Inferior                               23558 non-null  uint8         \n",
            " 48  DISENO_Paso a Nivel                                23558 non-null  uint8         \n",
            " 49  DISENO_Pontón                                      23558 non-null  uint8         \n",
            " 50  DISENO_Puente                                      23558 non-null  uint8         \n",
            " 51  DISENO_Tramo de via                                23558 non-null  uint8         \n",
            " 52  DISENO_Tunel                                       23558 non-null  uint8         \n",
            " 53  DISENO_Via peatonal                                23558 non-null  uint8         \n",
            "dtypes: datetime64[ns](1), float64(2), int64(4), object(6), uint8(41)\n",
            "memory usage: 3.4+ MB\n"
          ]
        }
      ]
    },
    {
      "cell_type": "code",
      "source": [
        "datos=df_2.drop(['HORA','FECHA','CLASE','TIPO_GEOCOD','BARRIO','COMUNA','DISENO'],axis=1)\n",
        "datos.head()"
      ],
      "metadata": {
        "colab": {
          "base_uri": "https://localhost:8080/",
          "height": 317
        },
        "id": "TiF7CvvKBddR",
        "outputId": "232322df-a14f-4984-a3a0-5f05480579ad"
      },
      "execution_count": null,
      "outputs": [
        {
          "output_type": "execute_result",
          "data": {
            "text/plain": [
              "   GRAVEDAD  MES  DIA   LONGITUD   LATITUD  Dia_Nomb  CLASE_Atropello  \\\n",
              "0         2    3   16 -75.592351  6.243512         3                0   \n",
              "1         3    3   16 -75.579832  6.230514         3                0   \n",
              "2         1    5    4 -75.599001  6.269136         3                0   \n",
              "3         2    6   12 -75.573979  6.232882         7                0   \n",
              "4         2    5   18 -75.703816  6.221806         3                0   \n",
              "\n",
              "   CLASE_Caida Ocupante  CLASE_Choque  CLASE_Incendio  ...  \\\n",
              "0                     0             1               0  ...   \n",
              "1                     0             1               0  ...   \n",
              "2                     0             1               0  ...   \n",
              "3                     0             1               0  ...   \n",
              "4                     0             0               0  ...   \n",
              "\n",
              "   DISENO_Interseccion  DISENO_Lote o Predio  DISENO_Paso Elevado  \\\n",
              "0                    1                     0                    0   \n",
              "1                    1                     0                    0   \n",
              "2                    1                     0                    0   \n",
              "3                    0                     0                    0   \n",
              "4                    0                     1                    0   \n",
              "\n",
              "   DISENO_Paso Inferior  DISENO_Paso a Nivel  DISENO_Pontón  DISENO_Puente  \\\n",
              "0                     0                    0              0              0   \n",
              "1                     0                    0              0              0   \n",
              "2                     0                    0              0              0   \n",
              "3                     0                    0              0              0   \n",
              "4                     0                    0              0              0   \n",
              "\n",
              "   DISENO_Tramo de via  DISENO_Tunel  DISENO_Via peatonal  \n",
              "0                    0             0                    0  \n",
              "1                    0             0                    0  \n",
              "2                    0             0                    0  \n",
              "3                    1             0                    0  \n",
              "4                    0             0                    0  \n",
              "\n",
              "[5 rows x 47 columns]"
            ],
            "text/html": [
              "\n",
              "  <div id=\"df-5c0b49aa-8886-4cdd-8c84-303fa5a036f0\">\n",
              "    <div class=\"colab-df-container\">\n",
              "      <div>\n",
              "<style scoped>\n",
              "    .dataframe tbody tr th:only-of-type {\n",
              "        vertical-align: middle;\n",
              "    }\n",
              "\n",
              "    .dataframe tbody tr th {\n",
              "        vertical-align: top;\n",
              "    }\n",
              "\n",
              "    .dataframe thead th {\n",
              "        text-align: right;\n",
              "    }\n",
              "</style>\n",
              "<table border=\"1\" class=\"dataframe\">\n",
              "  <thead>\n",
              "    <tr style=\"text-align: right;\">\n",
              "      <th></th>\n",
              "      <th>GRAVEDAD</th>\n",
              "      <th>MES</th>\n",
              "      <th>DIA</th>\n",
              "      <th>LONGITUD</th>\n",
              "      <th>LATITUD</th>\n",
              "      <th>Dia_Nomb</th>\n",
              "      <th>CLASE_Atropello</th>\n",
              "      <th>CLASE_Caida Ocupante</th>\n",
              "      <th>CLASE_Choque</th>\n",
              "      <th>CLASE_Incendio</th>\n",
              "      <th>...</th>\n",
              "      <th>DISENO_Interseccion</th>\n",
              "      <th>DISENO_Lote o Predio</th>\n",
              "      <th>DISENO_Paso Elevado</th>\n",
              "      <th>DISENO_Paso Inferior</th>\n",
              "      <th>DISENO_Paso a Nivel</th>\n",
              "      <th>DISENO_Pontón</th>\n",
              "      <th>DISENO_Puente</th>\n",
              "      <th>DISENO_Tramo de via</th>\n",
              "      <th>DISENO_Tunel</th>\n",
              "      <th>DISENO_Via peatonal</th>\n",
              "    </tr>\n",
              "  </thead>\n",
              "  <tbody>\n",
              "    <tr>\n",
              "      <th>0</th>\n",
              "      <td>2</td>\n",
              "      <td>3</td>\n",
              "      <td>16</td>\n",
              "      <td>-75.592351</td>\n",
              "      <td>6.243512</td>\n",
              "      <td>3</td>\n",
              "      <td>0</td>\n",
              "      <td>0</td>\n",
              "      <td>1</td>\n",
              "      <td>0</td>\n",
              "      <td>...</td>\n",
              "      <td>1</td>\n",
              "      <td>0</td>\n",
              "      <td>0</td>\n",
              "      <td>0</td>\n",
              "      <td>0</td>\n",
              "      <td>0</td>\n",
              "      <td>0</td>\n",
              "      <td>0</td>\n",
              "      <td>0</td>\n",
              "      <td>0</td>\n",
              "    </tr>\n",
              "    <tr>\n",
              "      <th>1</th>\n",
              "      <td>3</td>\n",
              "      <td>3</td>\n",
              "      <td>16</td>\n",
              "      <td>-75.579832</td>\n",
              "      <td>6.230514</td>\n",
              "      <td>3</td>\n",
              "      <td>0</td>\n",
              "      <td>0</td>\n",
              "      <td>1</td>\n",
              "      <td>0</td>\n",
              "      <td>...</td>\n",
              "      <td>1</td>\n",
              "      <td>0</td>\n",
              "      <td>0</td>\n",
              "      <td>0</td>\n",
              "      <td>0</td>\n",
              "      <td>0</td>\n",
              "      <td>0</td>\n",
              "      <td>0</td>\n",
              "      <td>0</td>\n",
              "      <td>0</td>\n",
              "    </tr>\n",
              "    <tr>\n",
              "      <th>2</th>\n",
              "      <td>1</td>\n",
              "      <td>5</td>\n",
              "      <td>4</td>\n",
              "      <td>-75.599001</td>\n",
              "      <td>6.269136</td>\n",
              "      <td>3</td>\n",
              "      <td>0</td>\n",
              "      <td>0</td>\n",
              "      <td>1</td>\n",
              "      <td>0</td>\n",
              "      <td>...</td>\n",
              "      <td>1</td>\n",
              "      <td>0</td>\n",
              "      <td>0</td>\n",
              "      <td>0</td>\n",
              "      <td>0</td>\n",
              "      <td>0</td>\n",
              "      <td>0</td>\n",
              "      <td>0</td>\n",
              "      <td>0</td>\n",
              "      <td>0</td>\n",
              "    </tr>\n",
              "    <tr>\n",
              "      <th>3</th>\n",
              "      <td>2</td>\n",
              "      <td>6</td>\n",
              "      <td>12</td>\n",
              "      <td>-75.573979</td>\n",
              "      <td>6.232882</td>\n",
              "      <td>7</td>\n",
              "      <td>0</td>\n",
              "      <td>0</td>\n",
              "      <td>1</td>\n",
              "      <td>0</td>\n",
              "      <td>...</td>\n",
              "      <td>0</td>\n",
              "      <td>0</td>\n",
              "      <td>0</td>\n",
              "      <td>0</td>\n",
              "      <td>0</td>\n",
              "      <td>0</td>\n",
              "      <td>0</td>\n",
              "      <td>1</td>\n",
              "      <td>0</td>\n",
              "      <td>0</td>\n",
              "    </tr>\n",
              "    <tr>\n",
              "      <th>4</th>\n",
              "      <td>2</td>\n",
              "      <td>5</td>\n",
              "      <td>18</td>\n",
              "      <td>-75.703816</td>\n",
              "      <td>6.221806</td>\n",
              "      <td>3</td>\n",
              "      <td>0</td>\n",
              "      <td>0</td>\n",
              "      <td>0</td>\n",
              "      <td>0</td>\n",
              "      <td>...</td>\n",
              "      <td>0</td>\n",
              "      <td>1</td>\n",
              "      <td>0</td>\n",
              "      <td>0</td>\n",
              "      <td>0</td>\n",
              "      <td>0</td>\n",
              "      <td>0</td>\n",
              "      <td>0</td>\n",
              "      <td>0</td>\n",
              "      <td>0</td>\n",
              "    </tr>\n",
              "  </tbody>\n",
              "</table>\n",
              "<p>5 rows × 47 columns</p>\n",
              "</div>\n",
              "      <button class=\"colab-df-convert\" onclick=\"convertToInteractive('df-5c0b49aa-8886-4cdd-8c84-303fa5a036f0')\"\n",
              "              title=\"Convert this dataframe to an interactive table.\"\n",
              "              style=\"display:none;\">\n",
              "        \n",
              "  <svg xmlns=\"http://www.w3.org/2000/svg\" height=\"24px\"viewBox=\"0 0 24 24\"\n",
              "       width=\"24px\">\n",
              "    <path d=\"M0 0h24v24H0V0z\" fill=\"none\"/>\n",
              "    <path d=\"M18.56 5.44l.94 2.06.94-2.06 2.06-.94-2.06-.94-.94-2.06-.94 2.06-2.06.94zm-11 1L8.5 8.5l.94-2.06 2.06-.94-2.06-.94L8.5 2.5l-.94 2.06-2.06.94zm10 10l.94 2.06.94-2.06 2.06-.94-2.06-.94-.94-2.06-.94 2.06-2.06.94z\"/><path d=\"M17.41 7.96l-1.37-1.37c-.4-.4-.92-.59-1.43-.59-.52 0-1.04.2-1.43.59L10.3 9.45l-7.72 7.72c-.78.78-.78 2.05 0 2.83L4 21.41c.39.39.9.59 1.41.59.51 0 1.02-.2 1.41-.59l7.78-7.78 2.81-2.81c.8-.78.8-2.07 0-2.86zM5.41 20L4 18.59l7.72-7.72 1.47 1.35L5.41 20z\"/>\n",
              "  </svg>\n",
              "      </button>\n",
              "      \n",
              "  <style>\n",
              "    .colab-df-container {\n",
              "      display:flex;\n",
              "      flex-wrap:wrap;\n",
              "      gap: 12px;\n",
              "    }\n",
              "\n",
              "    .colab-df-convert {\n",
              "      background-color: #E8F0FE;\n",
              "      border: none;\n",
              "      border-radius: 50%;\n",
              "      cursor: pointer;\n",
              "      display: none;\n",
              "      fill: #1967D2;\n",
              "      height: 32px;\n",
              "      padding: 0 0 0 0;\n",
              "      width: 32px;\n",
              "    }\n",
              "\n",
              "    .colab-df-convert:hover {\n",
              "      background-color: #E2EBFA;\n",
              "      box-shadow: 0px 1px 2px rgba(60, 64, 67, 0.3), 0px 1px 3px 1px rgba(60, 64, 67, 0.15);\n",
              "      fill: #174EA6;\n",
              "    }\n",
              "\n",
              "    [theme=dark] .colab-df-convert {\n",
              "      background-color: #3B4455;\n",
              "      fill: #D2E3FC;\n",
              "    }\n",
              "\n",
              "    [theme=dark] .colab-df-convert:hover {\n",
              "      background-color: #434B5C;\n",
              "      box-shadow: 0px 1px 3px 1px rgba(0, 0, 0, 0.15);\n",
              "      filter: drop-shadow(0px 1px 2px rgba(0, 0, 0, 0.3));\n",
              "      fill: #FFFFFF;\n",
              "    }\n",
              "  </style>\n",
              "\n",
              "      <script>\n",
              "        const buttonEl =\n",
              "          document.querySelector('#df-5c0b49aa-8886-4cdd-8c84-303fa5a036f0 button.colab-df-convert');\n",
              "        buttonEl.style.display =\n",
              "          google.colab.kernel.accessAllowed ? 'block' : 'none';\n",
              "\n",
              "        async function convertToInteractive(key) {\n",
              "          const element = document.querySelector('#df-5c0b49aa-8886-4cdd-8c84-303fa5a036f0');\n",
              "          const dataTable =\n",
              "            await google.colab.kernel.invokeFunction('convertToInteractive',\n",
              "                                                     [key], {});\n",
              "          if (!dataTable) return;\n",
              "\n",
              "          const docLinkHtml = 'Like what you see? Visit the ' +\n",
              "            '<a target=\"_blank\" href=https://colab.research.google.com/notebooks/data_table.ipynb>data table notebook</a>'\n",
              "            + ' to learn more about interactive tables.';\n",
              "          element.innerHTML = '';\n",
              "          dataTable['output_type'] = 'display_data';\n",
              "          await google.colab.output.renderOutput(dataTable, element);\n",
              "          const docLink = document.createElement('div');\n",
              "          docLink.innerHTML = docLinkHtml;\n",
              "          element.appendChild(docLink);\n",
              "        }\n",
              "      </script>\n",
              "    </div>\n",
              "  </div>\n",
              "  "
            ]
          },
          "metadata": {},
          "execution_count": 218
        }
      ]
    },
    {
      "cell_type": "code",
      "source": [
        "datos.info()"
      ],
      "metadata": {
        "colab": {
          "base_uri": "https://localhost:8080/"
        },
        "id": "PJYuOl3mDKVO",
        "outputId": "382781b0-1abc-4674-87f5-967e7ec6bf39"
      },
      "execution_count": null,
      "outputs": [
        {
          "output_type": "stream",
          "name": "stdout",
          "text": [
            "<class 'pandas.core.frame.DataFrame'>\n",
            "Int64Index: 23558 entries, 0 to 23576\n",
            "Data columns (total 47 columns):\n",
            " #   Column                                             Non-Null Count  Dtype  \n",
            "---  ------                                             --------------  -----  \n",
            " 0   GRAVEDAD                                           23558 non-null  int64  \n",
            " 1   MES                                                23558 non-null  int64  \n",
            " 2   DIA                                                23558 non-null  int64  \n",
            " 3   LONGITUD                                           23558 non-null  float64\n",
            " 4   LATITUD                                            23558 non-null  float64\n",
            " 5   Dia_Nomb                                           23558 non-null  int64  \n",
            " 6   CLASE_Atropello                                    23558 non-null  uint8  \n",
            " 7   CLASE_Caida Ocupante                               23558 non-null  uint8  \n",
            " 8   CLASE_Choque                                       23558 non-null  uint8  \n",
            " 9   CLASE_Incendio                                     23558 non-null  uint8  \n",
            " 10  CLASE_Otro                                         23558 non-null  uint8  \n",
            " 11  CLASE_Volcamiento                                  23558 non-null  uint8  \n",
            " 12  COMUNA_                                            23558 non-null  uint8  \n",
            " 13  COMUNA_Aranjuez                                    23558 non-null  uint8  \n",
            " 14  COMUNA_Belén                                       23558 non-null  uint8  \n",
            " 15  COMUNA_Buenos Aires                                23558 non-null  uint8  \n",
            " 16  COMUNA_Castilla                                    23558 non-null  uint8  \n",
            " 17  COMUNA_Corregimiento de Altavista                  23558 non-null  uint8  \n",
            " 18  COMUNA_Corregimiento de San Antonio de Prado       23558 non-null  uint8  \n",
            " 19  COMUNA_Corregimiento de San Cristóbal              23558 non-null  uint8  \n",
            " 20  COMUNA_Corregimiento de San Sebastián de Palmitas  23558 non-null  uint8  \n",
            " 21  COMUNA_Corregimiento de Santa Elena                23558 non-null  uint8  \n",
            " 22  COMUNA_Doce de Octubre                             23558 non-null  uint8  \n",
            " 23  COMUNA_El Poblado                                  23558 non-null  uint8  \n",
            " 24  COMUNA_Guayabal                                    23558 non-null  uint8  \n",
            " 25  COMUNA_La América                                  23558 non-null  uint8  \n",
            " 26  COMUNA_La Candelaria                               23558 non-null  uint8  \n",
            " 27  COMUNA_Laureles Estadio                            23558 non-null  uint8  \n",
            " 28  COMUNA_Manrique                                    23558 non-null  uint8  \n",
            " 29  COMUNA_Popular                                     23558 non-null  uint8  \n",
            " 30  COMUNA_Robledo                                     23558 non-null  uint8  \n",
            " 31  COMUNA_San Javier                                  23558 non-null  uint8  \n",
            " 32  COMUNA_Santa Cruz                                  23558 non-null  uint8  \n",
            " 33  COMUNA_Sin inf                                     23558 non-null  uint8  \n",
            " 34  COMUNA_Villa Hermosa                               23558 non-null  uint8  \n",
            " 35  DISENO_Ciclo Ruta                                  23558 non-null  uint8  \n",
            " 36  DISENO_Glorieta                                    23558 non-null  uint8  \n",
            " 37  DISENO_Interseccion                                23558 non-null  uint8  \n",
            " 38  DISENO_Lote o Predio                               23558 non-null  uint8  \n",
            " 39  DISENO_Paso Elevado                                23558 non-null  uint8  \n",
            " 40  DISENO_Paso Inferior                               23558 non-null  uint8  \n",
            " 41  DISENO_Paso a Nivel                                23558 non-null  uint8  \n",
            " 42  DISENO_Pontón                                      23558 non-null  uint8  \n",
            " 43  DISENO_Puente                                      23558 non-null  uint8  \n",
            " 44  DISENO_Tramo de via                                23558 non-null  uint8  \n",
            " 45  DISENO_Tunel                                       23558 non-null  uint8  \n",
            " 46  DISENO_Via peatonal                                23558 non-null  uint8  \n",
            "dtypes: float64(2), int64(4), uint8(41)\n",
            "memory usage: 2.2 MB\n"
          ]
        }
      ]
    },
    {
      "cell_type": "code",
      "source": [
        "corr=datos.corr().round(2)\n",
        "sn.set(rc = {'figure.figsize':(20,8)})\n",
        "sn.heatmap(corr, cmap='coolwarm')\n",
        "plt.show() ##En este caso el mapa de correlación no nos sirve"
      ],
      "metadata": {
        "colab": {
          "base_uri": "https://localhost:8080/",
          "height": 781
        },
        "id": "g6BVKmTeDUTT",
        "outputId": "89bfee3b-daeb-4bdf-96ea-b012572f101a"
      },
      "execution_count": null,
      "outputs": [
        {
          "output_type": "display_data",
          "data": {
            "text/plain": [
              "<Figure size 1440x576 with 2 Axes>"
            ],
            "image/png": "[encoded data removed]"
          },
          "metadata": {}
        }
      ]
    },
    {
      "cell_type": "markdown",
      "metadata": {
        "id": "rbIVMEBZyiZQ"
      },
      "source": [
        "# Modelos de Machine Learning"
      ]
    },
    {
      "cell_type": "code",
      "source": [
        "#Librerias \n",
        "from sklearn.preprocessing import StandardScaler\n",
        "from sklearn.pipeline import make_pipeline\n",
        "from sklearn.neighbors import KNeighborsClassifier\n",
        "from sklearn.model_selection import train_test_split"
      ],
      "metadata": {
        "id": "OibqSU0oG9fI"
      },
      "execution_count": null,
      "outputs": []
    },
    {
      "cell_type": "code",
      "source": [
        "#matriz de características y vector objetivo\n",
        "X=datos.drop(columns='GRAVEDAD')\n",
        "y=datos['GRAVEDAD']\n",
        "print(X.shape)\n",
        "print(y.shape)"
      ],
      "metadata": {
        "colab": {
          "base_uri": "https://localhost:8080/"
        },
        "id": "hBO76DhQJBlI",
        "outputId": "1967aff9-98ad-40a2-d613-a3280098aab1"
      },
      "execution_count": null,
      "outputs": [
        {
          "output_type": "stream",
          "name": "stdout",
          "text": [
            "(23558, 46)\n",
            "(23558,)\n"
          ]
        }
      ]
    },
    {
      "cell_type": "code",
      "source": [
        "# Train Test Split\n",
        "X_train, X_test, y_train, y_test = train_test_split(X, y, random_state = 42)"
      ],
      "metadata": {
        "id": "1L9rHCZgJsA-"
      },
      "execution_count": null,
      "outputs": []
    },
    {
      "cell_type": "code",
      "source": [
        "#estandarización\n",
        "scaler = StandardScaler()"
      ],
      "metadata": {
        "id": "e5mak0usKHR1"
      },
      "execution_count": null,
      "outputs": []
    },
    {
      "cell_type": "markdown",
      "source": [
        "▶ K-Vecinos Más Cercanos (KNN)"
      ],
      "metadata": {
        "id": "gaF_n6oDGLEW"
      }
    },
    {
      "cell_type": "code",
      "source": [
        "knn = KNeighborsClassifier(n_neighbors=2)"
      ],
      "metadata": {
        "id": "a7YTeeElKKjE"
      },
      "execution_count": null,
      "outputs": []
    },
    {
      "cell_type": "code",
      "source": [
        "knn.get_params()"
      ],
      "metadata": {
        "colab": {
          "base_uri": "https://localhost:8080/"
        },
        "id": "lnrjpIqBGI-Y",
        "outputId": "bd0f5983-0c05-4160-b676-0fcd26a955a5"
      },
      "execution_count": null,
      "outputs": [
        {
          "output_type": "execute_result",
          "data": {
            "text/plain": [
              "{'algorithm': 'auto',\n",
              " 'leaf_size': 30,\n",
              " 'metric': 'minkowski',\n",
              " 'metric_params': None,\n",
              " 'n_jobs': None,\n",
              " 'n_neighbors': 2,\n",
              " 'p': 2,\n",
              " 'weights': 'uniform'}"
            ]
          },
          "metadata": {},
          "execution_count": 246
        }
      ]
    },
    {
      "cell_type": "code",
      "execution_count": null,
      "metadata": {
        "id": "SGCCdrrT8q_o",
        "colab": {
          "base_uri": "https://localhost:8080/"
        },
        "outputId": "a85fdcc0-3bf4-4a15-a6e9-c37921f9626a"
      },
      "outputs": [
        {
          "output_type": "execute_result",
          "data": {
            "text/plain": [
              "Pipeline(steps=[('standardscaler', StandardScaler()),\n",
              "                ('kneighborsclassifier', KNeighborsClassifier(n_neighbors=2))])"
            ]
          },
          "metadata": {},
          "execution_count": 247
        }
      ],
      "source": [
        "# scaler y el modelo en un pipeline y ajustar el pipeline en los datos de entrenamiento.\n",
        "knn_pipe = make_pipeline(scaler, knn)\n",
        "knn_pipe.fit(X_train, y_train)"
      ]
    },
    {
      "cell_type": "code",
      "source": [
        "#prediccion del conjunto de pruebas \n",
        "predictions = knn_pipe.predict(X_test)\n",
        "predictions"
      ],
      "metadata": {
        "colab": {
          "base_uri": "https://localhost:8080/"
        },
        "id": "rNRIxQ_9NQiG",
        "outputId": "8c0b2260-009f-4b23-9f5e-f7f190b19d4f"
      },
      "execution_count": null,
      "outputs": [
        {
          "output_type": "execute_result",
          "data": {
            "text/plain": [
              "array([1, 1, 2, ..., 2, 1, 2])"
            ]
          },
          "metadata": {},
          "execution_count": 232
        }
      ]
    },
    {
      "cell_type": "code",
      "execution_count": null,
      "metadata": {
        "id": "W3iWo7iUyhPG",
        "colab": {
          "base_uri": "https://localhost:8080/"
        },
        "outputId": "c99c826f-4da2-4f88-d9cc-b8848a7ebb59"
      },
      "outputs": [
        {
          "output_type": "execute_result",
          "data": {
            "text/plain": [
              "0.7275042444821732"
            ]
          },
          "metadata": {},
          "execution_count": 248
        }
      ],
      "source": [
        "#rendimiento \n",
        "acc_score = knn_pipe.score(X_test, y_test)\n",
        "acc_score"
      ]
    },
    {
      "cell_type": "markdown",
      "source": [
        "Encontramos que el modelo puede predecir en un 69%  de la veces "
      ],
      "metadata": {
        "id": "zqaA8gB9Ni3w"
      }
    },
    {
      "cell_type": "code",
      "source": [
        "#resumen de precisón \n",
        "print('Accuracy of K-NN classifier on training set: {:.2f}'\n",
        "     .format(knn_pipe.score(X_train, y_train)))\n",
        "print('Accuracy of K-NN classifier on test set: {:.2f}'\n",
        "     .format(knn_pipe.score(X_test, y_test)))"
      ],
      "metadata": {
        "colab": {
          "base_uri": "https://localhost:8080/"
        },
        "id": "ZIcprM-OloMW",
        "outputId": "4343b455-8f63-4672-ad1e-1871983804e6"
      },
      "execution_count": null,
      "outputs": [
        {
          "output_type": "stream",
          "name": "stdout",
          "text": [
            "Accuracy of K-NN classifier on training set: 0.85\n",
            "Accuracy of K-NN classifier on test set: 0.73\n"
          ]
        }
      ]
    },
    {
      "cell_type": "code",
      "source": [
        "from sklearn.metrics import confusion_matrix\n",
        "from sklearn.metrics import accuracy_score\n",
        "from sklearn.metrics import precision_score\n",
        "from sklearn.metrics import classification_report"
      ],
      "metadata": {
        "id": "5aethS3zhE5E"
      },
      "execution_count": null,
      "outputs": []
    },
    {
      "cell_type": "code",
      "source": [
        "#MAtriz de confusión \n",
        "print(confusion_matrix(y_test,predictions))\n",
        "\n",
        "print(classification_report(y_test,predictions))"
      ],
      "metadata": {
        "colab": {
          "base_uri": "https://localhost:8080/"
        },
        "id": "olHp5tZ2kFaQ",
        "outputId": "1119dd31-0557-46a5-8a09-6bd738d65472"
      },
      "execution_count": null,
      "outputs": [
        {
          "output_type": "stream",
          "name": "stdout",
          "text": [
            "[[1615  811    8]\n",
            " [ 918 2477   21]\n",
            " [  16   24    0]]\n",
            "              precision    recall  f1-score   support\n",
            "\n",
            "           1       0.63      0.66      0.65      2434\n",
            "           2       0.75      0.73      0.74      3416\n",
            "           3       0.00      0.00      0.00        40\n",
            "\n",
            "    accuracy                           0.69      5890\n",
            "   macro avg       0.46      0.46      0.46      5890\n",
            "weighted avg       0.70      0.69      0.69      5890\n",
            "\n"
          ]
        }
      ]
    },
    {
      "cell_type": "markdown",
      "source": [
        "▶ XGBoost "
      ],
      "metadata": {
        "id": "zUoVizaoSRNW"
      }
    },
    {
      "cell_type": "code",
      "source": [
        "from xgboost import XGBClassifier\n",
        "import xgboost as xgb"
      ],
      "metadata": {
        "id": "XAOVe4QgNhhA"
      },
      "execution_count": null,
      "outputs": []
    },
    {
      "cell_type": "code",
      "source": [
        "#Clasificador \n",
        "model= XGBClassifier()\n",
        "#Fitting mode\n",
        "model.fit(X_train,y_train)"
      ],
      "metadata": {
        "colab": {
          "base_uri": "https://localhost:8080/"
        },
        "id": "4_6TuTgPsurq",
        "outputId": "a264b66e-5863-40bd-cec5-201bf2b3145e"
      },
      "execution_count": null,
      "outputs": [
        {
          "output_type": "execute_result",
          "data": {
            "text/plain": [
              "XGBClassifier(objective='multi:softprob')"
            ]
          },
          "metadata": {},
          "execution_count": 261
        }
      ]
    },
    {
      "cell_type": "code",
      "source": [
        "#variables más importantes \n",
        "xgb.plot_importance(model, ax=plt.gca())"
      ],
      "metadata": {
        "colab": {
          "base_uri": "https://localhost:8080/",
          "height": 535
        },
        "id": "I8H7725puET1",
        "outputId": "d952175b-d963-4f70-cf92-f9420c38c7a0"
      },
      "execution_count": null,
      "outputs": [
        {
          "output_type": "execute_result",
          "data": {
            "text/plain": [
              "<matplotlib.axes._subplots.AxesSubplot at 0x7f0daaed3250>"
            ]
          },
          "metadata": {},
          "execution_count": 262
        },
        {
          "output_type": "display_data",
          "data": {
            "text/plain": [
              "<Figure size 1440x576 with 1 Axes>"
            ],
            "image/png": "[encoded data removed]"
          },
          "metadata": {}
        }
      ]
    },
    {
      "cell_type": "markdown",
      "source": [
        "vemos las variables en orden de su importancia "
      ],
      "metadata": {
        "id": "6yvOY2wPwhB8"
      }
    },
    {
      "cell_type": "code",
      "source": [
        "#Accuracy \n",
        "\n",
        "model.score(X_train,y_train)"
      ],
      "metadata": {
        "colab": {
          "base_uri": "https://localhost:8080/"
        },
        "id": "Yj72WvQyvINK",
        "outputId": "fb79624d-2218-4980-be7c-d749da1cf006"
      },
      "execution_count": null,
      "outputs": [
        {
          "output_type": "execute_result",
          "data": {
            "text/plain": [
              "0.7746207833371066"
            ]
          },
          "metadata": {},
          "execution_count": 263
        }
      ]
    },
    {
      "cell_type": "code",
      "source": [
        "pred_train=model.predict(X_train)"
      ],
      "metadata": {
        "id": "Tji06RhJvVgt"
      },
      "execution_count": null,
      "outputs": []
    },
    {
      "cell_type": "code",
      "source": [
        "confusion_matrix(y_train,pred_train)"
      ],
      "metadata": {
        "colab": {
          "base_uri": "https://localhost:8080/"
        },
        "id": "_i0btV7lvc4Y",
        "outputId": "f2d51acc-8851-4ac8-dc42-16482c9a4b8d"
      },
      "execution_count": null,
      "outputs": [
        {
          "output_type": "execute_result",
          "data": {
            "text/plain": [
              "array([[6888,  447,    0],\n",
              "       [3446, 6798,    0],\n",
              "       [  42,   47,    0]])"
            ]
          },
          "metadata": {},
          "execution_count": 265
        }
      ]
    },
    {
      "cell_type": "code",
      "source": [
        "predi=model.predict(X_test)"
      ],
      "metadata": {
        "id": "mLWSNLO1xTlo"
      },
      "execution_count": null,
      "outputs": []
    },
    {
      "cell_type": "code",
      "source": [
        "predi"
      ],
      "metadata": {
        "colab": {
          "base_uri": "https://localhost:8080/"
        },
        "id": "qbYrG2XTxh1y",
        "outputId": "5763b661-35db-4580-db2c-42ded7082c77"
      },
      "execution_count": null,
      "outputs": [
        {
          "output_type": "execute_result",
          "data": {
            "text/plain": [
              "array([1, 1, 2, ..., 1, 1, 2])"
            ]
          },
          "metadata": {},
          "execution_count": 267
        }
      ]
    },
    {
      "cell_type": "code",
      "source": [
        "model.score(X_test,y_test)"
      ],
      "metadata": {
        "colab": {
          "base_uri": "https://localhost:8080/"
        },
        "id": "rZF4pNEax1kZ",
        "outputId": "5d0ca5eb-fcff-4ca7-968a-b9a8f838ffaf"
      },
      "execution_count": null,
      "outputs": [
        {
          "output_type": "execute_result",
          "data": {
            "text/plain": [
              "0.7563667232597623"
            ]
          },
          "metadata": {},
          "execution_count": 269
        }
      ]
    },
    {
      "cell_type": "code",
      "source": [
        "print(classification_report(y_test,predi))"
      ],
      "metadata": {
        "colab": {
          "base_uri": "https://localhost:8080/"
        },
        "id": "QPK5utJ7yIj6",
        "outputId": "aeb8b3b0-2c54-4326-bb16-1fb68e86a516"
      },
      "execution_count": null,
      "outputs": [
        {
          "output_type": "stream",
          "name": "stdout",
          "text": [
            "              precision    recall  f1-score   support\n",
            "\n",
            "           1       0.64      0.94      0.76      2434\n",
            "           2       0.93      0.63      0.75      3416\n",
            "           3       0.00      0.00      0.00        40\n",
            "\n",
            "    accuracy                           0.76      5890\n",
            "   macro avg       0.52      0.53      0.51      5890\n",
            "weighted avg       0.81      0.76      0.75      5890\n",
            "\n"
          ]
        },
        {
          "output_type": "stream",
          "name": "stderr",
          "text": [
            "/usr/local/lib/python3.8/dist-packages/sklearn/metrics/_classification.py:1318: UndefinedMetricWarning: Precision and F-score are ill-defined and being set to 0.0 in labels with no predicted samples. Use `zero_division` parameter to control this behavior.\n",
            "  _warn_prf(average, modifier, msg_start, len(result))\n",
            "/usr/local/lib/python3.8/dist-packages/sklearn/metrics/_classification.py:1318: UndefinedMetricWarning: Precision and F-score are ill-defined and being set to 0.0 in labels with no predicted samples. Use `zero_division` parameter to control this behavior.\n",
            "  _warn_prf(average, modifier, msg_start, len(result))\n",
            "/usr/local/lib/python3.8/dist-packages/sklearn/metrics/_classification.py:1318: UndefinedMetricWarning: Precision and F-score are ill-defined and being set to 0.0 in labels with no predicted samples. Use `zero_division` parameter to control this behavior.\n",
            "  _warn_prf(average, modifier, msg_start, len(result))\n"
          ]
        }
      ]
    },
    {
      "cell_type": "markdown",
      "source": [
        "Hay un sobre ajuste"
      ],
      "metadata": {
        "id": "N5ZOx73Bzdiq"
      }
    }
  ],
  "metadata": {
    "colab": {
      "provenance": [],
      "collapsed_sections": [
        "zmIU5LRIm85q",
        "d-m2wtKuJew_",
        "rbIVMEBZyiZQ"
      ],
      "mount_file_id": "19RYB6enHJDRea5nTFKJVRhUmz3uq2VTh",
      "authorship_tag": "ABX9TyNHm9awsjtK0vY6RzjP+sM7",
      "include_colab_link": true
    },
    "kernelspec": {
      "display_name": "Python 3",
      "name": "python3"
    },
    "language_info": {
      "name": "python"
    }
  },
  "nbformat": 4,
  "nbformat_minor": 0
}